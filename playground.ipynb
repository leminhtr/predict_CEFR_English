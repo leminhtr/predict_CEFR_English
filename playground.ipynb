{
 "cells": [
  {
   "cell_type": "code",
   "execution_count": 6,
   "metadata": {},
   "outputs": [],
   "source": [
    "%matplotlib inline"
   ]
  },
  {
   "cell_type": "code",
   "execution_count": 3,
   "metadata": {},
   "outputs": [],
   "source": [
    "import pandas as pd\n",
    "import numpy as np\n",
    "import sklearn\n",
    "from sklearn.preprocessing import StandardScaler\n",
    "from sklearn.decomposition import PCA\n",
    "import matplotlib.pyplot as plt\n",
    "import seaborn as sns"
   ]
  },
  {
   "cell_type": "markdown",
   "metadata": {},
   "source": [
    "# Load train set"
   ]
  },
  {
   "cell_type": "code",
   "execution_count": 3,
   "metadata": {},
   "outputs": [
    {
     "data": {
      "text/plain": [
       "array(['sentences', 'words', 'letters.all', 'syllables', 'punct',\n",
       "       'avg.sentc.length', 'avg.word.length', 'avg.syll.word',\n",
       "       'sntc.per.word', 'TTR', 'ARI', 'Bormuth', 'Coleman.C1',\n",
       "       'Coleman.C2', 'Coleman.C3', 'Coleman.C4', 'Coleman.Liau',\n",
       "       'Dale.Chall', 'Danielson.Bryan.DB1', 'Danielson.Bryan.DB2',\n",
       "       'Dickes.Steiwer', 'DRP', 'ELF', 'Farr.Jenkins.Paterson', 'Flesch',\n",
       "       'Flesch.Kincaid', 'FOG', 'FORCAST', 'Fucks', 'Linsear.Write',\n",
       "       'LIX', 'nWS1', 'nWS2', 'nWS3', 'nWS4', 'RIX', 'SMOG', 'Spache',\n",
       "       'Strain', 'Traenkle.Bailer.TB1', 'Traenkle.Bailer.TB2', 'TRI',\n",
       "       'Tuldava', 'Wheeler.Smith', 'text', 'CTTR', 'HD-D (vocd-D)',\n",
       "       \"Herdan's C\", 'Maas a', 'Maas lgV0', 'MATTR', 'MSTTR', 'MTLD',\n",
       "       'Root TTR', 'Summer', 'TTR.1', 'Uber index', \"Yule's K\"],\n",
       "      dtype=object)"
      ]
     },
     "execution_count": 3,
     "metadata": {},
     "output_type": "execute_result"
    }
   ],
   "source": [
    "train_set = pd.read_csv('../train_cap2018.csv')\n",
    "(nrow_default, ncol_default) = train_set.shape\n",
    "features_list_default = train_set.columns.values[1:ncol_default-1]\n",
    "features_list_default"
   ]
  },
  {
   "cell_type": "markdown",
   "metadata": {},
   "source": [
    "## Drop string values"
   ]
  },
  {
   "cell_type": "code",
   "execution_count": 9,
   "metadata": {},
   "outputs": [],
   "source": [
    "df = train_set\n",
    "df = df.drop('fulltext', axis = 1)"
   ]
  },
  {
   "cell_type": "code",
   "execution_count": 10,
   "metadata": {},
   "outputs": [],
   "source": [
    "def prepare_data(df):\n",
    "    df = df.drop('fulltext', axis = 1)\n",
    "    df = df.drop('MATTR', axis=1)\n",
    "    df = df.drop('MSTTR', axis=1)\n",
    "    return df\n",
    "\n",
    "def split_df_to_data_target(df):\n",
    "    # Get list of features w/o feature containing string values\n",
    "    (nrow, ncol) = df.shape\n",
    "    features = df.columns.values[0:ncol-1]\n",
    "\n",
    "    # Separating out the features\n",
    "    x = df.loc[:, features].values\n",
    "\n",
    "    # Separating out the target\n",
    "    y = df.loc[:,['level1']].values\n",
    "    return x,y\n",
    "\n",
    "def standard_scale_x_data(x):\n",
    "    return StandardScaler().fit_transform(x)"
   ]
  },
  {
   "cell_type": "code",
   "execution_count": 11,
   "metadata": {
    "scrolled": true
   },
   "outputs": [
    {
     "name": "stdout",
     "output_type": "stream",
     "text": [
      "<class 'pandas.core.frame.DataFrame'>\n",
      "RangeIndex: 27310 entries, 0 to 27309\n",
      "Data columns (total 59 columns):\n",
      "sentences                27310 non-null int64\n",
      "words                    27310 non-null int64\n",
      "letters.all              27310 non-null int64\n",
      "syllables                27310 non-null int64\n",
      "punct                    27310 non-null int64\n",
      "avg.sentc.length         27310 non-null float64\n",
      "avg.word.length          27310 non-null float64\n",
      "avg.syll.word            27310 non-null float64\n",
      "sntc.per.word            27310 non-null float64\n",
      "TTR                      27310 non-null float64\n",
      "ARI                      27310 non-null float64\n",
      "Bormuth                  27310 non-null float64\n",
      "Coleman.C1               27310 non-null int64\n",
      "Coleman.C2               27310 non-null int64\n",
      "Coleman.C3               27310 non-null int64\n",
      "Coleman.C4               27310 non-null int64\n",
      "Coleman.Liau             27310 non-null int64\n",
      "Dale.Chall               27310 non-null float64\n",
      "Danielson.Bryan.DB1      27310 non-null float64\n",
      "Danielson.Bryan.DB2      27310 non-null float64\n",
      "Dickes.Steiwer           27310 non-null float64\n",
      "DRP                      27310 non-null float64\n",
      "ELF                      27310 non-null float64\n",
      "Farr.Jenkins.Paterson    27310 non-null float64\n",
      "Flesch                   27310 non-null float64\n",
      "Flesch.Kincaid           27310 non-null float64\n",
      "FOG                      27310 non-null float64\n",
      "FORCAST                  27310 non-null float64\n",
      "Fucks                    27310 non-null float64\n",
      "Linsear.Write            27310 non-null float64\n",
      "LIX                      27310 non-null float64\n",
      "nWS1                     27310 non-null float64\n",
      "nWS2                     27310 non-null float64\n",
      "nWS3                     27310 non-null float64\n",
      "nWS4                     27310 non-null float64\n",
      "RIX                      27310 non-null float64\n",
      "SMOG                     27310 non-null float64\n",
      "Spache                   27310 non-null float64\n",
      "Strain                   27310 non-null float64\n",
      "Traenkle.Bailer.TB1      27310 non-null float64\n",
      "Traenkle.Bailer.TB2      27310 non-null float64\n",
      "TRI                      27310 non-null float64\n",
      "Tuldava                  27310 non-null float64\n",
      "Wheeler.Smith            27310 non-null float64\n",
      "text                     27310 non-null int64\n",
      "CTTR                     27310 non-null float64\n",
      "HD-D (vocd-D)            27310 non-null float64\n",
      "Herdan's C               27310 non-null float64\n",
      "Maas a                   27310 non-null float64\n",
      "Maas lgV0                27310 non-null float64\n",
      "MATTR                    5459 non-null float64\n",
      "MSTTR                    5674 non-null float64\n",
      "MTLD                     27310 non-null float64\n",
      "Root TTR                 27310 non-null float64\n",
      "Summer                   27310 non-null float64\n",
      "TTR.1                    27310 non-null float64\n",
      "Uber index               27310 non-null float64\n",
      "Yule's K                 27310 non-null float64\n",
      "level1                   27310 non-null object\n",
      "dtypes: float64(47), int64(11), object(1)\n",
      "memory usage: 12.3+ MB\n"
     ]
    }
   ],
   "source": [
    "df.info()"
   ]
  },
  {
   "cell_type": "code",
   "execution_count": 163,
   "metadata": {},
   "outputs": [
    {
     "data": {
      "text/plain": [
       "A1    0.416001\n",
       "A2    0.281509\n",
       "B1    0.197107\n",
       "B2    0.085573\n",
       "C1    0.017979\n",
       "C2    0.001831\n",
       "dtype: float64"
      ]
     },
     "execution_count": 163,
     "metadata": {},
     "output_type": "execute_result"
    }
   ],
   "source": [
    "# len(set(y))\n",
    "tmp = y.flatten()\n",
    "pd.Series(tmp).value_counts()/len(tmp)"
   ]
  },
  {
   "cell_type": "code",
   "execution_count": 12,
   "metadata": {},
   "outputs": [
    {
     "data": {
      "text/plain": [
       "59"
      ]
     },
     "execution_count": 12,
     "metadata": {},
     "output_type": "execute_result"
    }
   ],
   "source": [
    "(nrow, ncol) = df.shape\n",
    "ncol"
   ]
  },
  {
   "cell_type": "code",
   "execution_count": 13,
   "metadata": {},
   "outputs": [],
   "source": [
    "# Get max values for each columns\n",
    "max_values_series = df.describe().loc['max'].sort_values(axis=0, ascending=False)\n",
    "# max_values_series"
   ]
  },
  {
   "cell_type": "code",
   "execution_count": 14,
   "metadata": {},
   "outputs": [
    {
     "data": {
      "text/plain": [
       "[<matplotlib.lines.Line2D at 0x2e48bb26e80>]"
      ]
     },
     "execution_count": 14,
     "metadata": {},
     "output_type": "execute_result"
    },
    {
     "data": {
      "image/png": "[encoded data removed]",
      "text/plain": [
       "<matplotlib.figure.Figure at 0x2e48ba8a7f0>"
      ]
     },
     "metadata": {},
     "output_type": "display_data"
    }
   ],
   "source": [
    "fig,ax = plt.subplots(1)\n",
    "ax.get_xaxis().set_ticklabels([])\n",
    "ax.set_ylabel('Max value')\n",
    "ax.set_xlabel('Feature')\n",
    "ax.plot(max_values_series)"
   ]
  },
  {
   "cell_type": "markdown",
   "metadata": {},
   "source": [
    "## Plot correlation"
   ]
  },
  {
   "cell_type": "code",
   "execution_count": 15,
   "metadata": {
    "scrolled": true
   },
   "outputs": [
    {
     "data": {
      "text/plain": [
       "<matplotlib.axes._subplots.AxesSubplot at 0x2e48bda9a58>"
      ]
     },
     "execution_count": 15,
     "metadata": {},
     "output_type": "execute_result"
    },
    {
     "data": {
      "image/png": "[encoded data removed]",
      "text/plain": [
       "<matplotlib.figure.Figure at 0x2e48c6cde48>"
      ]
     },
     "metadata": {},
     "output_type": "display_data"
    }
   ],
   "source": [
    "corr = df.corr()\n",
    "\n",
    "# Generate a mask for the upper triangle\n",
    "mask = np.zeros_like(corr, dtype=np.bool)\n",
    "mask[np.triu_indices_from(mask)] = True\n",
    "\n",
    "# Set up the matplotlib figure\n",
    "f, ax = plt.subplots(figsize=(11, 9))\n",
    "\n",
    "# Set label\n",
    "ax.set_title('Correlation heatmap')\n",
    "\n",
    "# Generate a custom diverging colormap\n",
    "cmap = sns.diverging_palette(220, 10, as_cmap=True)\n",
    "\n",
    "# Draw the heatmap with the mask and correct aspect ratio\n",
    "sns.heatmap(corr, mask=mask, cmap=cmap, vmax=.3, center=0,\n",
    "            square=True, linewidths=.5, cbar_kws={\"shrink\": .5})"
   ]
  },
  {
   "cell_type": "markdown",
   "metadata": {},
   "source": [
    "## Checking for NaN values"
   ]
  },
  {
   "cell_type": "code",
   "execution_count": 16,
   "metadata": {},
   "outputs": [
    {
     "data": {
      "text/html": [
       "<div>\n",
       "<style scoped>\n",
       "    .dataframe tbody tr th:only-of-type {\n",
       "        vertical-align: middle;\n",
       "    }\n",
       "\n",
       "    .dataframe tbody tr th {\n",
       "        vertical-align: top;\n",
       "    }\n",
       "\n",
       "    .dataframe thead th {\n",
       "        text-align: right;\n",
       "    }\n",
       "</style>\n",
       "<table border=\"1\" class=\"dataframe\">\n",
       "  <thead>\n",
       "    <tr style=\"text-align: right;\">\n",
       "      <th></th>\n",
       "      <th>Column name</th>\n",
       "      <th>Ratio of non NaN values</th>\n",
       "    </tr>\n",
       "  </thead>\n",
       "  <tbody>\n",
       "    <tr>\n",
       "      <th>50</th>\n",
       "      <td>MATTR</td>\n",
       "      <td>0.199890</td>\n",
       "    </tr>\n",
       "    <tr>\n",
       "      <th>51</th>\n",
       "      <td>MSTTR</td>\n",
       "      <td>0.207763</td>\n",
       "    </tr>\n",
       "    <tr>\n",
       "      <th>0</th>\n",
       "      <td>sentences</td>\n",
       "      <td>1.000000</td>\n",
       "    </tr>\n",
       "    <tr>\n",
       "      <th>31</th>\n",
       "      <td>nWS1</td>\n",
       "      <td>1.000000</td>\n",
       "    </tr>\n",
       "    <tr>\n",
       "      <th>32</th>\n",
       "      <td>nWS2</td>\n",
       "      <td>1.000000</td>\n",
       "    </tr>\n",
       "  </tbody>\n",
       "</table>\n",
       "</div>"
      ],
      "text/plain": [
       "   Column name  Ratio of non NaN values\n",
       "50       MATTR                 0.199890\n",
       "51       MSTTR                 0.207763\n",
       "0    sentences                 1.000000\n",
       "31        nWS1                 1.000000\n",
       "32        nWS2                 1.000000"
      ]
     },
     "execution_count": 16,
     "metadata": {},
     "output_type": "execute_result"
    }
   ],
   "source": [
    "count_null_df = df.count(axis=0)/nrow\n",
    "# count_null_df.sort_values(axis=0)\n",
    "count_null_df = pd.DataFrame({'Column name':count_null_df.index, 'Ratio of non NaN values':count_null_df.values})\n",
    "count_null_df = count_null_df.sort_values(by=['Ratio of non NaN values'])\n",
    "count_null_df.head()"
   ]
  },
  {
   "cell_type": "markdown",
   "metadata": {},
   "source": [
    "## Dropping MATTR & MSTTR columns"
   ]
  },
  {
   "cell_type": "code",
   "execution_count": 17,
   "metadata": {},
   "outputs": [],
   "source": [
    "df = df.drop('MATTR', axis=1)\n",
    "df = df.drop('MSTTR', axis=1)"
   ]
  },
  {
   "cell_type": "code",
   "execution_count": 18,
   "metadata": {},
   "outputs": [],
   "source": [
    "# Get list of features w/o feature containing string values\n",
    "(nrow, ncol) = df.shape\n",
    "features = df.columns.values[0:ncol-1]\n",
    "\n",
    "\n",
    "# Separating out the features\n",
    "x = df.loc[:, features].values\n",
    "\n",
    "# Separating out the target\n",
    "y = df.loc[:,['level1']].values"
   ]
  },
  {
   "cell_type": "code",
   "execution_count": 19,
   "metadata": {
    "scrolled": true
   },
   "outputs": [
    {
     "data": {
      "text/html": [
       "<div>\n",
       "<style scoped>\n",
       "    .dataframe tbody tr th:only-of-type {\n",
       "        vertical-align: middle;\n",
       "    }\n",
       "\n",
       "    .dataframe tbody tr th {\n",
       "        vertical-align: top;\n",
       "    }\n",
       "\n",
       "    .dataframe thead th {\n",
       "        text-align: right;\n",
       "    }\n",
       "</style>\n",
       "<table border=\"1\" class=\"dataframe\">\n",
       "  <thead>\n",
       "    <tr style=\"text-align: right;\">\n",
       "      <th></th>\n",
       "      <th>sentences</th>\n",
       "      <th>words</th>\n",
       "      <th>letters.all</th>\n",
       "      <th>syllables</th>\n",
       "      <th>punct</th>\n",
       "      <th>avg.sentc.length</th>\n",
       "      <th>avg.word.length</th>\n",
       "      <th>avg.syll.word</th>\n",
       "      <th>sntc.per.word</th>\n",
       "      <th>TTR</th>\n",
       "      <th>...</th>\n",
       "      <th>HD-D (vocd-D)</th>\n",
       "      <th>Herdan's C</th>\n",
       "      <th>Maas a</th>\n",
       "      <th>Maas lgV0</th>\n",
       "      <th>MTLD</th>\n",
       "      <th>Root TTR</th>\n",
       "      <th>Summer</th>\n",
       "      <th>TTR.1</th>\n",
       "      <th>Uber index</th>\n",
       "      <th>Yule's K</th>\n",
       "    </tr>\n",
       "  </thead>\n",
       "  <tbody>\n",
       "    <tr>\n",
       "      <th>count</th>\n",
       "      <td>27310.000000</td>\n",
       "      <td>27310.000000</td>\n",
       "      <td>27310.000000</td>\n",
       "      <td>27310.000000</td>\n",
       "      <td>27310.000000</td>\n",
       "      <td>27310.000000</td>\n",
       "      <td>27310.000000</td>\n",
       "      <td>27310.000000</td>\n",
       "      <td>27310.000000</td>\n",
       "      <td>27310.000000</td>\n",
       "      <td>...</td>\n",
       "      <td>27310.000000</td>\n",
       "      <td>27310.000000</td>\n",
       "      <td>27310.000000</td>\n",
       "      <td>27310.000000</td>\n",
       "      <td>27310.000000</td>\n",
       "      <td>27310.000000</td>\n",
       "      <td>27310.000000</td>\n",
       "      <td>27310.000000</td>\n",
       "      <td>27310.000000</td>\n",
       "      <td>27310.000000</td>\n",
       "    </tr>\n",
       "    <tr>\n",
       "      <th>mean</th>\n",
       "      <td>6.178103</td>\n",
       "      <td>69.591578</td>\n",
       "      <td>286.920871</td>\n",
       "      <td>94.919443</td>\n",
       "      <td>13.445405</td>\n",
       "      <td>13.808023</td>\n",
       "      <td>4.068831</td>\n",
       "      <td>1.342988</td>\n",
       "      <td>0.102530</td>\n",
       "      <td>0.723658</td>\n",
       "      <td>...</td>\n",
       "      <td>29.973272</td>\n",
       "      <td>0.919785</td>\n",
       "      <td>0.209477</td>\n",
       "      <td>4.362110</td>\n",
       "      <td>60.654317</td>\n",
       "      <td>5.621359</td>\n",
       "      <td>0.839242</td>\n",
       "      <td>0.723612</td>\n",
       "      <td>25.751004</td>\n",
       "      <td>175.234313</td>\n",
       "    </tr>\n",
       "    <tr>\n",
       "      <th>std</th>\n",
       "      <td>3.565665</td>\n",
       "      <td>41.665862</td>\n",
       "      <td>183.019658</td>\n",
       "      <td>60.276153</td>\n",
       "      <td>7.705855</td>\n",
       "      <td>11.104274</td>\n",
       "      <td>0.499349</td>\n",
       "      <td>0.145937</td>\n",
       "      <td>0.061869</td>\n",
       "      <td>0.101662</td>\n",
       "      <td>...</td>\n",
       "      <td>6.041291</td>\n",
       "      <td>0.029880</td>\n",
       "      <td>0.038736</td>\n",
       "      <td>0.985314</td>\n",
       "      <td>29.939369</td>\n",
       "      <td>1.308844</td>\n",
       "      <td>0.097361</td>\n",
       "      <td>0.101676</td>\n",
       "      <td>13.431118</td>\n",
       "      <td>96.680399</td>\n",
       "    </tr>\n",
       "    <tr>\n",
       "      <th>min</th>\n",
       "      <td>1.000000</td>\n",
       "      <td>5.000000</td>\n",
       "      <td>21.000000</td>\n",
       "      <td>6.000000</td>\n",
       "      <td>0.000000</td>\n",
       "      <td>1.437500</td>\n",
       "      <td>2.230769</td>\n",
       "      <td>1.000000</td>\n",
       "      <td>0.005435</td>\n",
       "      <td>0.294118</td>\n",
       "      <td>...</td>\n",
       "      <td>4.000000</td>\n",
       "      <td>0.720000</td>\n",
       "      <td>0.060000</td>\n",
       "      <td>1.100000</td>\n",
       "      <td>5.360000</td>\n",
       "      <td>1.770000</td>\n",
       "      <td>-2.510000</td>\n",
       "      <td>0.290000</td>\n",
       "      <td>4.000000</td>\n",
       "      <td>11.340000</td>\n",
       "    </tr>\n",
       "    <tr>\n",
       "      <th>25%</th>\n",
       "      <td>4.000000</td>\n",
       "      <td>38.000000</td>\n",
       "      <td>149.000000</td>\n",
       "      <td>49.000000</td>\n",
       "      <td>8.000000</td>\n",
       "      <td>8.000000</td>\n",
       "      <td>3.741098</td>\n",
       "      <td>1.243590</td>\n",
       "      <td>0.064516</td>\n",
       "      <td>0.652174</td>\n",
       "      <td>...</td>\n",
       "      <td>27.382500</td>\n",
       "      <td>0.900000</td>\n",
       "      <td>0.190000</td>\n",
       "      <td>3.730000</td>\n",
       "      <td>39.675000</td>\n",
       "      <td>4.620000</td>\n",
       "      <td>0.810000</td>\n",
       "      <td>0.650000</td>\n",
       "      <td>18.750000</td>\n",
       "      <td>110.190000</td>\n",
       "    </tr>\n",
       "    <tr>\n",
       "      <th>50%</th>\n",
       "      <td>6.000000</td>\n",
       "      <td>62.000000</td>\n",
       "      <td>250.000000</td>\n",
       "      <td>83.000000</td>\n",
       "      <td>12.000000</td>\n",
       "      <td>11.000000</td>\n",
       "      <td>4.028037</td>\n",
       "      <td>1.333333</td>\n",
       "      <td>0.090909</td>\n",
       "      <td>0.714286</td>\n",
       "      <td>...</td>\n",
       "      <td>32.000000</td>\n",
       "      <td>0.920000</td>\n",
       "      <td>0.210000</td>\n",
       "      <td>4.310000</td>\n",
       "      <td>55.070000</td>\n",
       "      <td>5.530000</td>\n",
       "      <td>0.860000</td>\n",
       "      <td>0.710000</td>\n",
       "      <td>23.020000</td>\n",
       "      <td>152.000000</td>\n",
       "    </tr>\n",
       "    <tr>\n",
       "      <th>75%</th>\n",
       "      <td>8.000000</td>\n",
       "      <td>92.000000</td>\n",
       "      <td>380.000000</td>\n",
       "      <td>125.000000</td>\n",
       "      <td>17.000000</td>\n",
       "      <td>15.500000</td>\n",
       "      <td>4.343750</td>\n",
       "      <td>1.427251</td>\n",
       "      <td>0.125000</td>\n",
       "      <td>0.791667</td>\n",
       "      <td>...</td>\n",
       "      <td>34.220000</td>\n",
       "      <td>0.940000</td>\n",
       "      <td>0.230000</td>\n",
       "      <td>4.840000</td>\n",
       "      <td>75.400000</td>\n",
       "      <td>6.560000</td>\n",
       "      <td>0.890000</td>\n",
       "      <td>0.790000</td>\n",
       "      <td>28.560000</td>\n",
       "      <td>214.500000</td>\n",
       "    </tr>\n",
       "    <tr>\n",
       "      <th>max</th>\n",
       "      <td>50.000000</td>\n",
       "      <td>464.000000</td>\n",
       "      <td>2050.000000</td>\n",
       "      <td>654.000000</td>\n",
       "      <td>122.000000</td>\n",
       "      <td>184.000000</td>\n",
       "      <td>9.913043</td>\n",
       "      <td>3.173913</td>\n",
       "      <td>0.695652</td>\n",
       "      <td>0.976190</td>\n",
       "      <td>...</td>\n",
       "      <td>41.000000</td>\n",
       "      <td>0.990000</td>\n",
       "      <td>0.500000</td>\n",
       "      <td>14.230000</td>\n",
       "      <td>493.920000</td>\n",
       "      <td>11.930000</td>\n",
       "      <td>3.510000</td>\n",
       "      <td>0.980000</td>\n",
       "      <td>251.780000</td>\n",
       "      <td>1564.100000</td>\n",
       "    </tr>\n",
       "  </tbody>\n",
       "</table>\n",
       "<p>8 rows × 56 columns</p>\n",
       "</div>"
      ],
      "text/plain": [
       "          sentences         words   letters.all     syllables         punct  \\\n",
       "count  27310.000000  27310.000000  27310.000000  27310.000000  27310.000000   \n",
       "mean       6.178103     69.591578    286.920871     94.919443     13.445405   \n",
       "std        3.565665     41.665862    183.019658     60.276153      7.705855   \n",
       "min        1.000000      5.000000     21.000000      6.000000      0.000000   \n",
       "25%        4.000000     38.000000    149.000000     49.000000      8.000000   \n",
       "50%        6.000000     62.000000    250.000000     83.000000     12.000000   \n",
       "75%        8.000000     92.000000    380.000000    125.000000     17.000000   \n",
       "max       50.000000    464.000000   2050.000000    654.000000    122.000000   \n",
       "\n",
       "       avg.sentc.length  avg.word.length  avg.syll.word  sntc.per.word  \\\n",
       "count      27310.000000     27310.000000   27310.000000   27310.000000   \n",
       "mean          13.808023         4.068831       1.342988       0.102530   \n",
       "std           11.104274         0.499349       0.145937       0.061869   \n",
       "min            1.437500         2.230769       1.000000       0.005435   \n",
       "25%            8.000000         3.741098       1.243590       0.064516   \n",
       "50%           11.000000         4.028037       1.333333       0.090909   \n",
       "75%           15.500000         4.343750       1.427251       0.125000   \n",
       "max          184.000000         9.913043       3.173913       0.695652   \n",
       "\n",
       "                TTR      ...       HD-D (vocd-D)    Herdan's C        Maas a  \\\n",
       "count  27310.000000      ...        27310.000000  27310.000000  27310.000000   \n",
       "mean       0.723658      ...           29.973272      0.919785      0.209477   \n",
       "std        0.101662      ...            6.041291      0.029880      0.038736   \n",
       "min        0.294118      ...            4.000000      0.720000      0.060000   \n",
       "25%        0.652174      ...           27.382500      0.900000      0.190000   \n",
       "50%        0.714286      ...           32.000000      0.920000      0.210000   \n",
       "75%        0.791667      ...           34.220000      0.940000      0.230000   \n",
       "max        0.976190      ...           41.000000      0.990000      0.500000   \n",
       "\n",
       "          Maas lgV0          MTLD      Root TTR        Summer         TTR.1  \\\n",
       "count  27310.000000  27310.000000  27310.000000  27310.000000  27310.000000   \n",
       "mean       4.362110     60.654317      5.621359      0.839242      0.723612   \n",
       "std        0.985314     29.939369      1.308844      0.097361      0.101676   \n",
       "min        1.100000      5.360000      1.770000     -2.510000      0.290000   \n",
       "25%        3.730000     39.675000      4.620000      0.810000      0.650000   \n",
       "50%        4.310000     55.070000      5.530000      0.860000      0.710000   \n",
       "75%        4.840000     75.400000      6.560000      0.890000      0.790000   \n",
       "max       14.230000    493.920000     11.930000      3.510000      0.980000   \n",
       "\n",
       "         Uber index      Yule's K  \n",
       "count  27310.000000  27310.000000  \n",
       "mean      25.751004    175.234313  \n",
       "std       13.431118     96.680399  \n",
       "min        4.000000     11.340000  \n",
       "25%       18.750000    110.190000  \n",
       "50%       23.020000    152.000000  \n",
       "75%       28.560000    214.500000  \n",
       "max      251.780000   1564.100000  \n",
       "\n",
       "[8 rows x 56 columns]"
      ]
     },
     "execution_count": 19,
     "metadata": {},
     "output_type": "execute_result"
    }
   ],
   "source": [
    "df.describe()"
   ]
  },
  {
   "cell_type": "markdown",
   "metadata": {},
   "source": [
    "## Standardizing the features"
   ]
  },
  {
   "cell_type": "code",
   "execution_count": 20,
   "metadata": {},
   "outputs": [],
   "source": [
    "x = StandardScaler().fit_transform(x)"
   ]
  },
  {
   "cell_type": "code",
   "execution_count": 21,
   "metadata": {},
   "outputs": [],
   "source": [
    "df_x = df[df.columns[:ncol-1]]"
   ]
  },
  {
   "cell_type": "code",
   "execution_count": 22,
   "metadata": {},
   "outputs": [],
   "source": [
    "df_x = StandardScaler().fit_transform(df_x)"
   ]
  },
  {
   "cell_type": "code",
   "execution_count": 146,
   "metadata": {},
   "outputs": [
    {
     "data": {
      "text/plain": [
       "(27310, 56)"
      ]
     },
     "execution_count": 146,
     "metadata": {},
     "output_type": "execute_result"
    }
   ],
   "source": [
    "df_x.shape"
   ]
  },
  {
   "cell_type": "markdown",
   "metadata": {},
   "source": [
    "## Principal component analysis"
   ]
  },
  {
   "cell_type": "code",
   "execution_count": 23,
   "metadata": {},
   "outputs": [],
   "source": [
    "# Get PCA on the 15th first components\n",
    "pca = PCA(n_components=15)"
   ]
  },
  {
   "cell_type": "code",
   "execution_count": 24,
   "metadata": {},
   "outputs": [],
   "source": [
    "principalComponents = pca.fit_transform(x)\n",
    "principalDf = pd.DataFrame(data = principalComponents)"
   ]
  },
  {
   "cell_type": "code",
   "execution_count": 25,
   "metadata": {},
   "outputs": [],
   "source": [
    "finalDf = pd.concat([principalDf, df[['level1']]], axis = 1)"
   ]
  },
  {
   "cell_type": "code",
   "execution_count": 26,
   "metadata": {},
   "outputs": [
    {
     "data": {
      "text/plain": [
       "array([0.49105074, 0.14071715, 0.12604162, 0.06971135, 0.03773674,\n",
       "       0.02137207, 0.01918631, 0.01435404, 0.01298176, 0.01102198,\n",
       "       0.01018059, 0.00870858, 0.00712489, 0.0059274 , 0.00532723])"
      ]
     },
     "execution_count": 26,
     "metadata": {},
     "output_type": "execute_result"
    }
   ],
   "source": [
    "pca_var_ratio = pca.explained_variance_ratio_\n",
    "pca_var_ratio"
   ]
  },
  {
   "cell_type": "code",
   "execution_count": 27,
   "metadata": {},
   "outputs": [
    {
     "data": {
      "image/png": "[encoded data removed]",
      "text/plain": [
       "<matplotlib.figure.Figure at 0x2e48c6c0f60>"
      ]
     },
     "metadata": {},
     "output_type": "display_data"
    }
   ],
   "source": [
    "fig, (ax1, ax2) = plt.subplots(1,ncols=2,  sharex= True, figsize=(20,5))\n",
    "fig.suptitle('Explained variance')\n",
    "\n",
    "# Explained variance desc sort\n",
    "ax1.plot(pca_var_ratio*100,)\n",
    "ax1.set_xlabel('Principal components')\n",
    "\n",
    "# Explained variance cumulative sum\n",
    "pca_var_ratio_cumsum=np.cumsum(np.round(pca_var_ratio, decimals=4)*100)\n",
    "ax2.plot(pca_var_ratio_cumsum,)\n",
    "ax2.set_xlabel('Principal components')\n",
    "\n",
    "# Bring subplots close to each other.\n",
    "fig.subplots_adjust(hspace=0)"
   ]
  },
  {
   "cell_type": "markdown",
   "metadata": {},
   "source": [
    "- ** 4 components to reach >=80% **\n",
    "- ** 7 components to reach >=90% **\n",
    "- ** 11 components to reach >=95% **\n",
    "\n"
   ]
  },
  {
   "cell_type": "code",
   "execution_count": 28,
   "metadata": {},
   "outputs": [
    {
     "data": {
      "text/plain": [
       "array([49.11, 63.18, 75.78, 82.75, 86.52, 88.66, 90.58, 92.02, 93.32,\n",
       "       94.42, 95.44, 96.31, 97.02, 97.61, 98.14])"
      ]
     },
     "execution_count": 28,
     "metadata": {},
     "output_type": "execute_result"
    }
   ],
   "source": [
    "pca_var_ratio_cumsum"
   ]
  },
  {
   "cell_type": "code",
   "execution_count": 29,
   "metadata": {},
   "outputs": [
    {
     "data": {
      "text/html": [
       "<div>\n",
       "<style scoped>\n",
       "    .dataframe tbody tr th:only-of-type {\n",
       "        vertical-align: middle;\n",
       "    }\n",
       "\n",
       "    .dataframe tbody tr th {\n",
       "        vertical-align: top;\n",
       "    }\n",
       "\n",
       "    .dataframe thead th {\n",
       "        text-align: right;\n",
       "    }\n",
       "</style>\n",
       "<table border=\"1\" class=\"dataframe\">\n",
       "  <thead>\n",
       "    <tr style=\"text-align: right;\">\n",
       "      <th></th>\n",
       "      <th>sentences</th>\n",
       "      <th>words</th>\n",
       "      <th>letters.all</th>\n",
       "      <th>syllables</th>\n",
       "      <th>punct</th>\n",
       "      <th>avg.sentc.length</th>\n",
       "      <th>avg.word.length</th>\n",
       "      <th>avg.syll.word</th>\n",
       "      <th>sntc.per.word</th>\n",
       "      <th>TTR</th>\n",
       "      <th>...</th>\n",
       "      <th>HD-D (vocd-D)</th>\n",
       "      <th>Herdan's C</th>\n",
       "      <th>Maas a</th>\n",
       "      <th>Maas lgV0</th>\n",
       "      <th>MTLD</th>\n",
       "      <th>Root TTR</th>\n",
       "      <th>Summer</th>\n",
       "      <th>TTR.1</th>\n",
       "      <th>Uber index</th>\n",
       "      <th>Yule's K</th>\n",
       "    </tr>\n",
       "  </thead>\n",
       "  <tbody>\n",
       "    <tr>\n",
       "      <th>0</th>\n",
       "      <td>-0.041399</td>\n",
       "      <td>0.063143</td>\n",
       "      <td>0.079288</td>\n",
       "      <td>0.078378</td>\n",
       "      <td>0.022357</td>\n",
       "      <td>0.155404</td>\n",
       "      <td>0.119600</td>\n",
       "      <td>0.127588</td>\n",
       "      <td>-0.124616</td>\n",
       "      <td>-0.007459</td>\n",
       "      <td>...</td>\n",
       "      <td>0.075877</td>\n",
       "      <td>0.018712</td>\n",
       "      <td>-0.045200</td>\n",
       "      <td>0.061667</td>\n",
       "      <td>0.069472</td>\n",
       "      <td>0.083330</td>\n",
       "      <td>0.056810</td>\n",
       "      <td>-0.007593</td>\n",
       "      <td>0.032463</td>\n",
       "      <td>-0.051802</td>\n",
       "    </tr>\n",
       "    <tr>\n",
       "      <th>1</th>\n",
       "      <td>-0.291607</td>\n",
       "      <td>-0.285498</td>\n",
       "      <td>-0.283649</td>\n",
       "      <td>-0.284540</td>\n",
       "      <td>-0.253310</td>\n",
       "      <td>0.122727</td>\n",
       "      <td>-0.082166</td>\n",
       "      <td>-0.108185</td>\n",
       "      <td>0.040731</td>\n",
       "      <td>0.154328</td>\n",
       "      <td>...</td>\n",
       "      <td>-0.242013</td>\n",
       "      <td>0.063238</td>\n",
       "      <td>0.038727</td>\n",
       "      <td>-0.099191</td>\n",
       "      <td>-0.139610</td>\n",
       "      <td>-0.286619</td>\n",
       "      <td>-0.132456</td>\n",
       "      <td>0.154449</td>\n",
       "      <td>0.003887</td>\n",
       "      <td>0.107391</td>\n",
       "    </tr>\n",
       "    <tr>\n",
       "      <th>2</th>\n",
       "      <td>-0.053607</td>\n",
       "      <td>-0.123610</td>\n",
       "      <td>-0.099528</td>\n",
       "      <td>-0.104035</td>\n",
       "      <td>-0.058651</td>\n",
       "      <td>-0.098132</td>\n",
       "      <td>0.111911</td>\n",
       "      <td>0.087031</td>\n",
       "      <td>0.095356</td>\n",
       "      <td>0.329306</td>\n",
       "      <td>...</td>\n",
       "      <td>0.020503</td>\n",
       "      <td>0.347822</td>\n",
       "      <td>-0.338410</td>\n",
       "      <td>0.305268</td>\n",
       "      <td>0.249009</td>\n",
       "      <td>0.015522</td>\n",
       "      <td>0.185055</td>\n",
       "      <td>0.329043</td>\n",
       "      <td>0.317605</td>\n",
       "      <td>-0.260981</td>\n",
       "    </tr>\n",
       "    <tr>\n",
       "      <th>3</th>\n",
       "      <td>0.066076</td>\n",
       "      <td>0.142769</td>\n",
       "      <td>0.103198</td>\n",
       "      <td>0.104949</td>\n",
       "      <td>0.123136</td>\n",
       "      <td>0.172636</td>\n",
       "      <td>-0.246697</td>\n",
       "      <td>-0.247826</td>\n",
       "      <td>0.005268</td>\n",
       "      <td>0.029750</td>\n",
       "      <td>...</td>\n",
       "      <td>0.104461</td>\n",
       "      <td>0.095903</td>\n",
       "      <td>-0.151268</td>\n",
       "      <td>0.152596</td>\n",
       "      <td>0.148915</td>\n",
       "      <td>0.170513</td>\n",
       "      <td>0.128627</td>\n",
       "      <td>0.029825</td>\n",
       "      <td>0.096473</td>\n",
       "      <td>-0.165848</td>\n",
       "    </tr>\n",
       "    <tr>\n",
       "      <th>4</th>\n",
       "      <td>0.243082</td>\n",
       "      <td>-0.001663</td>\n",
       "      <td>0.027170</td>\n",
       "      <td>0.029145</td>\n",
       "      <td>0.350578</td>\n",
       "      <td>-0.048635</td>\n",
       "      <td>0.127331</td>\n",
       "      <td>0.137812</td>\n",
       "      <td>0.366247</td>\n",
       "      <td>0.003510</td>\n",
       "      <td>...</td>\n",
       "      <td>-0.146949</td>\n",
       "      <td>-0.022687</td>\n",
       "      <td>0.032070</td>\n",
       "      <td>-0.023392</td>\n",
       "      <td>-0.036559</td>\n",
       "      <td>-0.065603</td>\n",
       "      <td>-0.108553</td>\n",
       "      <td>0.003683</td>\n",
       "      <td>0.023069</td>\n",
       "      <td>0.065225</td>\n",
       "    </tr>\n",
       "    <tr>\n",
       "      <th>5</th>\n",
       "      <td>0.053013</td>\n",
       "      <td>0.040408</td>\n",
       "      <td>0.066906</td>\n",
       "      <td>0.044929</td>\n",
       "      <td>-0.230408</td>\n",
       "      <td>-0.060672</td>\n",
       "      <td>0.164669</td>\n",
       "      <td>-0.000134</td>\n",
       "      <td>0.132400</td>\n",
       "      <td>0.006496</td>\n",
       "      <td>...</td>\n",
       "      <td>-0.069038</td>\n",
       "      <td>0.010841</td>\n",
       "      <td>-0.002950</td>\n",
       "      <td>-0.007795</td>\n",
       "      <td>0.010947</td>\n",
       "      <td>0.011165</td>\n",
       "      <td>-0.063572</td>\n",
       "      <td>0.006791</td>\n",
       "      <td>-0.005302</td>\n",
       "      <td>-0.031898</td>\n",
       "    </tr>\n",
       "    <tr>\n",
       "      <th>6</th>\n",
       "      <td>-0.079432</td>\n",
       "      <td>-0.052735</td>\n",
       "      <td>-0.097681</td>\n",
       "      <td>-0.094547</td>\n",
       "      <td>0.112105</td>\n",
       "      <td>0.046418</td>\n",
       "      <td>-0.200834</td>\n",
       "      <td>-0.171578</td>\n",
       "      <td>-0.308309</td>\n",
       "      <td>-0.037599</td>\n",
       "      <td>...</td>\n",
       "      <td>0.192730</td>\n",
       "      <td>-0.031865</td>\n",
       "      <td>0.009824</td>\n",
       "      <td>0.018372</td>\n",
       "      <td>-0.003311</td>\n",
       "      <td>0.016258</td>\n",
       "      <td>0.188936</td>\n",
       "      <td>-0.038264</td>\n",
       "      <td>-0.004706</td>\n",
       "      <td>0.019930</td>\n",
       "    </tr>\n",
       "    <tr>\n",
       "      <th>7</th>\n",
       "      <td>-0.011029</td>\n",
       "      <td>0.137110</td>\n",
       "      <td>0.158359</td>\n",
       "      <td>0.101192</td>\n",
       "      <td>0.152237</td>\n",
       "      <td>0.054253</td>\n",
       "      <td>0.196512</td>\n",
       "      <td>-0.265326</td>\n",
       "      <td>-0.096997</td>\n",
       "      <td>-0.002640</td>\n",
       "      <td>...</td>\n",
       "      <td>-0.275621</td>\n",
       "      <td>-0.027736</td>\n",
       "      <td>0.006957</td>\n",
       "      <td>0.065190</td>\n",
       "      <td>0.097574</td>\n",
       "      <td>-0.003116</td>\n",
       "      <td>-0.319803</td>\n",
       "      <td>-0.001893</td>\n",
       "      <td>0.139220</td>\n",
       "      <td>0.045711</td>\n",
       "    </tr>\n",
       "    <tr>\n",
       "      <th>8</th>\n",
       "      <td>-0.069457</td>\n",
       "      <td>-0.053380</td>\n",
       "      <td>-0.077883</td>\n",
       "      <td>-0.057179</td>\n",
       "      <td>0.071693</td>\n",
       "      <td>0.030632</td>\n",
       "      <td>-0.165422</td>\n",
       "      <td>-0.024305</td>\n",
       "      <td>-0.079404</td>\n",
       "      <td>0.031273</td>\n",
       "      <td>...</td>\n",
       "      <td>-0.038741</td>\n",
       "      <td>0.017206</td>\n",
       "      <td>-0.005792</td>\n",
       "      <td>0.005613</td>\n",
       "      <td>0.000354</td>\n",
       "      <td>-0.034357</td>\n",
       "      <td>-0.052305</td>\n",
       "      <td>0.031662</td>\n",
       "      <td>0.023530</td>\n",
       "      <td>0.015416</td>\n",
       "    </tr>\n",
       "    <tr>\n",
       "      <th>9</th>\n",
       "      <td>0.083577</td>\n",
       "      <td>0.127883</td>\n",
       "      <td>0.106033</td>\n",
       "      <td>0.130297</td>\n",
       "      <td>-0.170461</td>\n",
       "      <td>0.034396</td>\n",
       "      <td>-0.126982</td>\n",
       "      <td>0.034894</td>\n",
       "      <td>0.123835</td>\n",
       "      <td>-0.070816</td>\n",
       "      <td>...</td>\n",
       "      <td>-0.136879</td>\n",
       "      <td>-0.093138</td>\n",
       "      <td>0.003918</td>\n",
       "      <td>0.178829</td>\n",
       "      <td>0.236907</td>\n",
       "      <td>0.016800</td>\n",
       "      <td>-0.220971</td>\n",
       "      <td>-0.070831</td>\n",
       "      <td>0.304257</td>\n",
       "      <td>0.166863</td>\n",
       "    </tr>\n",
       "    <tr>\n",
       "      <th>10</th>\n",
       "      <td>-0.121649</td>\n",
       "      <td>-0.033904</td>\n",
       "      <td>-0.037438</td>\n",
       "      <td>-0.012712</td>\n",
       "      <td>0.062326</td>\n",
       "      <td>-0.071947</td>\n",
       "      <td>-0.089720</td>\n",
       "      <td>0.125090</td>\n",
       "      <td>-0.227292</td>\n",
       "      <td>-0.037207</td>\n",
       "      <td>...</td>\n",
       "      <td>-0.077112</td>\n",
       "      <td>-0.108387</td>\n",
       "      <td>0.044277</td>\n",
       "      <td>0.189534</td>\n",
       "      <td>0.285316</td>\n",
       "      <td>-0.053731</td>\n",
       "      <td>-0.347011</td>\n",
       "      <td>-0.037437</td>\n",
       "      <td>0.336693</td>\n",
       "      <td>0.251669</td>\n",
       "    </tr>\n",
       "    <tr>\n",
       "      <th>11</th>\n",
       "      <td>0.079141</td>\n",
       "      <td>-0.178271</td>\n",
       "      <td>-0.191920</td>\n",
       "      <td>-0.216025</td>\n",
       "      <td>-0.029054</td>\n",
       "      <td>0.075397</td>\n",
       "      <td>0.081679</td>\n",
       "      <td>-0.096913</td>\n",
       "      <td>0.140715</td>\n",
       "      <td>-0.171749</td>\n",
       "      <td>...</td>\n",
       "      <td>0.301411</td>\n",
       "      <td>-0.239918</td>\n",
       "      <td>0.105164</td>\n",
       "      <td>0.166600</td>\n",
       "      <td>0.257863</td>\n",
       "      <td>-0.086198</td>\n",
       "      <td>0.256935</td>\n",
       "      <td>-0.171963</td>\n",
       "      <td>0.298565</td>\n",
       "      <td>0.247579</td>\n",
       "    </tr>\n",
       "    <tr>\n",
       "      <th>12</th>\n",
       "      <td>-0.092401</td>\n",
       "      <td>-0.062879</td>\n",
       "      <td>-0.062060</td>\n",
       "      <td>-0.061254</td>\n",
       "      <td>0.105736</td>\n",
       "      <td>0.023879</td>\n",
       "      <td>0.002847</td>\n",
       "      <td>-0.024535</td>\n",
       "      <td>-0.091941</td>\n",
       "      <td>0.087223</td>\n",
       "      <td>...</td>\n",
       "      <td>0.177015</td>\n",
       "      <td>0.087663</td>\n",
       "      <td>-0.009965</td>\n",
       "      <td>-0.023528</td>\n",
       "      <td>0.095341</td>\n",
       "      <td>0.083162</td>\n",
       "      <td>-0.491073</td>\n",
       "      <td>0.088445</td>\n",
       "      <td>-0.108085</td>\n",
       "      <td>-0.138432</td>\n",
       "    </tr>\n",
       "    <tr>\n",
       "      <th>13</th>\n",
       "      <td>-0.080107</td>\n",
       "      <td>0.075443</td>\n",
       "      <td>0.085919</td>\n",
       "      <td>0.075818</td>\n",
       "      <td>0.101548</td>\n",
       "      <td>-0.031665</td>\n",
       "      <td>0.183646</td>\n",
       "      <td>0.037058</td>\n",
       "      <td>-0.171907</td>\n",
       "      <td>-0.069285</td>\n",
       "      <td>...</td>\n",
       "      <td>-0.317012</td>\n",
       "      <td>-0.083106</td>\n",
       "      <td>0.003655</td>\n",
       "      <td>0.028327</td>\n",
       "      <td>-0.055976</td>\n",
       "      <td>-0.130718</td>\n",
       "      <td>0.478998</td>\n",
       "      <td>-0.070106</td>\n",
       "      <td>0.158033</td>\n",
       "      <td>0.071324</td>\n",
       "    </tr>\n",
       "    <tr>\n",
       "      <th>14</th>\n",
       "      <td>0.052684</td>\n",
       "      <td>-0.118735</td>\n",
       "      <td>-0.078925</td>\n",
       "      <td>-0.120669</td>\n",
       "      <td>-0.129647</td>\n",
       "      <td>-0.022660</td>\n",
       "      <td>0.326927</td>\n",
       "      <td>0.019428</td>\n",
       "      <td>-0.004483</td>\n",
       "      <td>-0.006588</td>\n",
       "      <td>...</td>\n",
       "      <td>0.440976</td>\n",
       "      <td>-0.019343</td>\n",
       "      <td>0.075017</td>\n",
       "      <td>-0.026802</td>\n",
       "      <td>0.132099</td>\n",
       "      <td>0.156360</td>\n",
       "      <td>-0.106042</td>\n",
       "      <td>-0.006528</td>\n",
       "      <td>-0.165340</td>\n",
       "      <td>0.192707</td>\n",
       "    </tr>\n",
       "  </tbody>\n",
       "</table>\n",
       "<p>15 rows × 56 columns</p>\n",
       "</div>"
      ],
      "text/plain": [
       "    sentences     words  letters.all  syllables     punct  avg.sentc.length  \\\n",
       "0   -0.041399  0.063143     0.079288   0.078378  0.022357          0.155404   \n",
       "1   -0.291607 -0.285498    -0.283649  -0.284540 -0.253310          0.122727   \n",
       "2   -0.053607 -0.123610    -0.099528  -0.104035 -0.058651         -0.098132   \n",
       "3    0.066076  0.142769     0.103198   0.104949  0.123136          0.172636   \n",
       "4    0.243082 -0.001663     0.027170   0.029145  0.350578         -0.048635   \n",
       "5    0.053013  0.040408     0.066906   0.044929 -0.230408         -0.060672   \n",
       "6   -0.079432 -0.052735    -0.097681  -0.094547  0.112105          0.046418   \n",
       "7   -0.011029  0.137110     0.158359   0.101192  0.152237          0.054253   \n",
       "8   -0.069457 -0.053380    -0.077883  -0.057179  0.071693          0.030632   \n",
       "9    0.083577  0.127883     0.106033   0.130297 -0.170461          0.034396   \n",
       "10  -0.121649 -0.033904    -0.037438  -0.012712  0.062326         -0.071947   \n",
       "11   0.079141 -0.178271    -0.191920  -0.216025 -0.029054          0.075397   \n",
       "12  -0.092401 -0.062879    -0.062060  -0.061254  0.105736          0.023879   \n",
       "13  -0.080107  0.075443     0.085919   0.075818  0.101548         -0.031665   \n",
       "14   0.052684 -0.118735    -0.078925  -0.120669 -0.129647         -0.022660   \n",
       "\n",
       "    avg.word.length  avg.syll.word  sntc.per.word       TTR    ...     \\\n",
       "0          0.119600       0.127588      -0.124616 -0.007459    ...      \n",
       "1         -0.082166      -0.108185       0.040731  0.154328    ...      \n",
       "2          0.111911       0.087031       0.095356  0.329306    ...      \n",
       "3         -0.246697      -0.247826       0.005268  0.029750    ...      \n",
       "4          0.127331       0.137812       0.366247  0.003510    ...      \n",
       "5          0.164669      -0.000134       0.132400  0.006496    ...      \n",
       "6         -0.200834      -0.171578      -0.308309 -0.037599    ...      \n",
       "7          0.196512      -0.265326      -0.096997 -0.002640    ...      \n",
       "8         -0.165422      -0.024305      -0.079404  0.031273    ...      \n",
       "9         -0.126982       0.034894       0.123835 -0.070816    ...      \n",
       "10        -0.089720       0.125090      -0.227292 -0.037207    ...      \n",
       "11         0.081679      -0.096913       0.140715 -0.171749    ...      \n",
       "12         0.002847      -0.024535      -0.091941  0.087223    ...      \n",
       "13         0.183646       0.037058      -0.171907 -0.069285    ...      \n",
       "14         0.326927       0.019428      -0.004483 -0.006588    ...      \n",
       "\n",
       "    HD-D (vocd-D)  Herdan's C    Maas a  Maas lgV0      MTLD  Root TTR  \\\n",
       "0        0.075877    0.018712 -0.045200   0.061667  0.069472  0.083330   \n",
       "1       -0.242013    0.063238  0.038727  -0.099191 -0.139610 -0.286619   \n",
       "2        0.020503    0.347822 -0.338410   0.305268  0.249009  0.015522   \n",
       "3        0.104461    0.095903 -0.151268   0.152596  0.148915  0.170513   \n",
       "4       -0.146949   -0.022687  0.032070  -0.023392 -0.036559 -0.065603   \n",
       "5       -0.069038    0.010841 -0.002950  -0.007795  0.010947  0.011165   \n",
       "6        0.192730   -0.031865  0.009824   0.018372 -0.003311  0.016258   \n",
       "7       -0.275621   -0.027736  0.006957   0.065190  0.097574 -0.003116   \n",
       "8       -0.038741    0.017206 -0.005792   0.005613  0.000354 -0.034357   \n",
       "9       -0.136879   -0.093138  0.003918   0.178829  0.236907  0.016800   \n",
       "10      -0.077112   -0.108387  0.044277   0.189534  0.285316 -0.053731   \n",
       "11       0.301411   -0.239918  0.105164   0.166600  0.257863 -0.086198   \n",
       "12       0.177015    0.087663 -0.009965  -0.023528  0.095341  0.083162   \n",
       "13      -0.317012   -0.083106  0.003655   0.028327 -0.055976 -0.130718   \n",
       "14       0.440976   -0.019343  0.075017  -0.026802  0.132099  0.156360   \n",
       "\n",
       "      Summer     TTR.1  Uber index  Yule's K  \n",
       "0   0.056810 -0.007593    0.032463 -0.051802  \n",
       "1  -0.132456  0.154449    0.003887  0.107391  \n",
       "2   0.185055  0.329043    0.317605 -0.260981  \n",
       "3   0.128627  0.029825    0.096473 -0.165848  \n",
       "4  -0.108553  0.003683    0.023069  0.065225  \n",
       "5  -0.063572  0.006791   -0.005302 -0.031898  \n",
       "6   0.188936 -0.038264   -0.004706  0.019930  \n",
       "7  -0.319803 -0.001893    0.139220  0.045711  \n",
       "8  -0.052305  0.031662    0.023530  0.015416  \n",
       "9  -0.220971 -0.070831    0.304257  0.166863  \n",
       "10 -0.347011 -0.037437    0.336693  0.251669  \n",
       "11  0.256935 -0.171963    0.298565  0.247579  \n",
       "12 -0.491073  0.088445   -0.108085 -0.138432  \n",
       "13  0.478998 -0.070106    0.158033  0.071324  \n",
       "14 -0.106042 -0.006528   -0.165340  0.192707  \n",
       "\n",
       "[15 rows x 56 columns]"
      ]
     },
     "execution_count": 29,
     "metadata": {},
     "output_type": "execute_result"
    }
   ],
   "source": [
    "# print(pca.components_.sort())\n",
    "pca_components = pd.DataFrame(pca.components_,columns=features)\n",
    "pca_components"
   ]
  },
  {
   "cell_type": "markdown",
   "metadata": {},
   "source": [
    "** TODO : Correspondance between components and features **\n",
    "    > PC_1 = a_1.features_1 + a_2.features_2 + ... + an.features_n"
   ]
  },
  {
   "cell_type": "code",
   "execution_count": 30,
   "metadata": {},
   "outputs": [
    {
     "data": {
      "text/html": [
       "<div>\n",
       "<style scoped>\n",
       "    .dataframe tbody tr th:only-of-type {\n",
       "        vertical-align: middle;\n",
       "    }\n",
       "\n",
       "    .dataframe tbody tr th {\n",
       "        vertical-align: top;\n",
       "    }\n",
       "\n",
       "    .dataframe thead th {\n",
       "        text-align: right;\n",
       "    }\n",
       "</style>\n",
       "<table border=\"1\" class=\"dataframe\">\n",
       "  <thead>\n",
       "    <tr style=\"text-align: right;\">\n",
       "      <th></th>\n",
       "      <th>sentences</th>\n",
       "      <th>words</th>\n",
       "      <th>letters.all</th>\n",
       "      <th>syllables</th>\n",
       "      <th>punct</th>\n",
       "      <th>avg.sentc.length</th>\n",
       "      <th>avg.word.length</th>\n",
       "      <th>avg.syll.word</th>\n",
       "      <th>sntc.per.word</th>\n",
       "      <th>TTR</th>\n",
       "      <th>...</th>\n",
       "      <th>HD-D (vocd-D)</th>\n",
       "      <th>Herdan's C</th>\n",
       "      <th>Maas a</th>\n",
       "      <th>Maas lgV0</th>\n",
       "      <th>MTLD</th>\n",
       "      <th>Root TTR</th>\n",
       "      <th>Summer</th>\n",
       "      <th>TTR.1</th>\n",
       "      <th>Uber index</th>\n",
       "      <th>Yule's K</th>\n",
       "    </tr>\n",
       "  </thead>\n",
       "  <tbody>\n",
       "    <tr>\n",
       "      <th>count</th>\n",
       "      <td>15.000000</td>\n",
       "      <td>15.000000</td>\n",
       "      <td>15.000000</td>\n",
       "      <td>15.000000</td>\n",
       "      <td>15.000000</td>\n",
       "      <td>15.000000</td>\n",
       "      <td>15.000000</td>\n",
       "      <td>15.000000</td>\n",
       "      <td>15.000000</td>\n",
       "      <td>15.000000</td>\n",
       "      <td>...</td>\n",
       "      <td>15.000000</td>\n",
       "      <td>15.000000</td>\n",
       "      <td>15.000000</td>\n",
       "      <td>15.000000</td>\n",
       "      <td>15.000000</td>\n",
       "      <td>15.000000</td>\n",
       "      <td>15.000000</td>\n",
       "      <td>15.000000</td>\n",
       "      <td>15.000000</td>\n",
       "      <td>15.000000</td>\n",
       "    </tr>\n",
       "    <tr>\n",
       "      <th>mean</th>\n",
       "      <td>-0.017541</td>\n",
       "      <td>-0.021595</td>\n",
       "      <td>-0.020148</td>\n",
       "      <td>-0.025750</td>\n",
       "      <td>0.015346</td>\n",
       "      <td>0.025469</td>\n",
       "      <td>0.026887</td>\n",
       "      <td>-0.024660</td>\n",
       "      <td>-0.013360</td>\n",
       "      <td>0.015903</td>\n",
       "      <td>...</td>\n",
       "      <td>0.000640</td>\n",
       "      <td>0.001014</td>\n",
       "      <td>-0.015598</td>\n",
       "      <td>0.066086</td>\n",
       "      <td>0.089889</td>\n",
       "      <td>-0.007149</td>\n",
       "      <td>-0.036428</td>\n",
       "      <td>0.015952</td>\n",
       "      <td>0.096691</td>\n",
       "      <td>0.035657</td>\n",
       "    </tr>\n",
       "    <tr>\n",
       "      <th>std</th>\n",
       "      <td>0.121979</td>\n",
       "      <td>0.123420</td>\n",
       "      <td>0.123650</td>\n",
       "      <td>0.123109</td>\n",
       "      <td>0.162282</td>\n",
       "      <td>0.082431</td>\n",
       "      <td>0.170021</td>\n",
       "      <td>0.129803</td>\n",
       "      <td>0.171316</td>\n",
       "      <td>0.113455</td>\n",
       "      <td>...</td>\n",
       "      <td>0.216869</td>\n",
       "      <td>0.128222</td>\n",
       "      <td>0.105995</td>\n",
       "      <td>0.109403</td>\n",
       "      <td>0.128725</td>\n",
       "      <td>0.114198</td>\n",
       "      <td>0.257083</td>\n",
       "      <td>0.113564</td>\n",
       "      <td>0.158249</td>\n",
       "      <td>0.149432</td>\n",
       "    </tr>\n",
       "    <tr>\n",
       "      <th>min</th>\n",
       "      <td>-0.291607</td>\n",
       "      <td>-0.285498</td>\n",
       "      <td>-0.283649</td>\n",
       "      <td>-0.284540</td>\n",
       "      <td>-0.253310</td>\n",
       "      <td>-0.098132</td>\n",
       "      <td>-0.246697</td>\n",
       "      <td>-0.265326</td>\n",
       "      <td>-0.308309</td>\n",
       "      <td>-0.171749</td>\n",
       "      <td>...</td>\n",
       "      <td>-0.317012</td>\n",
       "      <td>-0.239918</td>\n",
       "      <td>-0.338410</td>\n",
       "      <td>-0.099191</td>\n",
       "      <td>-0.139610</td>\n",
       "      <td>-0.286619</td>\n",
       "      <td>-0.491073</td>\n",
       "      <td>-0.171963</td>\n",
       "      <td>-0.165340</td>\n",
       "      <td>-0.260981</td>\n",
       "    </tr>\n",
       "    <tr>\n",
       "      <th>25%</th>\n",
       "      <td>-0.079769</td>\n",
       "      <td>-0.090807</td>\n",
       "      <td>-0.088303</td>\n",
       "      <td>-0.099291</td>\n",
       "      <td>-0.094149</td>\n",
       "      <td>-0.040150</td>\n",
       "      <td>-0.108351</td>\n",
       "      <td>-0.102549</td>\n",
       "      <td>-0.110807</td>\n",
       "      <td>-0.037403</td>\n",
       "      <td>...</td>\n",
       "      <td>-0.141914</td>\n",
       "      <td>-0.057485</td>\n",
       "      <td>-0.007879</td>\n",
       "      <td>-0.015594</td>\n",
       "      <td>-0.001478</td>\n",
       "      <td>-0.059667</td>\n",
       "      <td>-0.176714</td>\n",
       "      <td>-0.037851</td>\n",
       "      <td>-0.000409</td>\n",
       "      <td>-0.041850</td>\n",
       "    </tr>\n",
       "    <tr>\n",
       "      <th>50%</th>\n",
       "      <td>-0.041399</td>\n",
       "      <td>-0.033904</td>\n",
       "      <td>-0.037438</td>\n",
       "      <td>-0.012712</td>\n",
       "      <td>0.062326</td>\n",
       "      <td>0.030632</td>\n",
       "      <td>0.081679</td>\n",
       "      <td>-0.000134</td>\n",
       "      <td>-0.004483</td>\n",
       "      <td>-0.002640</td>\n",
       "      <td>...</td>\n",
       "      <td>-0.038741</td>\n",
       "      <td>-0.019343</td>\n",
       "      <td>0.003918</td>\n",
       "      <td>0.028327</td>\n",
       "      <td>0.095341</td>\n",
       "      <td>0.011165</td>\n",
       "      <td>-0.063572</td>\n",
       "      <td>-0.001893</td>\n",
       "      <td>0.032463</td>\n",
       "      <td>0.045711</td>\n",
       "    </tr>\n",
       "    <tr>\n",
       "      <th>75%</th>\n",
       "      <td>0.059544</td>\n",
       "      <td>0.069293</td>\n",
       "      <td>0.082603</td>\n",
       "      <td>0.077098</td>\n",
       "      <td>0.108921</td>\n",
       "      <td>0.064825</td>\n",
       "      <td>0.146000</td>\n",
       "      <td>0.062044</td>\n",
       "      <td>0.109596</td>\n",
       "      <td>0.030512</td>\n",
       "      <td>...</td>\n",
       "      <td>0.140738</td>\n",
       "      <td>0.040975</td>\n",
       "      <td>0.035399</td>\n",
       "      <td>0.159598</td>\n",
       "      <td>0.192911</td>\n",
       "      <td>0.049981</td>\n",
       "      <td>0.156841</td>\n",
       "      <td>0.030744</td>\n",
       "      <td>0.228299</td>\n",
       "      <td>0.137127</td>\n",
       "    </tr>\n",
       "    <tr>\n",
       "      <th>max</th>\n",
       "      <td>0.243082</td>\n",
       "      <td>0.142769</td>\n",
       "      <td>0.158359</td>\n",
       "      <td>0.130297</td>\n",
       "      <td>0.350578</td>\n",
       "      <td>0.172636</td>\n",
       "      <td>0.326927</td>\n",
       "      <td>0.137812</td>\n",
       "      <td>0.366247</td>\n",
       "      <td>0.329306</td>\n",
       "      <td>...</td>\n",
       "      <td>0.440976</td>\n",
       "      <td>0.347822</td>\n",
       "      <td>0.105164</td>\n",
       "      <td>0.305268</td>\n",
       "      <td>0.285316</td>\n",
       "      <td>0.170513</td>\n",
       "      <td>0.478998</td>\n",
       "      <td>0.329043</td>\n",
       "      <td>0.336693</td>\n",
       "      <td>0.251669</td>\n",
       "    </tr>\n",
       "  </tbody>\n",
       "</table>\n",
       "<p>8 rows × 56 columns</p>\n",
       "</div>"
      ],
      "text/plain": [
       "       sentences      words  letters.all  syllables      punct  \\\n",
       "count  15.000000  15.000000    15.000000  15.000000  15.000000   \n",
       "mean   -0.017541  -0.021595    -0.020148  -0.025750   0.015346   \n",
       "std     0.121979   0.123420     0.123650   0.123109   0.162282   \n",
       "min    -0.291607  -0.285498    -0.283649  -0.284540  -0.253310   \n",
       "25%    -0.079769  -0.090807    -0.088303  -0.099291  -0.094149   \n",
       "50%    -0.041399  -0.033904    -0.037438  -0.012712   0.062326   \n",
       "75%     0.059544   0.069293     0.082603   0.077098   0.108921   \n",
       "max     0.243082   0.142769     0.158359   0.130297   0.350578   \n",
       "\n",
       "       avg.sentc.length  avg.word.length  avg.syll.word  sntc.per.word  \\\n",
       "count         15.000000        15.000000      15.000000      15.000000   \n",
       "mean           0.025469         0.026887      -0.024660      -0.013360   \n",
       "std            0.082431         0.170021       0.129803       0.171316   \n",
       "min           -0.098132        -0.246697      -0.265326      -0.308309   \n",
       "25%           -0.040150        -0.108351      -0.102549      -0.110807   \n",
       "50%            0.030632         0.081679      -0.000134      -0.004483   \n",
       "75%            0.064825         0.146000       0.062044       0.109596   \n",
       "max            0.172636         0.326927       0.137812       0.366247   \n",
       "\n",
       "             TTR    ...      HD-D (vocd-D)  Herdan's C     Maas a  Maas lgV0  \\\n",
       "count  15.000000    ...          15.000000   15.000000  15.000000  15.000000   \n",
       "mean    0.015903    ...           0.000640    0.001014  -0.015598   0.066086   \n",
       "std     0.113455    ...           0.216869    0.128222   0.105995   0.109403   \n",
       "min    -0.171749    ...          -0.317012   -0.239918  -0.338410  -0.099191   \n",
       "25%    -0.037403    ...          -0.141914   -0.057485  -0.007879  -0.015594   \n",
       "50%    -0.002640    ...          -0.038741   -0.019343   0.003918   0.028327   \n",
       "75%     0.030512    ...           0.140738    0.040975   0.035399   0.159598   \n",
       "max     0.329306    ...           0.440976    0.347822   0.105164   0.305268   \n",
       "\n",
       "            MTLD   Root TTR     Summer      TTR.1  Uber index   Yule's K  \n",
       "count  15.000000  15.000000  15.000000  15.000000   15.000000  15.000000  \n",
       "mean    0.089889  -0.007149  -0.036428   0.015952    0.096691   0.035657  \n",
       "std     0.128725   0.114198   0.257083   0.113564    0.158249   0.149432  \n",
       "min    -0.139610  -0.286619  -0.491073  -0.171963   -0.165340  -0.260981  \n",
       "25%    -0.001478  -0.059667  -0.176714  -0.037851   -0.000409  -0.041850  \n",
       "50%     0.095341   0.011165  -0.063572  -0.001893    0.032463   0.045711  \n",
       "75%     0.192911   0.049981   0.156841   0.030744    0.228299   0.137127  \n",
       "max     0.285316   0.170513   0.478998   0.329043    0.336693   0.251669  \n",
       "\n",
       "[8 rows x 56 columns]"
      ]
     },
     "execution_count": 30,
     "metadata": {},
     "output_type": "execute_result"
    }
   ],
   "source": [
    "pca_components.describe()"
   ]
  },
  {
   "cell_type": "code",
   "execution_count": 31,
   "metadata": {},
   "outputs": [
    {
     "data": {
      "text/html": [
       "<div>\n",
       "<style scoped>\n",
       "    .dataframe tbody tr th:only-of-type {\n",
       "        vertical-align: middle;\n",
       "    }\n",
       "\n",
       "    .dataframe tbody tr th {\n",
       "        vertical-align: top;\n",
       "    }\n",
       "\n",
       "    .dataframe thead th {\n",
       "        text-align: right;\n",
       "    }\n",
       "</style>\n",
       "<table border=\"1\" class=\"dataframe\">\n",
       "  <thead>\n",
       "    <tr style=\"text-align: right;\">\n",
       "      <th></th>\n",
       "      <th>sentences</th>\n",
       "      <th>words</th>\n",
       "      <th>letters.all</th>\n",
       "      <th>syllables</th>\n",
       "      <th>punct</th>\n",
       "      <th>avg.sentc.length</th>\n",
       "      <th>avg.word.length</th>\n",
       "      <th>avg.syll.word</th>\n",
       "      <th>sntc.per.word</th>\n",
       "      <th>TTR</th>\n",
       "      <th>...</th>\n",
       "      <th>HD-D (vocd-D)</th>\n",
       "      <th>Herdan's C</th>\n",
       "      <th>Maas a</th>\n",
       "      <th>Maas lgV0</th>\n",
       "      <th>MTLD</th>\n",
       "      <th>Root TTR</th>\n",
       "      <th>Summer</th>\n",
       "      <th>TTR.1</th>\n",
       "      <th>Uber index</th>\n",
       "      <th>Yule's K</th>\n",
       "    </tr>\n",
       "  </thead>\n",
       "  <tbody>\n",
       "    <tr>\n",
       "      <th>0</th>\n",
       "      <td>-0.041399</td>\n",
       "      <td>0.063143</td>\n",
       "      <td>0.079288</td>\n",
       "      <td>0.078378</td>\n",
       "      <td>0.022357</td>\n",
       "      <td>0.155404</td>\n",
       "      <td>0.1196</td>\n",
       "      <td>0.127588</td>\n",
       "      <td>-0.124616</td>\n",
       "      <td>-0.007459</td>\n",
       "      <td>...</td>\n",
       "      <td>0.075877</td>\n",
       "      <td>0.018712</td>\n",
       "      <td>-0.0452</td>\n",
       "      <td>0.061667</td>\n",
       "      <td>0.069472</td>\n",
       "      <td>0.08333</td>\n",
       "      <td>0.05681</td>\n",
       "      <td>-0.007593</td>\n",
       "      <td>0.032463</td>\n",
       "      <td>-0.051802</td>\n",
       "    </tr>\n",
       "  </tbody>\n",
       "</table>\n",
       "<p>1 rows × 56 columns</p>\n",
       "</div>"
      ],
      "text/plain": [
       "   sentences     words  letters.all  syllables     punct  avg.sentc.length  \\\n",
       "0  -0.041399  0.063143     0.079288   0.078378  0.022357          0.155404   \n",
       "\n",
       "   avg.word.length  avg.syll.word  sntc.per.word       TTR    ...     \\\n",
       "0           0.1196       0.127588      -0.124616 -0.007459    ...      \n",
       "\n",
       "   HD-D (vocd-D)  Herdan's C  Maas a  Maas lgV0      MTLD  Root TTR   Summer  \\\n",
       "0       0.075877    0.018712 -0.0452   0.061667  0.069472   0.08333  0.05681   \n",
       "\n",
       "      TTR.1  Uber index  Yule's K  \n",
       "0 -0.007593    0.032463 -0.051802  \n",
       "\n",
       "[1 rows x 56 columns]"
      ]
     },
     "execution_count": 31,
     "metadata": {},
     "output_type": "execute_result"
    }
   ],
   "source": [
    "pca_components.head(1)"
   ]
  },
  {
   "cell_type": "code",
   "execution_count": 32,
   "metadata": {},
   "outputs": [
    {
     "data": {
      "text/plain": [
       "array([[-0.04139932,  0.06314284,  0.07928769,  0.07837809,  0.02235712,\n",
       "         0.15540381,  0.11960029,  0.12758761, -0.12461596, -0.00745908,\n",
       "         0.17999409, -0.11705559, -0.1183841 , -0.15377567, -0.14982756,\n",
       "        -0.15090903, -0.1552442 , -0.13982463,  0.16819085, -0.16818968,\n",
       "        -0.1594089 ,  0.11705547,  0.1731614 , -0.17902305, -0.18420287,\n",
       "         0.18138234,  0.1739195 ,  0.11845127,  0.16639361,  0.16366601,\n",
       "         0.18171388,  0.18282908,  0.18190034,  0.17732771,  0.17765777,\n",
       "         0.17143277,  0.16315919,  0.16073635,  0.16593492, -0.16587421,\n",
       "        -0.12123879,  0.01627472,  0.17813396,  0.17316099, -0.0361733 ,\n",
       "         0.08330552,  0.07587711,  0.01871157, -0.04519965,  0.06166704,\n",
       "         0.06947178,  0.0833302 ,  0.05681019, -0.00759257,  0.03246337,\n",
       "        -0.05180248],\n",
       "       [-0.29160708, -0.28549766, -0.28364941, -0.28453962, -0.25331027,\n",
       "         0.12272707, -0.08216563, -0.10818454,  0.04073061,  0.15432826,\n",
       "         0.07678892, -0.05385679,  0.09661377,  0.08766552,  0.07269805,\n",
       "         0.0842758 ,  0.08460992, -0.0875584 ,  0.13112713, -0.13112873,\n",
       "        -0.04208619,  0.05385707,  0.08862232, -0.00638637, -0.00263094,\n",
       "         0.07013163,  0.06655267, -0.09685475,  0.11143492,  0.11182559,\n",
       "         0.06049942,  0.00993322,  0.0170216 ,  0.0342601 ,  0.06075434,\n",
       "         0.08622627, -0.02710013,  0.1317129 ,  0.11029366,  0.06613278,\n",
       "         0.11880624,  0.0733877 ,  0.00115747,  0.08862478,  0.12754051,\n",
       "        -0.2866104 , -0.24201301,  0.06323752,  0.03872743, -0.09919086,\n",
       "        -0.13961008, -0.28661898, -0.13245623,  0.15444903,  0.00388746,\n",
       "         0.10739106]])"
      ]
     },
     "execution_count": 32,
     "metadata": {},
     "output_type": "execute_result"
    }
   ],
   "source": [
    "pca.components_[0:2]"
   ]
  },
  {
   "cell_type": "markdown",
   "metadata": {},
   "source": [
    "## Features selection test w/ chi2 test"
   ]
  },
  {
   "cell_type": "code",
   "execution_count": 33,
   "metadata": {},
   "outputs": [],
   "source": [
    "from sklearn.feature_selection import SelectKBest\n",
    "from sklearn.feature_selection import chi2"
   ]
  },
  {
   "cell_type": "code",
   "execution_count": 34,
   "metadata": {},
   "outputs": [],
   "source": [
    "selectK = SelectKBest(score_func=chi2, k=10)\n",
    "selectK_fit = selectK.fit(abs(df.loc[:, features].values), y)"
   ]
  },
  {
   "cell_type": "code",
   "execution_count": 35,
   "metadata": {},
   "outputs": [],
   "source": [
    "df_x_dropped = df.iloc[:,0:ncol-1]"
   ]
  },
  {
   "cell_type": "markdown",
   "metadata": {},
   "source": [
    "### Feature name : 10th"
   ]
  },
  {
   "cell_type": "code",
   "execution_count": 36,
   "metadata": {
    "scrolled": true
   },
   "outputs": [
    {
     "name": "stdout",
     "output_type": "stream",
     "text": [
      "['words', 'letters.all', 'syllables', 'punct', 'DRP', 'Fucks', 'Wheeler.Smith', 'text', 'MTLD', \"Yule's K\"]\n"
     ]
    }
   ],
   "source": [
    "x_tmp = df_x_dropped\n",
    "x_tmp.columns[selectK.get_support(indices=True)]\n",
    "vector_names = list(x_tmp.columns[selectK.get_support(indices=True)])\n",
    "print(vector_names)"
   ]
  },
  {
   "cell_type": "markdown",
   "metadata": {},
   "source": [
    "### All features values"
   ]
  },
  {
   "cell_type": "code",
   "execution_count": 37,
   "metadata": {},
   "outputs": [
    {
     "name": "stdout",
     "output_type": "stream",
     "text": [
      "[1.113e+04 4.159e+05 1.983e+06 6.512e+05 2.596e+04 8.937e+03 9.836e+01\n",
      " 3.746e+01 1.448e+02 6.886e+01 8.019e+03 3.904e+03 2.063e+03 1.163e+04\n",
      " 8.116e+03 8.605e+03 1.007e+04 1.259e+03 1.701e+02 1.173e+03 1.930e+03\n",
      " 3.979e+05 4.201e+03 7.095e+03 1.025e+04 7.400e+03 7.785e+03 1.955e+02\n",
      " 5.213e+04 8.943e+03 1.192e+04 4.347e+03 4.951e+03 5.094e+03 5.943e+03\n",
      " 3.649e+03 4.597e+03 1.653e+02 5.274e+03 1.585e+04 9.821e+03 2.753e+03\n",
      " 1.023e+03 4.201e+04 2.648e+07 3.412e+03 1.191e+04 9.480e-01 2.076e+00\n",
      " 3.288e+02 5.047e+04 4.826e+03 2.320e+01 6.895e+01 7.672e+02 1.095e+05]\n",
      "[[ 233.   1116.    363.     32.   3308.67   69.75   49.38   30.     70.74\n",
      "   146.62]\n",
      " [ 180.    866.    268.     18.   2695.75  123.71   82.86    9.    107.12\n",
      "   141.98]\n",
      " [ 180.    861.    269.     20.   2970.59   86.1    60.     23.    161.93\n",
      "    62.96]\n",
      " [ 180.    872.    281.     20.   2819.43   87.2    63.     36.    141.1\n",
      "    70.99]\n",
      " [ 187.    849.    283.     29.   3334.81   77.18   57.27   48.     70.69\n",
      "   124.11]]\n"
     ]
    }
   ],
   "source": [
    "np.set_printoptions(precision=3)\n",
    "print(selectK_fit.scores_)\n",
    "bestK_features = selectK_fit.transform(abs(df.loc[:, features].values))\n",
    "# summarize selected features\n",
    "print(bestK_features[0:5,:])"
   ]
  },
  {
   "cell_type": "markdown",
   "metadata": {},
   "source": [
    "## Feature Importance test"
   ]
  },
  {
   "cell_type": "code",
   "execution_count": 38,
   "metadata": {},
   "outputs": [],
   "source": [
    "from sklearn.ensemble import ExtraTreesClassifier"
   ]
  },
  {
   "cell_type": "code",
   "execution_count": 39,
   "metadata": {},
   "outputs": [
    {
     "name": "stdout",
     "output_type": "stream",
     "text": [
      "[0.021 0.044 0.053 0.083 0.014 0.011 0.01  0.01  0.015 0.018 0.01  0.01\n",
      " 0.01  0.009 0.014 0.012 0.012 0.011 0.01  0.009 0.01  0.01  0.01  0.01\n",
      " 0.01  0.011 0.012 0.012 0.01  0.012 0.01  0.011 0.01  0.013 0.011 0.011\n",
      " 0.013 0.013 0.01  0.013 0.012 0.015 0.018 0.011 0.076 0.063 0.045 0.012\n",
      " 0.009 0.018 0.014 0.041 0.012 0.026 0.01  0.012]\n"
     ]
    }
   ],
   "source": [
    "model = ExtraTreesClassifier()\n",
    "model.fit(x, np.ravel(y,order='C'))\n",
    "print(model.feature_importances_)"
   ]
  },
  {
   "cell_type": "code",
   "execution_count": 40,
   "metadata": {},
   "outputs": [],
   "source": [
    "# pd.DataFrame.from_records(model.feature_importances_,columns = features)\n",
    "feature_importance = dict(zip(features, model.feature_importances_))\n",
    "# feature_importance = pd.DataFrame([feature_importance.keys()], columns=feature_importance.values())\n",
    "# feature_importance_sorted = sorted(feature_importance.items(),  reverse=True)\n",
    "feature_importance_sorted = sorted(feature_importance.items(), key=lambda x: x[1], reverse=True)"
   ]
  },
  {
   "cell_type": "code",
   "execution_count": 41,
   "metadata": {},
   "outputs": [],
   "source": [
    "# sorted(feature_importance.items(), reverse=True)\n",
    "# from collections import OrderedDict\n",
    "# feature_importance_sorted = OrderedDict(sorted(feature_importance.items(), key=lambda x: x[1]))"
   ]
  },
  {
   "cell_type": "markdown",
   "metadata": {},
   "source": [
    "### Plot 10th most important feature"
   ]
  },
  {
   "cell_type": "code",
   "execution_count": 42,
   "metadata": {},
   "outputs": [
    {
     "data": {
      "text/plain": [
       "Text(0.5,0,'Feature')"
      ]
     },
     "execution_count": 42,
     "metadata": {},
     "output_type": "execute_result"
    },
    {
     "data": {
      "image/png": "[encoded data removed]",
      "text/plain": [
       "<matplotlib.figure.Figure at 0x2e48b4d0fd0>"
      ]
     },
     "metadata": {},
     "output_type": "display_data"
    }
   ],
   "source": [
    "plt.figure(figsize=(20,5))\n",
    "plt.scatter(*zip(*feature_importance_sorted[:10]))\n",
    "plt.xlabel('Feature')"
   ]
  },
  {
   "cell_type": "markdown",
   "metadata": {},
   "source": [
    "# Split x, y into train and test data"
   ]
  },
  {
   "cell_type": "code",
   "execution_count": 1,
   "metadata": {},
   "outputs": [],
   "source": [
    "# from sklearn.metrics import confusion_matrix\n",
    "from mlxtend.plotting import plot_confusion_matrix\n",
    "from mlxtend.evaluate import confusion_matrix\n",
    "from sklearn.model_selection import train_test_split\n",
    "from sklearn.metrics import make_scorer"
   ]
  },
  {
   "cell_type": "code",
   "execution_count": 44,
   "metadata": {},
   "outputs": [],
   "source": [
    "# dividing X, y into train and test data\n",
    "X_train, X_test, y_train, y_test = train_test_split(x, y, random_state = 0)"
   ]
  },
  {
   "cell_type": "code",
   "execution_count": 45,
   "metadata": {},
   "outputs": [],
   "source": [
    "# X_train\n",
    "# X_test\n",
    "# y_train\n",
    "# y_test"
   ]
  },
  {
   "cell_type": "code",
   "execution_count": 95,
   "metadata": {},
   "outputs": [],
   "source": [
    "# Cost matrix is given by http://cap2018.litislab.fr/competition_en.pdf\n",
    "# Lower is better.\n",
    "def compute_performance_from_confusion_matrix(confusion_matrix):\n",
    "    cost_matrix = np.array([[0,1,2,3,4,6], [1,0,1,4,5,8],[3,2,0,3,5,8], [10,7,5,0,2,7], [20,16,12,4,0,8], [44,38,32,19,13,0]])\n",
    "    n = confusion_matrix.sum()\n",
    "    # Performance E = Dot product of cost matrix and confusion matrix / nb_sample\n",
    "    performance_E = np.vdot(cost_matrix, confusion_matrix)/n\n",
    "    return performance_E\n",
    "def compute_performance_from_predictions(ground_truth, predictions):\n",
    "    cm = confusion_matrix(np.ravel(ground_truth, order='C'), predictions, binary=False)\n",
    "    cost_matrix = np.array([[0,1,2,3,4,6], [1,0,1,4,5,8],[3,2,0,3,5,8], [10,7,5,0,2,7], [20,16,12,4,0,8], [44,38,32,19,13,0]])\n",
    "    n = cm.sum()\n",
    "    # Performance E = Dot product of cost matrix and confusion matrix / nb_sample\n",
    "    performance_E = np.vdot(cost_matrix, cm)/n\n",
    "    return performance_E\n",
    "\n",
    "custom_loss = make_scorer(compute_performance_from_predictions, greater_is_better=False)"
   ]
  },
  {
   "cell_type": "code",
   "execution_count": 48,
   "metadata": {},
   "outputs": [
    {
     "data": {
      "text/plain": [
       "make_scorer(compute_performance_from_predictions, greater_is_better=False)"
      ]
     },
     "execution_count": 48,
     "metadata": {},
     "output_type": "execute_result"
    }
   ],
   "source": [
    "custom_loss"
   ]
  },
  {
   "cell_type": "code",
   "execution_count": 70,
   "metadata": {},
   "outputs": [],
   "source": [
    "from bayes_opt import BayesianOptimization"
   ]
  },
  {
   "cell_type": "markdown",
   "metadata": {},
   "source": [
    "## KNN multiclass"
   ]
  },
  {
   "cell_type": "code",
   "execution_count": 50,
   "metadata": {},
   "outputs": [],
   "source": [
    "# import KNN classifier\n",
    "from sklearn.neighbors import KNeighborsClassifier"
   ]
  },
  {
   "cell_type": "code",
   "execution_count": 51,
   "metadata": {},
   "outputs": [
    {
     "data": {
      "text/plain": [
       "(20482, 1)"
      ]
     },
     "execution_count": 51,
     "metadata": {},
     "output_type": "execute_result"
    }
   ],
   "source": [
    "y_train.shape"
   ]
  },
  {
   "cell_type": "code",
   "execution_count": 52,
   "metadata": {
    "scrolled": true
   },
   "outputs": [],
   "source": [
    "# training a KNN classifier\n",
    "knn = KNeighborsClassifier(n_neighbors = 7).fit(X_train, np.ravel(y_train,order='C'))"
   ]
  },
  {
   "cell_type": "code",
   "execution_count": 53,
   "metadata": {},
   "outputs": [
    {
     "name": "stdout",
     "output_type": "stream",
     "text": [
      "0.762888107791447\n"
     ]
    }
   ],
   "source": [
    "# accuracy on X_test\n",
    "accuracy = knn.score(X_test, y_test)\n",
    "print(accuracy)"
   ]
  },
  {
   "cell_type": "markdown",
   "metadata": {},
   "source": [
    "** Result = 0.763 **"
   ]
  },
  {
   "cell_type": "code",
   "execution_count": 54,
   "metadata": {},
   "outputs": [
    {
     "data": {
      "text/plain": [
       "(6828, 1)"
      ]
     },
     "execution_count": 54,
     "metadata": {},
     "output_type": "execute_result"
    }
   ],
   "source": [
    "y_test.shape"
   ]
  },
  {
   "cell_type": "code",
   "execution_count": 55,
   "metadata": {},
   "outputs": [],
   "source": [
    "# creating a confusion matrix\n",
    "knn_predictions = knn.predict(X_test) \n",
    "cm = confusion_matrix(np.ravel(y_test,order='C'), knn_predictions, binary=False)"
   ]
  },
  {
   "cell_type": "code",
   "execution_count": 57,
   "metadata": {},
   "outputs": [
    {
     "data": {
      "text/plain": [
       "0.5642940831868776"
      ]
     },
     "execution_count": 57,
     "metadata": {},
     "output_type": "execute_result"
    }
   ],
   "source": [
    "compute_performance_from_confusion_matrix(cm)"
   ]
  },
  {
   "cell_type": "code",
   "execution_count": 58,
   "metadata": {},
   "outputs": [
    {
     "data": {
      "image/png": "[encoded data removed]",
      "text/plain": [
       "<matplotlib.figure.Figure at 0x2e48c0fb588>"
      ]
     },
     "metadata": {},
     "output_type": "display_data"
    }
   ],
   "source": [
    "fig, ax = plot_confusion_matrix(conf_mat=cm)\n",
    "fig.set_size_inches(5,5)\n",
    "plt.show()"
   ]
  },
  {
   "cell_type": "code",
   "execution_count": 59,
   "metadata": {},
   "outputs": [],
   "source": [
    "# Test to iterate over K neighbors\n",
    "def iter_k_neighbors(k):\n",
    "    accuracy_result = pd.Series(index=[list(range(1,k))])\n",
    "#     predict_result = pd.Series(index=[list(range(1,k))])\n",
    "#     predict_result = [list(range(1,k))]\n",
    "#     cm_result = pd.Series(index=[list(range(1,k))])\n",
    "    cm_result = [list(range(1,k))]\n",
    "    for i in range(1,k):\n",
    "        k_nn = KNeighborsClassifier(n_neighbors = k).fit(X_train, np.ravel(y_train,order='C'))\n",
    "        accuracy_result[i] = k_nn.score(X_test, y_test)\n",
    "        print(\"k=\",i, \"Accuracy=\", accuracy_result[i])\n",
    "        predict_result = knn.predict(X_test) \n",
    "        cm = confusion_matrix(y_test, predict_result)\n",
    "        print(cm)\n",
    "    return [accuracy_result, predict_result, cm_result]"
   ]
  },
  {
   "cell_type": "code",
   "execution_count": 48,
   "metadata": {},
   "outputs": [],
   "source": [
    "# knn_result = iter_k_neighbors(3)\n",
    "# TODO : Debug"
   ]
  },
  {
   "cell_type": "code",
   "execution_count": 49,
   "metadata": {},
   "outputs": [],
   "source": [
    "# knn_result[0]"
   ]
  },
  {
   "cell_type": "markdown",
   "metadata": {},
   "source": [
    "## Hyperparameter optimization"
   ]
  },
  {
   "cell_type": "code",
   "execution_count": 72,
   "metadata": {},
   "outputs": [
    {
     "name": "stdout",
     "output_type": "stream",
     "text": [
      "\u001b[31mInitialization\u001b[0m\n",
      "\u001b[94m-----------------------------------------\u001b[0m\n",
      " Step |   Time |      Value |         k | \n",
      "    1 | 00m09s | \u001b[35m   0.68094\u001b[0m | \u001b[32m   1.0000\u001b[0m | \n",
      "    2 | 00m11s | \u001b[35m   0.69207\u001b[0m | \u001b[32m   2.0000\u001b[0m | \n",
      "    3 | 00m11s | \u001b[35m   0.71077\u001b[0m | \u001b[32m   3.0000\u001b[0m | \n",
      "    4 | 00m12s | \u001b[35m   0.72566\u001b[0m | \u001b[32m   4.0000\u001b[0m | \n",
      "    5 | 00m13s | \u001b[35m   0.73396\u001b[0m | \u001b[32m   5.0000\u001b[0m | \n",
      "    6 | 00m12s | \u001b[35m   0.73694\u001b[0m | \u001b[32m   6.0000\u001b[0m | \n",
      "    7 | 00m13s | \u001b[35m   0.74021\u001b[0m | \u001b[32m   7.0000\u001b[0m | \n",
      "    8 | 00m12s | \u001b[35m   0.74363\u001b[0m | \u001b[32m   8.0000\u001b[0m | \n",
      "    9 | 00m14s | \u001b[35m   0.74412\u001b[0m | \u001b[32m   9.0000\u001b[0m | \n",
      "   10 | 00m13s | \u001b[35m   0.74495\u001b[0m | \u001b[32m  10.0000\u001b[0m | \n",
      "   11 | 00m12s |    0.74485 |   11.0000 | \n",
      "   12 | 00m12s | \u001b[35m   0.74626\u001b[0m | \u001b[32m  12.0000\u001b[0m | \n",
      "   13 | 00m13s |    0.74622 |   13.0000 | \n",
      "   14 | 00m12s | \u001b[35m   0.74768\u001b[0m | \u001b[32m  14.0000\u001b[0m | \n",
      "   15 | 00m13s |    0.74685 |   15.0000 | \n",
      "   16 | 00m13s |    0.74656 |   16.0000 | \n",
      "   17 | 00m15s |    0.74597 |   17.0000 | \n",
      "   18 | 00m13s |    0.74646 |   18.0000 | \n",
      "   19 | 00m13s |    0.74626 |   19.0000 | \n",
      "   20 | 00m14s |    0.74460 |   20.0000 | \n",
      "   21 | 00m14s |    0.74519 |   21.0000 | \n",
      "   22 | 00m17s |    0.74412 |   22.0000 | \n",
      "   23 | 00m14s |    0.74329 |   23.0000 | \n",
      "   24 | 00m14s |    0.74382 |   24.0000 | \n"
     ]
    },
    {
     "ename": "TypeError",
     "evalue": "'numpy.float64' object cannot be interpreted as an integer",
     "traceback": [
      "\u001b[1;31m---------------------------------------------------------------------------\u001b[0m",
      "\u001b[1;31mTypeError\u001b[0m                                 Traceback (most recent call last)",
      "\u001b[1;32m<ipython-input-72-b3b03a7946ab>\u001b[0m in \u001b[0;36m<module>\u001b[1;34m()\u001b[0m\n\u001b[0;32m     15\u001b[0m \u001b[1;33m\u001b[0m\u001b[0m\n\u001b[0;32m     16\u001b[0m \u001b[1;33m\u001b[0m\u001b[0m\n\u001b[1;32m---> 17\u001b[1;33m \u001b[0mknnBO\u001b[0m\u001b[1;33m.\u001b[0m\u001b[0mmaximize\u001b[0m\u001b[1;33m(\u001b[0m\u001b[0mn_iter\u001b[0m\u001b[1;33m=\u001b[0m\u001b[1;36m25\u001b[0m\u001b[1;33m,\u001b[0m \u001b[1;33m**\u001b[0m\u001b[0mgp_params\u001b[0m\u001b[1;33m)\u001b[0m\u001b[1;33m\u001b[0m\u001b[0m\n\u001b[0m\u001b[0;32m     18\u001b[0m \u001b[0mprint\u001b[0m\u001b[1;33m(\u001b[0m\u001b[1;34m'-'\u001b[0m \u001b[1;33m*\u001b[0m \u001b[1;36m53\u001b[0m\u001b[1;33m)\u001b[0m\u001b[1;33m\u001b[0m\u001b[0m\n",
      "\u001b[1;32m~\\Anaconda3\\lib\\site-packages\\bayes_opt\\bayesian_optimization.py\u001b[0m in \u001b[0;36mmaximize\u001b[1;34m(self, init_points, n_iter, acq, kappa, xi, **gp_params)\u001b[0m\n\u001b[0;32m    241\u001b[0m             \u001b[1;32mif\u001b[0m \u001b[0mself\u001b[0m\u001b[1;33m.\u001b[0m\u001b[0mverbose\u001b[0m\u001b[1;33m:\u001b[0m\u001b[1;33m\u001b[0m\u001b[0m\n\u001b[0;32m    242\u001b[0m                 \u001b[0mself\u001b[0m\u001b[1;33m.\u001b[0m\u001b[0mplog\u001b[0m\u001b[1;33m.\u001b[0m\u001b[0mprint_header\u001b[0m\u001b[1;33m(\u001b[0m\u001b[1;33m)\u001b[0m\u001b[1;33m\u001b[0m\u001b[0m\n\u001b[1;32m--> 243\u001b[1;33m             \u001b[0mself\u001b[0m\u001b[1;33m.\u001b[0m\u001b[0minit\u001b[0m\u001b[1;33m(\u001b[0m\u001b[0minit_points\u001b[0m\u001b[1;33m)\u001b[0m\u001b[1;33m\u001b[0m\u001b[0m\n\u001b[0m\u001b[0;32m    244\u001b[0m \u001b[1;33m\u001b[0m\u001b[0m\n\u001b[0;32m    245\u001b[0m         \u001b[0my_max\u001b[0m \u001b[1;33m=\u001b[0m \u001b[0mself\u001b[0m\u001b[1;33m.\u001b[0m\u001b[0mspace\u001b[0m\u001b[1;33m.\u001b[0m\u001b[0mY\u001b[0m\u001b[1;33m.\u001b[0m\u001b[0mmax\u001b[0m\u001b[1;33m(\u001b[0m\u001b[1;33m)\u001b[0m\u001b[1;33m\u001b[0m\u001b[0m\n",
      "\u001b[1;32m~\\Anaconda3\\lib\\site-packages\\bayes_opt\\bayesian_optimization.py\u001b[0m in \u001b[0;36minit\u001b[1;34m(self, init_points)\u001b[0m\n\u001b[0;32m     87\u001b[0m         \u001b[1;31m# Evaluate target function at all initialization points\u001b[0m\u001b[1;33m\u001b[0m\u001b[1;33m\u001b[0m\u001b[0m\n\u001b[0;32m     88\u001b[0m         \u001b[1;32mfor\u001b[0m \u001b[0mx\u001b[0m \u001b[1;32min\u001b[0m \u001b[0mself\u001b[0m\u001b[1;33m.\u001b[0m\u001b[0minit_points\u001b[0m\u001b[1;33m:\u001b[0m\u001b[1;33m\u001b[0m\u001b[0m\n\u001b[1;32m---> 89\u001b[1;33m             \u001b[0my\u001b[0m \u001b[1;33m=\u001b[0m \u001b[0mself\u001b[0m\u001b[1;33m.\u001b[0m\u001b[0m_observe_point\u001b[0m\u001b[1;33m(\u001b[0m\u001b[0mx\u001b[0m\u001b[1;33m)\u001b[0m\u001b[1;33m\u001b[0m\u001b[0m\n\u001b[0m\u001b[0;32m     90\u001b[0m \u001b[1;33m\u001b[0m\u001b[0m\n\u001b[0;32m     91\u001b[0m         \u001b[1;31m# Add the points from `self.initialize` to the observations\u001b[0m\u001b[1;33m\u001b[0m\u001b[1;33m\u001b[0m\u001b[0m\n",
      "\u001b[1;32m~\\Anaconda3\\lib\\site-packages\\bayes_opt\\bayesian_optimization.py\u001b[0m in \u001b[0;36m_observe_point\u001b[1;34m(self, x)\u001b[0m\n\u001b[0;32m    102\u001b[0m \u001b[1;33m\u001b[0m\u001b[0m\n\u001b[0;32m    103\u001b[0m     \u001b[1;32mdef\u001b[0m \u001b[0m_observe_point\u001b[0m\u001b[1;33m(\u001b[0m\u001b[0mself\u001b[0m\u001b[1;33m,\u001b[0m \u001b[0mx\u001b[0m\u001b[1;33m)\u001b[0m\u001b[1;33m:\u001b[0m\u001b[1;33m\u001b[0m\u001b[0m\n\u001b[1;32m--> 104\u001b[1;33m         \u001b[0my\u001b[0m \u001b[1;33m=\u001b[0m \u001b[0mself\u001b[0m\u001b[1;33m.\u001b[0m\u001b[0mspace\u001b[0m\u001b[1;33m.\u001b[0m\u001b[0mobserve_point\u001b[0m\u001b[1;33m(\u001b[0m\u001b[0mx\u001b[0m\u001b[1;33m)\u001b[0m\u001b[1;33m\u001b[0m\u001b[0m\n\u001b[0m\u001b[0;32m    105\u001b[0m         \u001b[1;32mif\u001b[0m \u001b[0mself\u001b[0m\u001b[1;33m.\u001b[0m\u001b[0mverbose\u001b[0m\u001b[1;33m:\u001b[0m\u001b[1;33m\u001b[0m\u001b[0m\n\u001b[0;32m    106\u001b[0m             \u001b[0mself\u001b[0m\u001b[1;33m.\u001b[0m\u001b[0mplog\u001b[0m\u001b[1;33m.\u001b[0m\u001b[0mprint_step\u001b[0m\u001b[1;33m(\u001b[0m\u001b[0mx\u001b[0m\u001b[1;33m,\u001b[0m \u001b[0my\u001b[0m\u001b[1;33m)\u001b[0m\u001b[1;33m\u001b[0m\u001b[0m\n",
      "\u001b[1;32m~\\Anaconda3\\lib\\site-packages\\bayes_opt\\target_space.py\u001b[0m in \u001b[0;36mobserve_point\u001b[1;34m(self, x)\u001b[0m\n\u001b[0;32m    137\u001b[0m             \u001b[1;31m# measure the target function\u001b[0m\u001b[1;33m\u001b[0m\u001b[1;33m\u001b[0m\u001b[0m\n\u001b[0;32m    138\u001b[0m             \u001b[0mparams\u001b[0m \u001b[1;33m=\u001b[0m \u001b[0mdict\u001b[0m\u001b[1;33m(\u001b[0m\u001b[0mzip\u001b[0m\u001b[1;33m(\u001b[0m\u001b[0mself\u001b[0m\u001b[1;33m.\u001b[0m\u001b[0mkeys\u001b[0m\u001b[1;33m,\u001b[0m \u001b[0mx\u001b[0m\u001b[1;33m)\u001b[0m\u001b[1;33m)\u001b[0m\u001b[1;33m\u001b[0m\u001b[0m\n\u001b[1;32m--> 139\u001b[1;33m             \u001b[0my\u001b[0m \u001b[1;33m=\u001b[0m \u001b[0mself\u001b[0m\u001b[1;33m.\u001b[0m\u001b[0mtarget_func\u001b[0m\u001b[1;33m(\u001b[0m\u001b[1;33m**\u001b[0m\u001b[0mparams\u001b[0m\u001b[1;33m)\u001b[0m\u001b[1;33m\u001b[0m\u001b[0m\n\u001b[0m\u001b[0;32m    140\u001b[0m             \u001b[0mself\u001b[0m\u001b[1;33m.\u001b[0m\u001b[0madd_observation\u001b[0m\u001b[1;33m(\u001b[0m\u001b[0mx\u001b[0m\u001b[1;33m,\u001b[0m \u001b[0my\u001b[0m\u001b[1;33m)\u001b[0m\u001b[1;33m\u001b[0m\u001b[0m\n\u001b[0;32m    141\u001b[0m         \u001b[1;32mreturn\u001b[0m \u001b[0my\u001b[0m\u001b[1;33m\u001b[0m\u001b[0m\n",
      "\u001b[1;32m<ipython-input-72-b3b03a7946ab>\u001b[0m in \u001b[0;36mknncv\u001b[1;34m(k)\u001b[0m\n\u001b[0;32m      2\u001b[0m     val = cross_val_score(\n\u001b[0;32m      3\u001b[0m         \u001b[0mKNeighborsClassifier\u001b[0m\u001b[1;33m(\u001b[0m\u001b[0mn_neighbors\u001b[0m \u001b[1;33m=\u001b[0m \u001b[0mk\u001b[0m\u001b[1;33m)\u001b[0m\u001b[1;33m,\u001b[0m\u001b[1;33m\u001b[0m\u001b[0m\n\u001b[1;32m----> 4\u001b[1;33m         \u001b[0mX_train\u001b[0m\u001b[1;33m,\u001b[0m \u001b[0my_train\u001b[0m\u001b[1;33m.\u001b[0m\u001b[0mravel\u001b[0m\u001b[1;33m(\u001b[0m\u001b[1;33m)\u001b[0m\u001b[1;33m,\u001b[0m \u001b[0mcv\u001b[0m\u001b[1;33m=\u001b[0m\u001b[1;36m2\u001b[0m\u001b[1;33m\u001b[0m\u001b[0m\n\u001b[0m\u001b[0;32m      5\u001b[0m     ).mean()\n\u001b[0;32m      6\u001b[0m \u001b[1;33m\u001b[0m\u001b[0m\n",
      "\u001b[1;32m~\\Anaconda3\\lib\\site-packages\\sklearn\\model_selection\\_validation.py\u001b[0m in \u001b[0;36mcross_val_score\u001b[1;34m(estimator, X, y, groups, scoring, cv, n_jobs, verbose, fit_params, pre_dispatch)\u001b[0m\n\u001b[0;32m    340\u001b[0m                                 \u001b[0mn_jobs\u001b[0m\u001b[1;33m=\u001b[0m\u001b[0mn_jobs\u001b[0m\u001b[1;33m,\u001b[0m \u001b[0mverbose\u001b[0m\u001b[1;33m=\u001b[0m\u001b[0mverbose\u001b[0m\u001b[1;33m,\u001b[0m\u001b[1;33m\u001b[0m\u001b[0m\n\u001b[0;32m    341\u001b[0m                                 \u001b[0mfit_params\u001b[0m\u001b[1;33m=\u001b[0m\u001b[0mfit_params\u001b[0m\u001b[1;33m,\u001b[0m\u001b[1;33m\u001b[0m\u001b[0m\n\u001b[1;32m--> 342\u001b[1;33m                                 pre_dispatch=pre_dispatch)\n\u001b[0m\u001b[0;32m    343\u001b[0m     \u001b[1;32mreturn\u001b[0m \u001b[0mcv_results\u001b[0m\u001b[1;33m[\u001b[0m\u001b[1;34m'test_score'\u001b[0m\u001b[1;33m]\u001b[0m\u001b[1;33m\u001b[0m\u001b[0m\n\u001b[0;32m    344\u001b[0m \u001b[1;33m\u001b[0m\u001b[0m\n",
      "\u001b[1;32m~\\Anaconda3\\lib\\site-packages\\sklearn\\model_selection\\_validation.py\u001b[0m in \u001b[0;36mcross_validate\u001b[1;34m(estimator, X, y, groups, scoring, cv, n_jobs, verbose, fit_params, pre_dispatch, return_train_score)\u001b[0m\n\u001b[0;32m    204\u001b[0m             \u001b[0mfit_params\u001b[0m\u001b[1;33m,\u001b[0m \u001b[0mreturn_train_score\u001b[0m\u001b[1;33m=\u001b[0m\u001b[0mreturn_train_score\u001b[0m\u001b[1;33m,\u001b[0m\u001b[1;33m\u001b[0m\u001b[0m\n\u001b[0;32m    205\u001b[0m             return_times=True)\n\u001b[1;32m--> 206\u001b[1;33m         for train, test in cv.split(X, y, groups))\n\u001b[0m\u001b[0;32m    207\u001b[0m \u001b[1;33m\u001b[0m\u001b[0m\n\u001b[0;32m    208\u001b[0m     \u001b[1;32mif\u001b[0m \u001b[0mreturn_train_score\u001b[0m\u001b[1;33m:\u001b[0m\u001b[1;33m\u001b[0m\u001b[0m\n",
      "\u001b[1;32m~\\Anaconda3\\lib\\site-packages\\sklearn\\externals\\joblib\\parallel.py\u001b[0m in \u001b[0;36m__call__\u001b[1;34m(self, iterable)\u001b[0m\n\u001b[0;32m    777\u001b[0m             \u001b[1;31m# was dispatched. In particular this covers the edge\u001b[0m\u001b[1;33m\u001b[0m\u001b[1;33m\u001b[0m\u001b[0m\n\u001b[0;32m    778\u001b[0m             \u001b[1;31m# case of Parallel used with an exhausted iterator.\u001b[0m\u001b[1;33m\u001b[0m\u001b[1;33m\u001b[0m\u001b[0m\n\u001b[1;32m--> 779\u001b[1;33m             \u001b[1;32mwhile\u001b[0m \u001b[0mself\u001b[0m\u001b[1;33m.\u001b[0m\u001b[0mdispatch_one_batch\u001b[0m\u001b[1;33m(\u001b[0m\u001b[0miterator\u001b[0m\u001b[1;33m)\u001b[0m\u001b[1;33m:\u001b[0m\u001b[1;33m\u001b[0m\u001b[0m\n\u001b[0m\u001b[0;32m    780\u001b[0m                 \u001b[0mself\u001b[0m\u001b[1;33m.\u001b[0m\u001b[0m_iterating\u001b[0m \u001b[1;33m=\u001b[0m \u001b[1;32mTrue\u001b[0m\u001b[1;33m\u001b[0m\u001b[0m\n\u001b[0;32m    781\u001b[0m             \u001b[1;32melse\u001b[0m\u001b[1;33m:\u001b[0m\u001b[1;33m\u001b[0m\u001b[0m\n",
      "\u001b[1;32m~\\Anaconda3\\lib\\site-packages\\sklearn\\externals\\joblib\\parallel.py\u001b[0m in \u001b[0;36mdispatch_one_batch\u001b[1;34m(self, iterator)\u001b[0m\n\u001b[0;32m    623\u001b[0m                 \u001b[1;32mreturn\u001b[0m \u001b[1;32mFalse\u001b[0m\u001b[1;33m\u001b[0m\u001b[0m\n\u001b[0;32m    624\u001b[0m             \u001b[1;32melse\u001b[0m\u001b[1;33m:\u001b[0m\u001b[1;33m\u001b[0m\u001b[0m\n\u001b[1;32m--> 625\u001b[1;33m                 \u001b[0mself\u001b[0m\u001b[1;33m.\u001b[0m\u001b[0m_dispatch\u001b[0m\u001b[1;33m(\u001b[0m\u001b[0mtasks\u001b[0m\u001b[1;33m)\u001b[0m\u001b[1;33m\u001b[0m\u001b[0m\n\u001b[0m\u001b[0;32m    626\u001b[0m                 \u001b[1;32mreturn\u001b[0m \u001b[1;32mTrue\u001b[0m\u001b[1;33m\u001b[0m\u001b[0m\n\u001b[0;32m    627\u001b[0m \u001b[1;33m\u001b[0m\u001b[0m\n",
      "\u001b[1;32m~\\Anaconda3\\lib\\site-packages\\sklearn\\externals\\joblib\\parallel.py\u001b[0m in \u001b[0;36m_dispatch\u001b[1;34m(self, batch)\u001b[0m\n\u001b[0;32m    586\u001b[0m         \u001b[0mdispatch_timestamp\u001b[0m \u001b[1;33m=\u001b[0m \u001b[0mtime\u001b[0m\u001b[1;33m.\u001b[0m\u001b[0mtime\u001b[0m\u001b[1;33m(\u001b[0m\u001b[1;33m)\u001b[0m\u001b[1;33m\u001b[0m\u001b[0m\n\u001b[0;32m    587\u001b[0m         \u001b[0mcb\u001b[0m \u001b[1;33m=\u001b[0m \u001b[0mBatchCompletionCallBack\u001b[0m\u001b[1;33m(\u001b[0m\u001b[0mdispatch_timestamp\u001b[0m\u001b[1;33m,\u001b[0m \u001b[0mlen\u001b[0m\u001b[1;33m(\u001b[0m\u001b[0mbatch\u001b[0m\u001b[1;33m)\u001b[0m\u001b[1;33m,\u001b[0m \u001b[0mself\u001b[0m\u001b[1;33m)\u001b[0m\u001b[1;33m\u001b[0m\u001b[0m\n\u001b[1;32m--> 588\u001b[1;33m         \u001b[0mjob\u001b[0m \u001b[1;33m=\u001b[0m \u001b[0mself\u001b[0m\u001b[1;33m.\u001b[0m\u001b[0m_backend\u001b[0m\u001b[1;33m.\u001b[0m\u001b[0mapply_async\u001b[0m\u001b[1;33m(\u001b[0m\u001b[0mbatch\u001b[0m\u001b[1;33m,\u001b[0m \u001b[0mcallback\u001b[0m\u001b[1;33m=\u001b[0m\u001b[0mcb\u001b[0m\u001b[1;33m)\u001b[0m\u001b[1;33m\u001b[0m\u001b[0m\n\u001b[0m\u001b[0;32m    589\u001b[0m         \u001b[0mself\u001b[0m\u001b[1;33m.\u001b[0m\u001b[0m_jobs\u001b[0m\u001b[1;33m.\u001b[0m\u001b[0mappend\u001b[0m\u001b[1;33m(\u001b[0m\u001b[0mjob\u001b[0m\u001b[1;33m)\u001b[0m\u001b[1;33m\u001b[0m\u001b[0m\n\u001b[0;32m    590\u001b[0m \u001b[1;33m\u001b[0m\u001b[0m\n",
      "\u001b[1;32m~\\Anaconda3\\lib\\site-packages\\sklearn\\externals\\joblib\\_parallel_backends.py\u001b[0m in \u001b[0;36mapply_async\u001b[1;34m(self, func, callback)\u001b[0m\n\u001b[0;32m    109\u001b[0m     \u001b[1;32mdef\u001b[0m \u001b[0mapply_async\u001b[0m\u001b[1;33m(\u001b[0m\u001b[0mself\u001b[0m\u001b[1;33m,\u001b[0m \u001b[0mfunc\u001b[0m\u001b[1;33m,\u001b[0m \u001b[0mcallback\u001b[0m\u001b[1;33m=\u001b[0m\u001b[1;32mNone\u001b[0m\u001b[1;33m)\u001b[0m\u001b[1;33m:\u001b[0m\u001b[1;33m\u001b[0m\u001b[0m\n\u001b[0;32m    110\u001b[0m         \u001b[1;34m\"\"\"Schedule a func to be run\"\"\"\u001b[0m\u001b[1;33m\u001b[0m\u001b[0m\n\u001b[1;32m--> 111\u001b[1;33m         \u001b[0mresult\u001b[0m \u001b[1;33m=\u001b[0m \u001b[0mImmediateResult\u001b[0m\u001b[1;33m(\u001b[0m\u001b[0mfunc\u001b[0m\u001b[1;33m)\u001b[0m\u001b[1;33m\u001b[0m\u001b[0m\n\u001b[0m\u001b[0;32m    112\u001b[0m         \u001b[1;32mif\u001b[0m \u001b[0mcallback\u001b[0m\u001b[1;33m:\u001b[0m\u001b[1;33m\u001b[0m\u001b[0m\n\u001b[0;32m    113\u001b[0m             \u001b[0mcallback\u001b[0m\u001b[1;33m(\u001b[0m\u001b[0mresult\u001b[0m\u001b[1;33m)\u001b[0m\u001b[1;33m\u001b[0m\u001b[0m\n",
      "\u001b[1;32m~\\Anaconda3\\lib\\site-packages\\sklearn\\externals\\joblib\\_parallel_backends.py\u001b[0m in \u001b[0;36m__init__\u001b[1;34m(self, batch)\u001b[0m\n\u001b[0;32m    330\u001b[0m         \u001b[1;31m# Don't delay the application, to avoid keeping the input\u001b[0m\u001b[1;33m\u001b[0m\u001b[1;33m\u001b[0m\u001b[0m\n\u001b[0;32m    331\u001b[0m         \u001b[1;31m# arguments in memory\u001b[0m\u001b[1;33m\u001b[0m\u001b[1;33m\u001b[0m\u001b[0m\n\u001b[1;32m--> 332\u001b[1;33m         \u001b[0mself\u001b[0m\u001b[1;33m.\u001b[0m\u001b[0mresults\u001b[0m \u001b[1;33m=\u001b[0m \u001b[0mbatch\u001b[0m\u001b[1;33m(\u001b[0m\u001b[1;33m)\u001b[0m\u001b[1;33m\u001b[0m\u001b[0m\n\u001b[0m\u001b[0;32m    333\u001b[0m \u001b[1;33m\u001b[0m\u001b[0m\n\u001b[0;32m    334\u001b[0m     \u001b[1;32mdef\u001b[0m \u001b[0mget\u001b[0m\u001b[1;33m(\u001b[0m\u001b[0mself\u001b[0m\u001b[1;33m)\u001b[0m\u001b[1;33m:\u001b[0m\u001b[1;33m\u001b[0m\u001b[0m\n",
      "\u001b[1;32m~\\Anaconda3\\lib\\site-packages\\sklearn\\externals\\joblib\\parallel.py\u001b[0m in \u001b[0;36m__call__\u001b[1;34m(self)\u001b[0m\n\u001b[0;32m    129\u001b[0m \u001b[1;33m\u001b[0m\u001b[0m\n\u001b[0;32m    130\u001b[0m     \u001b[1;32mdef\u001b[0m \u001b[0m__call__\u001b[0m\u001b[1;33m(\u001b[0m\u001b[0mself\u001b[0m\u001b[1;33m)\u001b[0m\u001b[1;33m:\u001b[0m\u001b[1;33m\u001b[0m\u001b[0m\n\u001b[1;32m--> 131\u001b[1;33m         \u001b[1;32mreturn\u001b[0m \u001b[1;33m[\u001b[0m\u001b[0mfunc\u001b[0m\u001b[1;33m(\u001b[0m\u001b[1;33m*\u001b[0m\u001b[0margs\u001b[0m\u001b[1;33m,\u001b[0m \u001b[1;33m**\u001b[0m\u001b[0mkwargs\u001b[0m\u001b[1;33m)\u001b[0m \u001b[1;32mfor\u001b[0m \u001b[0mfunc\u001b[0m\u001b[1;33m,\u001b[0m \u001b[0margs\u001b[0m\u001b[1;33m,\u001b[0m \u001b[0mkwargs\u001b[0m \u001b[1;32min\u001b[0m \u001b[0mself\u001b[0m\u001b[1;33m.\u001b[0m\u001b[0mitems\u001b[0m\u001b[1;33m]\u001b[0m\u001b[1;33m\u001b[0m\u001b[0m\n\u001b[0m\u001b[0;32m    132\u001b[0m \u001b[1;33m\u001b[0m\u001b[0m\n\u001b[0;32m    133\u001b[0m     \u001b[1;32mdef\u001b[0m \u001b[0m__len__\u001b[0m\u001b[1;33m(\u001b[0m\u001b[0mself\u001b[0m\u001b[1;33m)\u001b[0m\u001b[1;33m:\u001b[0m\u001b[1;33m\u001b[0m\u001b[0m\n",
      "\u001b[1;32m~\\Anaconda3\\lib\\site-packages\\sklearn\\externals\\joblib\\parallel.py\u001b[0m in \u001b[0;36m<listcomp>\u001b[1;34m(.0)\u001b[0m\n\u001b[0;32m    129\u001b[0m \u001b[1;33m\u001b[0m\u001b[0m\n\u001b[0;32m    130\u001b[0m     \u001b[1;32mdef\u001b[0m \u001b[0m__call__\u001b[0m\u001b[1;33m(\u001b[0m\u001b[0mself\u001b[0m\u001b[1;33m)\u001b[0m\u001b[1;33m:\u001b[0m\u001b[1;33m\u001b[0m\u001b[0m\n\u001b[1;32m--> 131\u001b[1;33m         \u001b[1;32mreturn\u001b[0m \u001b[1;33m[\u001b[0m\u001b[0mfunc\u001b[0m\u001b[1;33m(\u001b[0m\u001b[1;33m*\u001b[0m\u001b[0margs\u001b[0m\u001b[1;33m,\u001b[0m \u001b[1;33m**\u001b[0m\u001b[0mkwargs\u001b[0m\u001b[1;33m)\u001b[0m \u001b[1;32mfor\u001b[0m \u001b[0mfunc\u001b[0m\u001b[1;33m,\u001b[0m \u001b[0margs\u001b[0m\u001b[1;33m,\u001b[0m \u001b[0mkwargs\u001b[0m \u001b[1;32min\u001b[0m \u001b[0mself\u001b[0m\u001b[1;33m.\u001b[0m\u001b[0mitems\u001b[0m\u001b[1;33m]\u001b[0m\u001b[1;33m\u001b[0m\u001b[0m\n\u001b[0m\u001b[0;32m    132\u001b[0m \u001b[1;33m\u001b[0m\u001b[0m\n\u001b[0;32m    133\u001b[0m     \u001b[1;32mdef\u001b[0m \u001b[0m__len__\u001b[0m\u001b[1;33m(\u001b[0m\u001b[0mself\u001b[0m\u001b[1;33m)\u001b[0m\u001b[1;33m:\u001b[0m\u001b[1;33m\u001b[0m\u001b[0m\n",
      "\u001b[1;32m~\\Anaconda3\\lib\\site-packages\\sklearn\\model_selection\\_validation.py\u001b[0m in \u001b[0;36m_fit_and_score\u001b[1;34m(estimator, X, y, scorer, train, test, verbose, parameters, fit_params, return_train_score, return_parameters, return_n_test_samples, return_times, error_score)\u001b[0m\n\u001b[0;32m    486\u001b[0m         \u001b[0mfit_time\u001b[0m \u001b[1;33m=\u001b[0m \u001b[0mtime\u001b[0m\u001b[1;33m.\u001b[0m\u001b[0mtime\u001b[0m\u001b[1;33m(\u001b[0m\u001b[1;33m)\u001b[0m \u001b[1;33m-\u001b[0m \u001b[0mstart_time\u001b[0m\u001b[1;33m\u001b[0m\u001b[0m\n\u001b[0;32m    487\u001b[0m         \u001b[1;31m# _score will return dict if is_multimetric is True\u001b[0m\u001b[1;33m\u001b[0m\u001b[1;33m\u001b[0m\u001b[0m\n\u001b[1;32m--> 488\u001b[1;33m         \u001b[0mtest_scores\u001b[0m \u001b[1;33m=\u001b[0m \u001b[0m_score\u001b[0m\u001b[1;33m(\u001b[0m\u001b[0mestimator\u001b[0m\u001b[1;33m,\u001b[0m \u001b[0mX_test\u001b[0m\u001b[1;33m,\u001b[0m \u001b[0my_test\u001b[0m\u001b[1;33m,\u001b[0m \u001b[0mscorer\u001b[0m\u001b[1;33m,\u001b[0m \u001b[0mis_multimetric\u001b[0m\u001b[1;33m)\u001b[0m\u001b[1;33m\u001b[0m\u001b[0m\n\u001b[0m\u001b[0;32m    489\u001b[0m         \u001b[0mscore_time\u001b[0m \u001b[1;33m=\u001b[0m \u001b[0mtime\u001b[0m\u001b[1;33m.\u001b[0m\u001b[0mtime\u001b[0m\u001b[1;33m(\u001b[0m\u001b[1;33m)\u001b[0m \u001b[1;33m-\u001b[0m \u001b[0mstart_time\u001b[0m \u001b[1;33m-\u001b[0m \u001b[0mfit_time\u001b[0m\u001b[1;33m\u001b[0m\u001b[0m\n\u001b[0;32m    490\u001b[0m         \u001b[1;32mif\u001b[0m \u001b[0mreturn_train_score\u001b[0m\u001b[1;33m:\u001b[0m\u001b[1;33m\u001b[0m\u001b[0m\n",
      "\u001b[1;32m~\\Anaconda3\\lib\\site-packages\\sklearn\\model_selection\\_validation.py\u001b[0m in \u001b[0;36m_score\u001b[1;34m(estimator, X_test, y_test, scorer, is_multimetric)\u001b[0m\n\u001b[0;32m    521\u001b[0m     \"\"\"\n\u001b[0;32m    522\u001b[0m     \u001b[1;32mif\u001b[0m \u001b[0mis_multimetric\u001b[0m\u001b[1;33m:\u001b[0m\u001b[1;33m\u001b[0m\u001b[0m\n\u001b[1;32m--> 523\u001b[1;33m         \u001b[1;32mreturn\u001b[0m \u001b[0m_multimetric_score\u001b[0m\u001b[1;33m(\u001b[0m\u001b[0mestimator\u001b[0m\u001b[1;33m,\u001b[0m \u001b[0mX_test\u001b[0m\u001b[1;33m,\u001b[0m \u001b[0my_test\u001b[0m\u001b[1;33m,\u001b[0m \u001b[0mscorer\u001b[0m\u001b[1;33m)\u001b[0m\u001b[1;33m\u001b[0m\u001b[0m\n\u001b[0m\u001b[0;32m    524\u001b[0m     \u001b[1;32melse\u001b[0m\u001b[1;33m:\u001b[0m\u001b[1;33m\u001b[0m\u001b[0m\n\u001b[0;32m    525\u001b[0m         \u001b[1;32mif\u001b[0m \u001b[0my_test\u001b[0m \u001b[1;32mis\u001b[0m \u001b[1;32mNone\u001b[0m\u001b[1;33m:\u001b[0m\u001b[1;33m\u001b[0m\u001b[0m\n",
      "\u001b[1;32m~\\Anaconda3\\lib\\site-packages\\sklearn\\model_selection\\_validation.py\u001b[0m in \u001b[0;36m_multimetric_score\u001b[1;34m(estimator, X_test, y_test, scorers)\u001b[0m\n\u001b[0;32m    551\u001b[0m             \u001b[0mscore\u001b[0m \u001b[1;33m=\u001b[0m \u001b[0mscorer\u001b[0m\u001b[1;33m(\u001b[0m\u001b[0mestimator\u001b[0m\u001b[1;33m,\u001b[0m \u001b[0mX_test\u001b[0m\u001b[1;33m)\u001b[0m\u001b[1;33m\u001b[0m\u001b[0m\n\u001b[0;32m    552\u001b[0m         \u001b[1;32melse\u001b[0m\u001b[1;33m:\u001b[0m\u001b[1;33m\u001b[0m\u001b[0m\n\u001b[1;32m--> 553\u001b[1;33m             \u001b[0mscore\u001b[0m \u001b[1;33m=\u001b[0m \u001b[0mscorer\u001b[0m\u001b[1;33m(\u001b[0m\u001b[0mestimator\u001b[0m\u001b[1;33m,\u001b[0m \u001b[0mX_test\u001b[0m\u001b[1;33m,\u001b[0m \u001b[0my_test\u001b[0m\u001b[1;33m)\u001b[0m\u001b[1;33m\u001b[0m\u001b[0m\n\u001b[0m\u001b[0;32m    554\u001b[0m \u001b[1;33m\u001b[0m\u001b[0m\n\u001b[0;32m    555\u001b[0m         \u001b[1;32mif\u001b[0m \u001b[0mhasattr\u001b[0m\u001b[1;33m(\u001b[0m\u001b[0mscore\u001b[0m\u001b[1;33m,\u001b[0m \u001b[1;34m'item'\u001b[0m\u001b[1;33m)\u001b[0m\u001b[1;33m:\u001b[0m\u001b[1;33m\u001b[0m\u001b[0m\n",
      "\u001b[1;32m~\\Anaconda3\\lib\\site-packages\\sklearn\\metrics\\scorer.py\u001b[0m in \u001b[0;36m_passthrough_scorer\u001b[1;34m(estimator, *args, **kwargs)\u001b[0m\n\u001b[0;32m    242\u001b[0m \u001b[1;32mdef\u001b[0m \u001b[0m_passthrough_scorer\u001b[0m\u001b[1;33m(\u001b[0m\u001b[0mestimator\u001b[0m\u001b[1;33m,\u001b[0m \u001b[1;33m*\u001b[0m\u001b[0margs\u001b[0m\u001b[1;33m,\u001b[0m \u001b[1;33m**\u001b[0m\u001b[0mkwargs\u001b[0m\u001b[1;33m)\u001b[0m\u001b[1;33m:\u001b[0m\u001b[1;33m\u001b[0m\u001b[0m\n\u001b[0;32m    243\u001b[0m     \u001b[1;34m\"\"\"Function that wraps estimator.score\"\"\"\u001b[0m\u001b[1;33m\u001b[0m\u001b[0m\n\u001b[1;32m--> 244\u001b[1;33m     \u001b[1;32mreturn\u001b[0m \u001b[0mestimator\u001b[0m\u001b[1;33m.\u001b[0m\u001b[0mscore\u001b[0m\u001b[1;33m(\u001b[0m\u001b[1;33m*\u001b[0m\u001b[0margs\u001b[0m\u001b[1;33m,\u001b[0m \u001b[1;33m**\u001b[0m\u001b[0mkwargs\u001b[0m\u001b[1;33m)\u001b[0m\u001b[1;33m\u001b[0m\u001b[0m\n\u001b[0m\u001b[0;32m    245\u001b[0m \u001b[1;33m\u001b[0m\u001b[0m\n\u001b[0;32m    246\u001b[0m \u001b[1;33m\u001b[0m\u001b[0m\n",
      "\u001b[1;32m~\\Anaconda3\\lib\\site-packages\\sklearn\\base.py\u001b[0m in \u001b[0;36mscore\u001b[1;34m(self, X, y, sample_weight)\u001b[0m\n\u001b[0;32m    347\u001b[0m         \"\"\"\n\u001b[0;32m    348\u001b[0m         \u001b[1;32mfrom\u001b[0m \u001b[1;33m.\u001b[0m\u001b[0mmetrics\u001b[0m \u001b[1;32mimport\u001b[0m \u001b[0maccuracy_score\u001b[0m\u001b[1;33m\u001b[0m\u001b[0m\n\u001b[1;32m--> 349\u001b[1;33m         \u001b[1;32mreturn\u001b[0m \u001b[0maccuracy_score\u001b[0m\u001b[1;33m(\u001b[0m\u001b[0my\u001b[0m\u001b[1;33m,\u001b[0m \u001b[0mself\u001b[0m\u001b[1;33m.\u001b[0m\u001b[0mpredict\u001b[0m\u001b[1;33m(\u001b[0m\u001b[0mX\u001b[0m\u001b[1;33m)\u001b[0m\u001b[1;33m,\u001b[0m \u001b[0msample_weight\u001b[0m\u001b[1;33m=\u001b[0m\u001b[0msample_weight\u001b[0m\u001b[1;33m)\u001b[0m\u001b[1;33m\u001b[0m\u001b[0m\n\u001b[0m\u001b[0;32m    350\u001b[0m \u001b[1;33m\u001b[0m\u001b[0m\n\u001b[0;32m    351\u001b[0m \u001b[1;33m\u001b[0m\u001b[0m\n",
      "\u001b[1;32m~\\Anaconda3\\lib\\site-packages\\sklearn\\neighbors\\classification.py\u001b[0m in \u001b[0;36mpredict\u001b[1;34m(self, X)\u001b[0m\n\u001b[0;32m    143\u001b[0m         \u001b[0mX\u001b[0m \u001b[1;33m=\u001b[0m \u001b[0mcheck_array\u001b[0m\u001b[1;33m(\u001b[0m\u001b[0mX\u001b[0m\u001b[1;33m,\u001b[0m \u001b[0maccept_sparse\u001b[0m\u001b[1;33m=\u001b[0m\u001b[1;34m'csr'\u001b[0m\u001b[1;33m)\u001b[0m\u001b[1;33m\u001b[0m\u001b[0m\n\u001b[0;32m    144\u001b[0m \u001b[1;33m\u001b[0m\u001b[0m\n\u001b[1;32m--> 145\u001b[1;33m         \u001b[0mneigh_dist\u001b[0m\u001b[1;33m,\u001b[0m \u001b[0mneigh_ind\u001b[0m \u001b[1;33m=\u001b[0m \u001b[0mself\u001b[0m\u001b[1;33m.\u001b[0m\u001b[0mkneighbors\u001b[0m\u001b[1;33m(\u001b[0m\u001b[0mX\u001b[0m\u001b[1;33m)\u001b[0m\u001b[1;33m\u001b[0m\u001b[0m\n\u001b[0m\u001b[0;32m    146\u001b[0m \u001b[1;33m\u001b[0m\u001b[0m\n\u001b[0;32m    147\u001b[0m         \u001b[0mclasses_\u001b[0m \u001b[1;33m=\u001b[0m \u001b[0mself\u001b[0m\u001b[1;33m.\u001b[0m\u001b[0mclasses_\u001b[0m\u001b[1;33m\u001b[0m\u001b[0m\n",
      "\u001b[1;32m~\\Anaconda3\\lib\\site-packages\\sklearn\\neighbors\\base.py\u001b[0m in \u001b[0;36mkneighbors\u001b[1;34m(self, X, n_neighbors, return_distance)\u001b[0m\n\u001b[0;32m    383\u001b[0m                 delayed(self._tree.query, check_pickle=False)(\n\u001b[0;32m    384\u001b[0m                     X[s], n_neighbors, return_distance)\n\u001b[1;32m--> 385\u001b[1;33m                 \u001b[1;32mfor\u001b[0m \u001b[0ms\u001b[0m \u001b[1;32min\u001b[0m \u001b[0mgen_even_slices\u001b[0m\u001b[1;33m(\u001b[0m\u001b[0mX\u001b[0m\u001b[1;33m.\u001b[0m\u001b[0mshape\u001b[0m\u001b[1;33m[\u001b[0m\u001b[1;36m0\u001b[0m\u001b[1;33m]\u001b[0m\u001b[1;33m,\u001b[0m \u001b[0mn_jobs\u001b[0m\u001b[1;33m)\u001b[0m\u001b[1;33m\u001b[0m\u001b[0m\n\u001b[0m\u001b[0;32m    386\u001b[0m             )\n\u001b[0;32m    387\u001b[0m             \u001b[1;32mif\u001b[0m \u001b[0mreturn_distance\u001b[0m\u001b[1;33m:\u001b[0m\u001b[1;33m\u001b[0m\u001b[0m\n",
      "\u001b[1;32m~\\Anaconda3\\lib\\site-packages\\sklearn\\externals\\joblib\\parallel.py\u001b[0m in \u001b[0;36m__call__\u001b[1;34m(self, iterable)\u001b[0m\n\u001b[0;32m    777\u001b[0m             \u001b[1;31m# was dispatched. In particular this covers the edge\u001b[0m\u001b[1;33m\u001b[0m\u001b[1;33m\u001b[0m\u001b[0m\n\u001b[0;32m    778\u001b[0m             \u001b[1;31m# case of Parallel used with an exhausted iterator.\u001b[0m\u001b[1;33m\u001b[0m\u001b[1;33m\u001b[0m\u001b[0m\n\u001b[1;32m--> 779\u001b[1;33m             \u001b[1;32mwhile\u001b[0m \u001b[0mself\u001b[0m\u001b[1;33m.\u001b[0m\u001b[0mdispatch_one_batch\u001b[0m\u001b[1;33m(\u001b[0m\u001b[0miterator\u001b[0m\u001b[1;33m)\u001b[0m\u001b[1;33m:\u001b[0m\u001b[1;33m\u001b[0m\u001b[0m\n\u001b[0m\u001b[0;32m    780\u001b[0m                 \u001b[0mself\u001b[0m\u001b[1;33m.\u001b[0m\u001b[0m_iterating\u001b[0m \u001b[1;33m=\u001b[0m \u001b[1;32mTrue\u001b[0m\u001b[1;33m\u001b[0m\u001b[0m\n\u001b[0;32m    781\u001b[0m             \u001b[1;32melse\u001b[0m\u001b[1;33m:\u001b[0m\u001b[1;33m\u001b[0m\u001b[0m\n",
      "\u001b[1;32m~\\Anaconda3\\lib\\site-packages\\sklearn\\externals\\joblib\\parallel.py\u001b[0m in \u001b[0;36mdispatch_one_batch\u001b[1;34m(self, iterator)\u001b[0m\n\u001b[0;32m    623\u001b[0m                 \u001b[1;32mreturn\u001b[0m \u001b[1;32mFalse\u001b[0m\u001b[1;33m\u001b[0m\u001b[0m\n\u001b[0;32m    624\u001b[0m             \u001b[1;32melse\u001b[0m\u001b[1;33m:\u001b[0m\u001b[1;33m\u001b[0m\u001b[0m\n\u001b[1;32m--> 625\u001b[1;33m                 \u001b[0mself\u001b[0m\u001b[1;33m.\u001b[0m\u001b[0m_dispatch\u001b[0m\u001b[1;33m(\u001b[0m\u001b[0mtasks\u001b[0m\u001b[1;33m)\u001b[0m\u001b[1;33m\u001b[0m\u001b[0m\n\u001b[0m\u001b[0;32m    626\u001b[0m                 \u001b[1;32mreturn\u001b[0m \u001b[1;32mTrue\u001b[0m\u001b[1;33m\u001b[0m\u001b[0m\n\u001b[0;32m    627\u001b[0m \u001b[1;33m\u001b[0m\u001b[0m\n",
      "\u001b[1;32m~\\Anaconda3\\lib\\site-packages\\sklearn\\externals\\joblib\\parallel.py\u001b[0m in \u001b[0;36m_dispatch\u001b[1;34m(self, batch)\u001b[0m\n\u001b[0;32m    586\u001b[0m         \u001b[0mdispatch_timestamp\u001b[0m \u001b[1;33m=\u001b[0m \u001b[0mtime\u001b[0m\u001b[1;33m.\u001b[0m\u001b[0mtime\u001b[0m\u001b[1;33m(\u001b[0m\u001b[1;33m)\u001b[0m\u001b[1;33m\u001b[0m\u001b[0m\n\u001b[0;32m    587\u001b[0m         \u001b[0mcb\u001b[0m \u001b[1;33m=\u001b[0m \u001b[0mBatchCompletionCallBack\u001b[0m\u001b[1;33m(\u001b[0m\u001b[0mdispatch_timestamp\u001b[0m\u001b[1;33m,\u001b[0m \u001b[0mlen\u001b[0m\u001b[1;33m(\u001b[0m\u001b[0mbatch\u001b[0m\u001b[1;33m)\u001b[0m\u001b[1;33m,\u001b[0m \u001b[0mself\u001b[0m\u001b[1;33m)\u001b[0m\u001b[1;33m\u001b[0m\u001b[0m\n\u001b[1;32m--> 588\u001b[1;33m         \u001b[0mjob\u001b[0m \u001b[1;33m=\u001b[0m \u001b[0mself\u001b[0m\u001b[1;33m.\u001b[0m\u001b[0m_backend\u001b[0m\u001b[1;33m.\u001b[0m\u001b[0mapply_async\u001b[0m\u001b[1;33m(\u001b[0m\u001b[0mbatch\u001b[0m\u001b[1;33m,\u001b[0m \u001b[0mcallback\u001b[0m\u001b[1;33m=\u001b[0m\u001b[0mcb\u001b[0m\u001b[1;33m)\u001b[0m\u001b[1;33m\u001b[0m\u001b[0m\n\u001b[0m\u001b[0;32m    589\u001b[0m         \u001b[0mself\u001b[0m\u001b[1;33m.\u001b[0m\u001b[0m_jobs\u001b[0m\u001b[1;33m.\u001b[0m\u001b[0mappend\u001b[0m\u001b[1;33m(\u001b[0m\u001b[0mjob\u001b[0m\u001b[1;33m)\u001b[0m\u001b[1;33m\u001b[0m\u001b[0m\n\u001b[0;32m    590\u001b[0m \u001b[1;33m\u001b[0m\u001b[0m\n",
      "\u001b[1;32m~\\Anaconda3\\lib\\site-packages\\sklearn\\externals\\joblib\\_parallel_backends.py\u001b[0m in \u001b[0;36mapply_async\u001b[1;34m(self, func, callback)\u001b[0m\n\u001b[0;32m    109\u001b[0m     \u001b[1;32mdef\u001b[0m \u001b[0mapply_async\u001b[0m\u001b[1;33m(\u001b[0m\u001b[0mself\u001b[0m\u001b[1;33m,\u001b[0m \u001b[0mfunc\u001b[0m\u001b[1;33m,\u001b[0m \u001b[0mcallback\u001b[0m\u001b[1;33m=\u001b[0m\u001b[1;32mNone\u001b[0m\u001b[1;33m)\u001b[0m\u001b[1;33m:\u001b[0m\u001b[1;33m\u001b[0m\u001b[0m\n\u001b[0;32m    110\u001b[0m         \u001b[1;34m\"\"\"Schedule a func to be run\"\"\"\u001b[0m\u001b[1;33m\u001b[0m\u001b[0m\n\u001b[1;32m--> 111\u001b[1;33m         \u001b[0mresult\u001b[0m \u001b[1;33m=\u001b[0m \u001b[0mImmediateResult\u001b[0m\u001b[1;33m(\u001b[0m\u001b[0mfunc\u001b[0m\u001b[1;33m)\u001b[0m\u001b[1;33m\u001b[0m\u001b[0m\n\u001b[0m\u001b[0;32m    112\u001b[0m         \u001b[1;32mif\u001b[0m \u001b[0mcallback\u001b[0m\u001b[1;33m:\u001b[0m\u001b[1;33m\u001b[0m\u001b[0m\n\u001b[0;32m    113\u001b[0m             \u001b[0mcallback\u001b[0m\u001b[1;33m(\u001b[0m\u001b[0mresult\u001b[0m\u001b[1;33m)\u001b[0m\u001b[1;33m\u001b[0m\u001b[0m\n",
      "\u001b[1;32m~\\Anaconda3\\lib\\site-packages\\sklearn\\externals\\joblib\\_parallel_backends.py\u001b[0m in \u001b[0;36m__init__\u001b[1;34m(self, batch)\u001b[0m\n\u001b[0;32m    330\u001b[0m         \u001b[1;31m# Don't delay the application, to avoid keeping the input\u001b[0m\u001b[1;33m\u001b[0m\u001b[1;33m\u001b[0m\u001b[0m\n\u001b[0;32m    331\u001b[0m         \u001b[1;31m# arguments in memory\u001b[0m\u001b[1;33m\u001b[0m\u001b[1;33m\u001b[0m\u001b[0m\n\u001b[1;32m--> 332\u001b[1;33m         \u001b[0mself\u001b[0m\u001b[1;33m.\u001b[0m\u001b[0mresults\u001b[0m \u001b[1;33m=\u001b[0m \u001b[0mbatch\u001b[0m\u001b[1;33m(\u001b[0m\u001b[1;33m)\u001b[0m\u001b[1;33m\u001b[0m\u001b[0m\n\u001b[0m\u001b[0;32m    333\u001b[0m \u001b[1;33m\u001b[0m\u001b[0m\n\u001b[0;32m    334\u001b[0m     \u001b[1;32mdef\u001b[0m \u001b[0mget\u001b[0m\u001b[1;33m(\u001b[0m\u001b[0mself\u001b[0m\u001b[1;33m)\u001b[0m\u001b[1;33m:\u001b[0m\u001b[1;33m\u001b[0m\u001b[0m\n",
      "\u001b[1;32m~\\Anaconda3\\lib\\site-packages\\sklearn\\externals\\joblib\\parallel.py\u001b[0m in \u001b[0;36m__call__\u001b[1;34m(self)\u001b[0m\n\u001b[0;32m    129\u001b[0m \u001b[1;33m\u001b[0m\u001b[0m\n\u001b[0;32m    130\u001b[0m     \u001b[1;32mdef\u001b[0m \u001b[0m__call__\u001b[0m\u001b[1;33m(\u001b[0m\u001b[0mself\u001b[0m\u001b[1;33m)\u001b[0m\u001b[1;33m:\u001b[0m\u001b[1;33m\u001b[0m\u001b[0m\n\u001b[1;32m--> 131\u001b[1;33m         \u001b[1;32mreturn\u001b[0m \u001b[1;33m[\u001b[0m\u001b[0mfunc\u001b[0m\u001b[1;33m(\u001b[0m\u001b[1;33m*\u001b[0m\u001b[0margs\u001b[0m\u001b[1;33m,\u001b[0m \u001b[1;33m**\u001b[0m\u001b[0mkwargs\u001b[0m\u001b[1;33m)\u001b[0m \u001b[1;32mfor\u001b[0m \u001b[0mfunc\u001b[0m\u001b[1;33m,\u001b[0m \u001b[0margs\u001b[0m\u001b[1;33m,\u001b[0m \u001b[0mkwargs\u001b[0m \u001b[1;32min\u001b[0m \u001b[0mself\u001b[0m\u001b[1;33m.\u001b[0m\u001b[0mitems\u001b[0m\u001b[1;33m]\u001b[0m\u001b[1;33m\u001b[0m\u001b[0m\n\u001b[0m\u001b[0;32m    132\u001b[0m \u001b[1;33m\u001b[0m\u001b[0m\n\u001b[0;32m    133\u001b[0m     \u001b[1;32mdef\u001b[0m \u001b[0m__len__\u001b[0m\u001b[1;33m(\u001b[0m\u001b[0mself\u001b[0m\u001b[1;33m)\u001b[0m\u001b[1;33m:\u001b[0m\u001b[1;33m\u001b[0m\u001b[0m\n",
      "\u001b[1;32m~\\Anaconda3\\lib\\site-packages\\sklearn\\externals\\joblib\\parallel.py\u001b[0m in \u001b[0;36m<listcomp>\u001b[1;34m(.0)\u001b[0m\n\u001b[0;32m    129\u001b[0m \u001b[1;33m\u001b[0m\u001b[0m\n\u001b[0;32m    130\u001b[0m     \u001b[1;32mdef\u001b[0m \u001b[0m__call__\u001b[0m\u001b[1;33m(\u001b[0m\u001b[0mself\u001b[0m\u001b[1;33m)\u001b[0m\u001b[1;33m:\u001b[0m\u001b[1;33m\u001b[0m\u001b[0m\n\u001b[1;32m--> 131\u001b[1;33m         \u001b[1;32mreturn\u001b[0m \u001b[1;33m[\u001b[0m\u001b[0mfunc\u001b[0m\u001b[1;33m(\u001b[0m\u001b[1;33m*\u001b[0m\u001b[0margs\u001b[0m\u001b[1;33m,\u001b[0m \u001b[1;33m**\u001b[0m\u001b[0mkwargs\u001b[0m\u001b[1;33m)\u001b[0m \u001b[1;32mfor\u001b[0m \u001b[0mfunc\u001b[0m\u001b[1;33m,\u001b[0m \u001b[0margs\u001b[0m\u001b[1;33m,\u001b[0m \u001b[0mkwargs\u001b[0m \u001b[1;32min\u001b[0m \u001b[0mself\u001b[0m\u001b[1;33m.\u001b[0m\u001b[0mitems\u001b[0m\u001b[1;33m]\u001b[0m\u001b[1;33m\u001b[0m\u001b[0m\n\u001b[0m\u001b[0;32m    132\u001b[0m \u001b[1;33m\u001b[0m\u001b[0m\n\u001b[0;32m    133\u001b[0m     \u001b[1;32mdef\u001b[0m \u001b[0m__len__\u001b[0m\u001b[1;33m(\u001b[0m\u001b[0mself\u001b[0m\u001b[1;33m)\u001b[0m\u001b[1;33m:\u001b[0m\u001b[1;33m\u001b[0m\u001b[0m\n",
      "\u001b[1;32msklearn\\neighbors\\binary_tree.pxi\u001b[0m in \u001b[0;36msklearn.neighbors.kd_tree.BinaryTree.query\u001b[1;34m()\u001b[0m\n",
      "\u001b[1;32msklearn\\neighbors\\binary_tree.pxi\u001b[0m in \u001b[0;36msklearn.neighbors.kd_tree.NeighborsHeap.__init__\u001b[1;34m()\u001b[0m\n",
      "\u001b[1;31mTypeError\u001b[0m: 'numpy.float64' object cannot be interpreted as an integer"
     ],
     "output_type": "error"
    }
   ],
   "source": [
    "def knncv(k):\n",
    "    val = cross_val_score(\n",
    "        KNeighborsClassifier(n_neighbors = k),\n",
    "        X_train, y_train.ravel(), cv=2\n",
    "    ).mean()\n",
    "\n",
    "    return val\n",
    "\n",
    "\n",
    "gp_params = {\"alpha\": 1e-5}\n",
    "\n",
    "knnBO = BayesianOptimization(knncv,\n",
    "    {'k': (1, 25)})\n",
    "knnBO.explore({'k': list(range(1,26))})\n",
    "\n",
    "\n",
    "knnBO.maximize(n_iter=25, **gp_params)\n",
    "print('-' * 53)"
   ]
  },
  {
   "cell_type": "markdown",
   "metadata": {},
   "source": [
    "** Optimal k = 14**"
   ]
  },
  {
   "cell_type": "code",
   "execution_count": 73,
   "metadata": {},
   "outputs": [
    {
     "ename": "TypeError",
     "evalue": "must be real number, not NoneType",
     "traceback": [
      "\u001b[1;31m---------------------------------------------------------------------------\u001b[0m",
      "\u001b[1;31mTypeError\u001b[0m                                 Traceback (most recent call last)",
      "\u001b[1;32m<ipython-input-73-9076cb7eff8c>\u001b[0m in \u001b[0;36m<module>\u001b[1;34m()\u001b[0m\n\u001b[1;32m----> 1\u001b[1;33m \u001b[0mprint\u001b[0m\u001b[1;33m(\u001b[0m\u001b[1;34m'KNN: %f'\u001b[0m \u001b[1;33m%\u001b[0m \u001b[0mknnBO\u001b[0m\u001b[1;33m.\u001b[0m\u001b[0mres\u001b[0m\u001b[1;33m[\u001b[0m\u001b[1;34m'max'\u001b[0m\u001b[1;33m]\u001b[0m\u001b[1;33m[\u001b[0m\u001b[1;34m'max_val'\u001b[0m\u001b[1;33m]\u001b[0m\u001b[1;33m)\u001b[0m\u001b[1;33m\u001b[0m\u001b[0m\n\u001b[0m",
      "\u001b[1;31mTypeError\u001b[0m: must be real number, not NoneType"
     ],
     "output_type": "error"
    }
   ],
   "source": [
    "print('KNN: %f' % knnBO.res['max']['max_val'])"
   ]
  },
  {
   "cell_type": "code",
   "execution_count": 74,
   "metadata": {},
   "outputs": [
    {
     "name": "stdout",
     "output_type": "stream",
     "text": [
      "0.7769478617457528\n"
     ]
    }
   ],
   "source": [
    "knn = KNeighborsClassifier(n_neighbors = 14).fit(X_train, np.ravel(y_train,order='C'))\n",
    "accuracy = knn.score(X_test, y_test)\n",
    "print(accuracy)"
   ]
  },
  {
   "cell_type": "markdown",
   "metadata": {},
   "source": [
    "** Result = 0.7769 **"
   ]
  },
  {
   "cell_type": "code",
   "execution_count": 75,
   "metadata": {},
   "outputs": [
    {
     "data": {
      "text/plain": [
       "0.536174575278266"
      ]
     },
     "execution_count": 75,
     "metadata": {},
     "output_type": "execute_result"
    }
   ],
   "source": [
    "knn_predictions = knn.predict(X_test) \n",
    "compute_performance_from_predictions(y_test, knn_predictions)"
   ]
  },
  {
   "cell_type": "markdown",
   "metadata": {},
   "source": [
    "** Performance error = 0.53617 **"
   ]
  },
  {
   "cell_type": "markdown",
   "metadata": {},
   "source": [
    "## SVM multiclass"
   ]
  },
  {
   "cell_type": "code",
   "execution_count": 50,
   "metadata": {},
   "outputs": [],
   "source": [
    "# dividing X, y into train and test data\n",
    "X_train, X_test, y_train, y_test = train_test_split(x, y, random_state = 0)"
   ]
  },
  {
   "cell_type": "code",
   "execution_count": 51,
   "metadata": {},
   "outputs": [],
   "source": [
    "from sklearn.svm import SVC"
   ]
  },
  {
   "cell_type": "code",
   "execution_count": 52,
   "metadata": {},
   "outputs": [],
   "source": [
    "# training a linear SVM classifier\n",
    "svm_model_linear = SVC(kernel = 'linear', C = 1).fit(X_train,np.ravel(y_train,order='C'))\n",
    "svm_predictions = svm_model_linear.predict(X_test)"
   ]
  },
  {
   "cell_type": "code",
   "execution_count": 53,
   "metadata": {},
   "outputs": [
    {
     "name": "stdout",
     "output_type": "stream",
     "text": [
      "0.7753368482718219\n"
     ]
    }
   ],
   "source": [
    "# model accuracy for X_test  \n",
    "accuracy = svm_model_linear.score(X_test, y_test)\n",
    "print(accuracy)"
   ]
  },
  {
   "cell_type": "markdown",
   "metadata": {},
   "source": [
    "** Result = 0.775 **"
   ]
  },
  {
   "cell_type": "code",
   "execution_count": 54,
   "metadata": {},
   "outputs": [
    {
     "data": {
      "image/png": "[encoded data removed]",
      "text/plain": [
       "<matplotlib.figure.Figure at 0x1b2b041b128>"
      ]
     },
     "metadata": {},
     "output_type": "display_data"
    }
   ],
   "source": [
    "# creating a confusion matrix\n",
    "cm = confusion_matrix(np.ravel(y_test,order='C'), svm_predictions)\n",
    "fig, ax = plot_confusion_matrix(conf_mat=cm)\n",
    "fig.set_size_inches(5,5)\n",
    "plt.show()"
   ]
  },
  {
   "cell_type": "code",
   "execution_count": null,
   "metadata": {},
   "outputs": [],
   "source": []
  },
  {
   "cell_type": "code",
   "execution_count": 55,
   "metadata": {},
   "outputs": [],
   "source": [
    "## TODO : GridSearch to fine tune C/Gamma parameters\n",
    "## Or Stochastic optimization"
   ]
  },
  {
   "cell_type": "code",
   "execution_count": 69,
   "metadata": {},
   "outputs": [],
   "source": [
    "from sklearn.model_selection import cross_val_score\n",
    "# from sklearn.ensemble import RandomForestClassifier as RFC\n",
    "from sklearn.svm import SVC\n",
    "\n",
    "\n"
   ]
  },
  {
   "cell_type": "code",
   "execution_count": 57,
   "metadata": {},
   "outputs": [],
   "source": [
    "# dividing X, y into train and test data\n",
    "X_train, X_test, y_train, y_test = train_test_split(x, y, random_state = 0)"
   ]
  },
  {
   "cell_type": "code",
   "execution_count": 111,
   "metadata": {},
   "outputs": [],
   "source": [
    "def svccv(C, gamma):\n",
    "    val = cross_val_score(\n",
    "        SVC(C=C, gamma=gamma, random_state=0),\n",
    "        X_train, np.ravel(y_train, order='C'), cv=2\n",
    "    ).mean()\n",
    "    return val"
   ]
  },
  {
   "cell_type": "code",
   "execution_count": 79,
   "metadata": {},
   "outputs": [],
   "source": [
    "gp_params = {\"alpha\": 1e-5}"
   ]
  },
  {
   "cell_type": "code",
   "execution_count": 112,
   "metadata": {},
   "outputs": [],
   "source": [
    "svcBO = BayesianOptimization(svccv, {'C': (0.001, 100), 'gamma': (0.0001, 0.1)})\n",
    "svcBO.explore({'C': [70.3639, 31.5522, 78.0449], 'gamma': [0.0097, 0.0158 , 0.0054]})"
   ]
  },
  {
   "cell_type": "code",
   "execution_count": 113,
   "metadata": {},
   "outputs": [
    {
     "name": "stdout",
     "output_type": "stream",
     "text": [
      "\u001b[31mInitialization\u001b[0m\n",
      "\u001b[94m-----------------------------------------------------\u001b[0m\n",
      " Step |   Time |      Value |         C |     gamma | \n",
      "    1 | 00m23s | \u001b[35m   0.79748\u001b[0m | \u001b[32m  70.3639\u001b[0m | \u001b[32m   0.0097\u001b[0m | \n",
      "    2 | 00m21s |    0.79631 |   31.5522 |    0.0158 | \n",
      "    3 | 00m21s |    0.79704 |   78.0449 |    0.0054 | \n",
      "    4 | 00m24s |    0.79421 |   83.2951 |    0.0167 | \n",
      "    5 | 00m22s |    0.79289 |   37.0916 |    0.0275 | \n",
      "    6 | 00m25s |    0.77990 |   10.9617 |    0.0701 | \n",
      "    7 | 00m27s |    0.77155 |   59.3832 |    0.0478 | \n",
      "    8 | 00m29s |    0.75930 |   74.4372 |    0.0585 | \n",
      "\u001b[31mBayesian Optimization\u001b[0m\n",
      "\u001b[94m-----------------------------------------------------\u001b[0m\n",
      " Step |   Time |      Value |         C |     gamma | \n",
      "    9 | 00m39s |    0.41480 |    0.0010 |    0.0001 | \n",
      "   10 | 00m26s |    0.74836 |  100.0000 |    0.0001 | \n",
      "   11 | 00m28s |    0.74041 |   20.1963 |    0.0001 | \n",
      "   12 | 00m28s |    0.74485 |   47.9541 |    0.0001 | \n",
      "   13 | 00m27s |    0.74768 |   93.1523 |    0.0001 | \n"
     ]
    },
    {
     "name": "stderr",
     "output_type": "stream",
     "text": [
      "C:\\Users\\Minh Tri\\Anaconda3\\lib\\site-packages\\sklearn\\gaussian_process\\gpr.py:457: UserWarning: fmin_l_bfgs_b terminated abnormally with the  state: {'grad': array([1.909e-05]), 'task': b'ABNORMAL_TERMINATION_IN_LNSRCH', 'funcalls': 61, 'nit': 7, 'warnflag': 2}\n",
      "  \" state: %s\" % convergence_dict)\n"
     ]
    },
    {
     "name": "stdout",
     "output_type": "stream",
     "text": [
      "   14 | 00m27s |    0.74617 |   65.0595 |    0.0001 | \n",
      "   15 | 00m27s |    0.74490 |   53.9115 |    0.0001 | \n",
      "   16 | 00m36s |    0.76350 |   14.8623 |    0.1000 | \n",
      "   17 | 00m35s |    0.75525 |   26.8104 |    0.1000 | \n",
      "   18 | 00m29s |    0.74446 |   42.0150 |    0.0001 | \n",
      "   19 | 00m39s |    0.74129 |   80.6300 |    0.0994 | \n",
      "   20 | 00m30s |    0.74734 |   88.0555 |    0.0001 | \n",
      "   21 | 00m35s |    0.77688 |    6.3296 |    0.1000 | \n",
      "   22 | 00m30s |    0.74778 |   96.9414 |    0.0001 | \n",
      "   23 | 00m36s |    0.75149 |   34.2915 |    0.1000 | \n",
      "   24 | 00m35s |    0.73264 |    8.4295 |    0.0001 | \n",
      "   25 | 00m42s |    0.74182 |   68.1290 |    0.1000 | \n",
      "   26 | 00m38s |    0.75300 |   29.4710 |    0.1000 | \n",
      "   27 | 00m31s |    0.74080 |   23.4826 |    0.0001 | \n",
      "   28 | 00m33s |    0.74602 |   61.9163 |    0.0001 | \n",
      "   29 | 00m38s |    0.74387 |   39.2664 |    0.0001 | \n",
      "   30 | 00m34s |    0.74446 |   45.1344 |    0.0001 | \n",
      "   31 | 00m40s |    0.72293 |    4.0831 |    0.0001 | \n",
      "   32 | 00m42s |    0.74114 |   85.3454 |    0.1000 | \n",
      "   33 | 00m30s |    0.74578 |   56.7397 |    0.0001 | \n",
      "   34 | 00m36s |    0.74470 |   50.9511 |    0.1000 | \n",
      "   35 | 00m35s |    0.73684 |   12.8041 |    0.0001 | \n",
      "   36 | 00m37s |    0.76120 |   17.4343 |    0.1000 | \n",
      "   37 | 00m31s |    0.74651 |   71.9635 |    0.0001 | \n"
     ]
    },
    {
     "name": "stderr",
     "output_type": "stream",
     "text": [
      "C:\\Users\\Minh Tri\\Anaconda3\\lib\\site-packages\\sklearn\\gaussian_process\\gpr.py:457: UserWarning: fmin_l_bfgs_b terminated abnormally with the  state: {'grad': array([-3.162e-05]), 'task': b'ABNORMAL_TERMINATION_IN_LNSRCH', 'funcalls': 46, 'nit': 4, 'warnflag': 2}\n",
      "  \" state: %s\" % convergence_dict)\n"
     ]
    },
    {
     "name": "stdout",
     "output_type": "stream",
     "text": [
      "   38 | 00m31s |    0.74675 |   76.4827 |    0.0001 | \n"
     ]
    },
    {
     "name": "stderr",
     "output_type": "stream",
     "text": [
      "C:\\Users\\Minh Tri\\Anaconda3\\lib\\site-packages\\sklearn\\gaussian_process\\gpr.py:457: UserWarning: fmin_l_bfgs_b terminated abnormally with the  state: {'grad': array([1.853e-05]), 'task': b'ABNORMAL_TERMINATION_IN_LNSRCH', 'funcalls': 56, 'nit': 4, 'warnflag': 2}\n",
      "  \" state: %s\" % convergence_dict)\n"
     ]
    },
    {
     "name": "stdout",
     "output_type": "stream",
     "text": [
      "-----------------------------------------------------\n"
     ]
    }
   ],
   "source": [
    "svcBO.maximize(n_iter=30, **gp_params)\n",
    "print('-' * 53)"
   ]
  },
  {
   "cell_type": "code",
   "execution_count": 114,
   "metadata": {},
   "outputs": [
    {
     "name": "stdout",
     "output_type": "stream",
     "text": [
      "SVC: 0.7974802360989064 for C=70.3639 and gamma=0.0097 \n"
     ]
    }
   ],
   "source": [
    "max_param = svcBO.res['max']['max_params']\n",
    "max_param\n",
    "print('SVC: {} for C={} and gamma={} '.format(svcBO.res['max']['max_val'], max_param['C'], max_param['gamma']))\n",
    "# 8 | 00m20s | score   0.79631 | C = 70.3639 | Gamma    0.0097  | "
   ]
  },
  {
   "cell_type": "code",
   "execution_count": 115,
   "metadata": {},
   "outputs": [],
   "source": [
    "svm_model = SVC(C = max_param['C'], gamma=max_param['gamma']).fit(X_train,np.ravel(y_train,order='C'))"
   ]
  },
  {
   "cell_type": "code",
   "execution_count": 116,
   "metadata": {},
   "outputs": [
    {
     "name": "stdout",
     "output_type": "stream",
     "text": [
      "0.8255711775043937\n"
     ]
    },
    {
     "data": {
      "text/plain": [
       "0.4094903339191564"
      ]
     },
     "execution_count": 116,
     "metadata": {},
     "output_type": "execute_result"
    }
   ],
   "source": [
    "svm_predictions = svm_model.predict(X_test)\n",
    "accuracy = svm_model.score(X_test, y_test)\n",
    "print(accuracy)\n",
    "# Result = 0.822788517867604\n",
    "compute_performance_from_predictions(y_test, svm_predictions)"
   ]
  },
  {
   "cell_type": "markdown",
   "metadata": {},
   "source": [
    "** Accuracy = 0.8255711775043937 **\n",
    "\n",
    "** Performance error = 0.4094903339191564 **"
   ]
  },
  {
   "cell_type": "code",
   "execution_count": 72,
   "metadata": {},
   "outputs": [
    {
     "data": {
      "image/png": "[encoded data removed]",
      "text/plain": [
       "<matplotlib.figure.Figure at 0x1b2caa36eb8>"
      ]
     },
     "metadata": {},
     "output_type": "display_data"
    }
   ],
   "source": [
    "# creating a confusion matrix\n",
    "cm = confusion_matrix(np.ravel(y_test,order='C'), svm_predictions)\n",
    "fig, ax = plot_confusion_matrix(conf_mat=cm)\n",
    "fig.set_size_inches(5,5)\n",
    "plt.show()\n",
    "# Model tend to underestimate because more there are more wrong prediction on the lower triangle"
   ]
  },
  {
   "cell_type": "code",
   "execution_count": 103,
   "metadata": {},
   "outputs": [
    {
     "name": "stdout",
     "output_type": "stream",
     "text": [
      "[[2551  258   47    9    0    0]\n",
      " [ 246 1494  147   18    1    0]\n",
      " [  39  151 1078   64    4    0]\n",
      " [  15   12  123  413   23    1]\n",
      " [   1    5    5   28   79    2]\n",
      " [   0    0    0    1   10    3]]\n"
     ]
    },
    {
     "data": {
      "text/plain": [
       "[[0, 1, 2, 3, 4, 6],\n",
       " [1, 0, 1, 4, 5, 8],\n",
       " [3, 2, 0, 3, 5, 8],\n",
       " [10, 7, 5, 0, 2, 7],\n",
       " [20, 16, 12, 4, 0, 8],\n",
       " [44, 38, 32, 19, 13, 0]]"
      ]
     },
     "execution_count": 103,
     "metadata": {},
     "output_type": "execute_result"
    }
   ],
   "source": [
    "print(cm)\n",
    "cost_matrix = [[0,1,2,3,4,6], [1,0,1,4,5,8],[3,2,0,3,5,8], [10,7,5,0,2,7], [20,16,12,4,0,8], [44,38,32,19,13,0]]\n",
    "cost_matrix"
   ]
  },
  {
   "cell_type": "code",
   "execution_count": 116,
   "metadata": {},
   "outputs": [
    {
     "data": {
      "text/plain": [
       "6828"
      ]
     },
     "execution_count": 116,
     "metadata": {},
     "output_type": "execute_result"
    }
   ],
   "source": [
    "cm.sum()"
   ]
  },
  {
   "cell_type": "code",
   "execution_count": 121,
   "metadata": {},
   "outputs": [
    {
     "data": {
      "text/plain": [
       "0.822788517867604"
      ]
     },
     "execution_count": 121,
     "metadata": {},
     "output_type": "execute_result"
    }
   ],
   "source": [
    "np.trace(cm)/6828"
   ]
  },
  {
   "cell_type": "code",
   "execution_count": 117,
   "metadata": {
    "scrolled": true
   },
   "outputs": [
    {
     "data": {
      "text/plain": [
       "0.4128588166373755"
      ]
     },
     "execution_count": 117,
     "metadata": {},
     "output_type": "execute_result"
    }
   ],
   "source": [
    "np.vdot(cost_matrix,cm)/6828"
   ]
  },
  {
   "cell_type": "code",
   "execution_count": 148,
   "metadata": {},
   "outputs": [
    {
     "name": "stderr",
     "output_type": "stream",
     "text": [
      "C:\\Users\\Minh Tri\\Anaconda3\\lib\\site-packages\\sklearn\\utils\\class_weight.py:47: FutureWarning: elementwise comparison failed; returning scalar instead, but in the future will perform elementwise comparison\n",
      "  elif class_weight == 'balanced':\n"
     ]
    },
    {
     "ename": "ValueError",
     "evalue": "class_weight must be dict, 'balanced', or None, got: array([[ 0,  1,  2,  3,  4,  6],\n       [ 1,  0,  1,  4,  5,  8],\n       [ 3,  2,  0,  3,  5,  8],\n       [10,  7,  5,  0,  2,  7],\n       [20, 16, 12,  4,  0,  8],\n       [44, 38, 32, 19, 13,  0]])",
     "traceback": [
      "\u001b[1;31m---------------------------------------------------------------------------\u001b[0m",
      "\u001b[1;31mValueError\u001b[0m                                Traceback (most recent call last)",
      "\u001b[1;32m<ipython-input-148-351f80a559df>\u001b[0m in \u001b[0;36m<module>\u001b[1;34m()\u001b[0m\n\u001b[1;32m----> 1\u001b[1;33m \u001b[0msvm_model\u001b[0m \u001b[1;33m=\u001b[0m \u001b[0mSVC\u001b[0m\u001b[1;33m(\u001b[0m\u001b[0mC\u001b[0m \u001b[1;33m=\u001b[0m \u001b[1;36m31.5522\u001b[0m\u001b[1;33m,\u001b[0m \u001b[0mgamma\u001b[0m\u001b[1;33m=\u001b[0m\u001b[1;36m0.0158\u001b[0m\u001b[1;33m,\u001b[0m \u001b[0mclass_weight\u001b[0m\u001b[1;33m=\u001b[0m\u001b[0mcost_matrix\u001b[0m\u001b[1;33m)\u001b[0m\u001b[1;33m.\u001b[0m\u001b[0mfit\u001b[0m\u001b[1;33m(\u001b[0m\u001b[0mX_train\u001b[0m\u001b[1;33m,\u001b[0m\u001b[0mnp\u001b[0m\u001b[1;33m.\u001b[0m\u001b[0mravel\u001b[0m\u001b[1;33m(\u001b[0m\u001b[0my_train\u001b[0m\u001b[1;33m,\u001b[0m\u001b[0morder\u001b[0m\u001b[1;33m=\u001b[0m\u001b[1;34m'C'\u001b[0m\u001b[1;33m)\u001b[0m\u001b[1;33m)\u001b[0m\u001b[1;33m\u001b[0m\u001b[0m\n\u001b[0m",
      "\u001b[1;32m~\\Anaconda3\\lib\\site-packages\\sklearn\\svm\\base.py\u001b[0m in \u001b[0;36mfit\u001b[1;34m(self, X, y, sample_weight)\u001b[0m\n\u001b[0;32m    148\u001b[0m \u001b[1;33m\u001b[0m\u001b[0m\n\u001b[0;32m    149\u001b[0m         \u001b[0mX\u001b[0m\u001b[1;33m,\u001b[0m \u001b[0my\u001b[0m \u001b[1;33m=\u001b[0m \u001b[0mcheck_X_y\u001b[0m\u001b[1;33m(\u001b[0m\u001b[0mX\u001b[0m\u001b[1;33m,\u001b[0m \u001b[0my\u001b[0m\u001b[1;33m,\u001b[0m \u001b[0mdtype\u001b[0m\u001b[1;33m=\u001b[0m\u001b[0mnp\u001b[0m\u001b[1;33m.\u001b[0m\u001b[0mfloat64\u001b[0m\u001b[1;33m,\u001b[0m \u001b[0morder\u001b[0m\u001b[1;33m=\u001b[0m\u001b[1;34m'C'\u001b[0m\u001b[1;33m,\u001b[0m \u001b[0maccept_sparse\u001b[0m\u001b[1;33m=\u001b[0m\u001b[1;34m'csr'\u001b[0m\u001b[1;33m)\u001b[0m\u001b[1;33m\u001b[0m\u001b[0m\n\u001b[1;32m--> 150\u001b[1;33m         \u001b[0my\u001b[0m \u001b[1;33m=\u001b[0m \u001b[0mself\u001b[0m\u001b[1;33m.\u001b[0m\u001b[0m_validate_targets\u001b[0m\u001b[1;33m(\u001b[0m\u001b[0my\u001b[0m\u001b[1;33m)\u001b[0m\u001b[1;33m\u001b[0m\u001b[0m\n\u001b[0m\u001b[0;32m    151\u001b[0m \u001b[1;33m\u001b[0m\u001b[0m\n\u001b[0;32m    152\u001b[0m         sample_weight = np.asarray([]\n",
      "\u001b[1;32m~\\Anaconda3\\lib\\site-packages\\sklearn\\svm\\base.py\u001b[0m in \u001b[0;36m_validate_targets\u001b[1;34m(self, y)\u001b[0m\n\u001b[0;32m    500\u001b[0m         \u001b[0mcheck_classification_targets\u001b[0m\u001b[1;33m(\u001b[0m\u001b[0my\u001b[0m\u001b[1;33m)\u001b[0m\u001b[1;33m\u001b[0m\u001b[0m\n\u001b[0;32m    501\u001b[0m         \u001b[0mcls\u001b[0m\u001b[1;33m,\u001b[0m \u001b[0my\u001b[0m \u001b[1;33m=\u001b[0m \u001b[0mnp\u001b[0m\u001b[1;33m.\u001b[0m\u001b[0munique\u001b[0m\u001b[1;33m(\u001b[0m\u001b[0my_\u001b[0m\u001b[1;33m,\u001b[0m \u001b[0mreturn_inverse\u001b[0m\u001b[1;33m=\u001b[0m\u001b[1;32mTrue\u001b[0m\u001b[1;33m)\u001b[0m\u001b[1;33m\u001b[0m\u001b[0m\n\u001b[1;32m--> 502\u001b[1;33m         \u001b[0mself\u001b[0m\u001b[1;33m.\u001b[0m\u001b[0mclass_weight_\u001b[0m \u001b[1;33m=\u001b[0m \u001b[0mcompute_class_weight\u001b[0m\u001b[1;33m(\u001b[0m\u001b[0mself\u001b[0m\u001b[1;33m.\u001b[0m\u001b[0mclass_weight\u001b[0m\u001b[1;33m,\u001b[0m \u001b[0mcls\u001b[0m\u001b[1;33m,\u001b[0m \u001b[0my_\u001b[0m\u001b[1;33m)\u001b[0m\u001b[1;33m\u001b[0m\u001b[0m\n\u001b[0m\u001b[0;32m    503\u001b[0m         \u001b[1;32mif\u001b[0m \u001b[0mlen\u001b[0m\u001b[1;33m(\u001b[0m\u001b[0mcls\u001b[0m\u001b[1;33m)\u001b[0m \u001b[1;33m<\u001b[0m \u001b[1;36m2\u001b[0m\u001b[1;33m:\u001b[0m\u001b[1;33m\u001b[0m\u001b[0m\n\u001b[0;32m    504\u001b[0m             raise ValueError(\n",
      "\u001b[1;32m~\\Anaconda3\\lib\\site-packages\\sklearn\\utils\\class_weight.py\u001b[0m in \u001b[0;36mcompute_class_weight\u001b[1;34m(class_weight, classes, y)\u001b[0m\n\u001b[0;32m     60\u001b[0m         \u001b[1;32mif\u001b[0m \u001b[1;32mnot\u001b[0m \u001b[0misinstance\u001b[0m\u001b[1;33m(\u001b[0m\u001b[0mclass_weight\u001b[0m\u001b[1;33m,\u001b[0m \u001b[0mdict\u001b[0m\u001b[1;33m)\u001b[0m\u001b[1;33m:\u001b[0m\u001b[1;33m\u001b[0m\u001b[0m\n\u001b[0;32m     61\u001b[0m             raise ValueError(\"class_weight must be dict, 'balanced', or None,\"\n\u001b[1;32m---> 62\u001b[1;33m                              \" got: %r\" % class_weight)\n\u001b[0m\u001b[0;32m     63\u001b[0m         \u001b[1;32mfor\u001b[0m \u001b[0mc\u001b[0m \u001b[1;32min\u001b[0m \u001b[0mclass_weight\u001b[0m\u001b[1;33m:\u001b[0m\u001b[1;33m\u001b[0m\u001b[0m\n\u001b[0;32m     64\u001b[0m             \u001b[0mi\u001b[0m \u001b[1;33m=\u001b[0m \u001b[0mnp\u001b[0m\u001b[1;33m.\u001b[0m\u001b[0msearchsorted\u001b[0m\u001b[1;33m(\u001b[0m\u001b[0mclasses\u001b[0m\u001b[1;33m,\u001b[0m \u001b[0mc\u001b[0m\u001b[1;33m)\u001b[0m\u001b[1;33m\u001b[0m\u001b[0m\n",
      "\u001b[1;31mValueError\u001b[0m: class_weight must be dict, 'balanced', or None, got: array([[ 0,  1,  2,  3,  4,  6],\n       [ 1,  0,  1,  4,  5,  8],\n       [ 3,  2,  0,  3,  5,  8],\n       [10,  7,  5,  0,  2,  7],\n       [20, 16, 12,  4,  0,  8],\n       [44, 38, 32, 19, 13,  0]])"
     ],
     "output_type": "error"
    }
   ],
   "source": [
    "svm_model = SVC(C = 31.5522, gamma=0.0158, class_weight=cost_matrix).fit(X_train,np.ravel(y_train,order='C'))"
   ]
  },
  {
   "cell_type": "code",
   "execution_count": 147,
   "metadata": {},
   "outputs": [
    {
     "name": "stdout",
     "output_type": "stream",
     "text": [
      "0.822788517867604\n"
     ]
    },
    {
     "data": {
      "text/plain": [
       "0.4128588166373755"
      ]
     },
     "execution_count": 147,
     "metadata": {},
     "output_type": "execute_result"
    }
   ],
   "source": [
    "svm_predictions = svm_model.predict(X_test)\n",
    "accuracy = svm_model.score(X_test, y_test)\n",
    "print(accuracy)\n",
    "# Result = 0.822788517867604\n",
    "compute_performance_from_predictions(y_test, svm_predictions)"
   ]
  },
  {
   "cell_type": "code",
   "execution_count": null,
   "metadata": {},
   "outputs": [],
   "source": []
  },
  {
   "cell_type": "code",
   "execution_count": null,
   "metadata": {},
   "outputs": [],
   "source": []
  },
  {
   "cell_type": "code",
   "execution_count": null,
   "metadata": {},
   "outputs": [],
   "source": []
  },
  {
   "cell_type": "code",
   "execution_count": null,
   "metadata": {},
   "outputs": [],
   "source": []
  },
  {
   "cell_type": "code",
   "execution_count": null,
   "metadata": {},
   "outputs": [],
   "source": []
  },
  {
   "cell_type": "code",
   "execution_count": null,
   "metadata": {},
   "outputs": [],
   "source": []
  },
  {
   "cell_type": "code",
   "execution_count": null,
   "metadata": {},
   "outputs": [],
   "source": []
  },
  {
   "cell_type": "code",
   "execution_count": null,
   "metadata": {},
   "outputs": [],
   "source": []
  },
  {
   "cell_type": "code",
   "execution_count": null,
   "metadata": {},
   "outputs": [],
   "source": []
  },
  {
   "cell_type": "code",
   "execution_count": null,
   "metadata": {},
   "outputs": [],
   "source": []
  },
  {
   "cell_type": "code",
   "execution_count": null,
   "metadata": {},
   "outputs": [],
   "source": []
  },
  {
   "cell_type": "code",
   "execution_count": null,
   "metadata": {},
   "outputs": [],
   "source": []
  },
  {
   "cell_type": "code",
   "execution_count": null,
   "metadata": {},
   "outputs": [],
   "source": []
  },
  {
   "cell_type": "code",
   "execution_count": null,
   "metadata": {},
   "outputs": [],
   "source": []
  },
  {
   "cell_type": "code",
   "execution_count": null,
   "metadata": {},
   "outputs": [],
   "source": []
  },
  {
   "cell_type": "code",
   "execution_count": null,
   "metadata": {},
   "outputs": [],
   "source": []
  },
  {
   "cell_type": "code",
   "execution_count": null,
   "metadata": {},
   "outputs": [],
   "source": []
  },
  {
   "cell_type": "code",
   "execution_count": null,
   "metadata": {},
   "outputs": [],
   "source": []
  },
  {
   "cell_type": "code",
   "execution_count": null,
   "metadata": {},
   "outputs": [],
   "source": []
  },
  {
   "cell_type": "code",
   "execution_count": 138,
   "metadata": {},
   "outputs": [],
   "source": [
    "test_set = pd.read_csv('../test_cap2018.csv')"
   ]
  },
  {
   "cell_type": "code",
   "execution_count": 158,
   "metadata": {},
   "outputs": [
    {
     "data": {
      "text/plain": [
       "(13656, 59)"
      ]
     },
     "execution_count": 158,
     "metadata": {},
     "output_type": "execute_result"
    }
   ],
   "source": [
    "test_set.shape"
   ]
  },
  {
   "cell_type": "code",
   "execution_count": 139,
   "metadata": {},
   "outputs": [],
   "source": [
    "df_test = prepare_data(test_set)\n",
    "x_test = standard_scale_x_data(df_test)"
   ]
  },
  {
   "cell_type": "code",
   "execution_count": 149,
   "metadata": {},
   "outputs": [],
   "source": [
    "nrow, ncol = df_test.shape\n",
    "df_x = standard_scale_x_data(df_test)"
   ]
  },
  {
   "cell_type": "code",
   "execution_count": 150,
   "metadata": {},
   "outputs": [
    {
     "data": {
      "text/plain": [
       "(13656, 56)"
      ]
     },
     "execution_count": 150,
     "metadata": {},
     "output_type": "execute_result"
    }
   ],
   "source": [
    "df_x.shape"
   ]
  },
  {
   "cell_type": "code",
   "execution_count": 152,
   "metadata": {},
   "outputs": [],
   "source": [
    "svm_predictions = svm_model.predict(x_test)"
   ]
  },
  {
   "cell_type": "code",
   "execution_count": 121,
   "metadata": {},
   "outputs": [],
   "source": [
    "import datetime\n",
    "today = datetime.datetime.today().strftime('%Y-%m-%d')"
   ]
  },
  {
   "cell_type": "code",
   "execution_count": 157,
   "metadata": {},
   "outputs": [],
   "source": [
    "svm_predictions\n",
    "# pd.to_csv(svm_predictions)\n",
    "# filename = './submissions/submit-' + today + '.csv'\n",
    "filename = './submissions/submit_Team-UTC_' + today + '.csv'\n",
    "# np.savetxt(filename, svm_predictions, delimiter=\",\", fmt='%1.4e')\n",
    "df_res = pd.DataFrame(svm_predictions)\n",
    "df_res.to_csv(filename, index=False, header=False)"
   ]
  },
  {
   "cell_type": "code",
   "execution_count": 156,
   "metadata": {},
   "outputs": [
    {
     "data": {
      "text/plain": [
       "(13656, 1)"
      ]
     },
     "execution_count": 156,
     "metadata": {},
     "output_type": "execute_result"
    }
   ],
   "source": [
    "df_res.shape"
   ]
  },
  {
   "cell_type": "code",
   "execution_count": 154,
   "metadata": {},
   "outputs": [
    {
     "data": {
      "text/plain": [
       "array(['A1', 'A1', 'A2', ..., 'B1', 'A1', 'A2'], dtype=object)"
      ]
     },
     "execution_count": 154,
     "metadata": {},
     "output_type": "execute_result"
    }
   ],
   "source": [
    "svm_predictions"
   ]
  },
  {
   "cell_type": "code",
   "execution_count": 151,
   "metadata": {},
   "outputs": [
    {
     "data": {
      "text/plain": [
       "(13656, 56)"
      ]
     },
     "execution_count": 151,
     "metadata": {},
     "output_type": "execute_result"
    }
   ],
   "source": [
    "x_test.shape"
   ]
  },
  {
   "cell_type": "code",
   "execution_count": 5,
   "metadata": {},
   "outputs": [
    {
     "ename": "ImportError",
     "evalue": "Could not find 'cudart64_90.dll'. TensorFlow requires that this DLL be installed in a directory that is named in your %PATH% environment variable. Download and install CUDA 9.0 from this URL: https://developer.nvidia.com/cuda-toolkit",
     "traceback": [
      "\u001b[1;31m---------------------------------------------------------------------------\u001b[0m",
      "\u001b[1;31mOSError\u001b[0m                                   Traceback (most recent call last)",
      "\u001b[1;32m~\\Anaconda3\\lib\\site-packages\\tensorflow\\python\\platform\\self_check.py\u001b[0m in \u001b[0;36mpreload_check\u001b[1;34m()\u001b[0m\n\u001b[0;32m     74\u001b[0m         \u001b[1;32mtry\u001b[0m\u001b[1;33m:\u001b[0m\u001b[1;33m\u001b[0m\u001b[0m\n\u001b[1;32m---> 75\u001b[1;33m           \u001b[0mctypes\u001b[0m\u001b[1;33m.\u001b[0m\u001b[0mWinDLL\u001b[0m\u001b[1;33m(\u001b[0m\u001b[0mbuild_info\u001b[0m\u001b[1;33m.\u001b[0m\u001b[0mcudart_dll_name\u001b[0m\u001b[1;33m)\u001b[0m\u001b[1;33m\u001b[0m\u001b[0m\n\u001b[0m\u001b[0;32m     76\u001b[0m         \u001b[1;32mexcept\u001b[0m \u001b[0mOSError\u001b[0m\u001b[1;33m:\u001b[0m\u001b[1;33m\u001b[0m\u001b[0m\n",
      "\u001b[1;32m~\\Anaconda3\\lib\\ctypes\\__init__.py\u001b[0m in \u001b[0;36m__init__\u001b[1;34m(self, name, mode, handle, use_errno, use_last_error)\u001b[0m\n\u001b[0;32m    347\u001b[0m         \u001b[1;32mif\u001b[0m \u001b[0mhandle\u001b[0m \u001b[1;32mis\u001b[0m \u001b[1;32mNone\u001b[0m\u001b[1;33m:\u001b[0m\u001b[1;33m\u001b[0m\u001b[0m\n\u001b[1;32m--> 348\u001b[1;33m             \u001b[0mself\u001b[0m\u001b[1;33m.\u001b[0m\u001b[0m_handle\u001b[0m \u001b[1;33m=\u001b[0m \u001b[0m_dlopen\u001b[0m\u001b[1;33m(\u001b[0m\u001b[0mself\u001b[0m\u001b[1;33m.\u001b[0m\u001b[0m_name\u001b[0m\u001b[1;33m,\u001b[0m \u001b[0mmode\u001b[0m\u001b[1;33m)\u001b[0m\u001b[1;33m\u001b[0m\u001b[0m\n\u001b[0m\u001b[0;32m    349\u001b[0m         \u001b[1;32melse\u001b[0m\u001b[1;33m:\u001b[0m\u001b[1;33m\u001b[0m\u001b[0m\n",
      "\u001b[1;31mOSError\u001b[0m: [WinError 126] The specified module could not be found",
      "\nDuring handling of the above exception, another exception occurred:\n",
      "\u001b[1;31mImportError\u001b[0m                               Traceback (most recent call last)",
      "\u001b[1;32m<ipython-input-5-013dba3de579>\u001b[0m in \u001b[0;36m<module>\u001b[1;34m()\u001b[0m\n\u001b[1;32m----> 1\u001b[1;33m \u001b[1;32mimport\u001b[0m \u001b[0mtensorflow\u001b[0m \u001b[1;32mas\u001b[0m \u001b[0mtf\u001b[0m\u001b[1;33m\u001b[0m\u001b[0m\n\u001b[0m\u001b[0;32m      2\u001b[0m \u001b[1;33m\u001b[0m\u001b[0m\n\u001b[0;32m      3\u001b[0m \u001b[0mx\u001b[0m \u001b[1;33m=\u001b[0m \u001b[0mtf\u001b[0m\u001b[1;33m.\u001b[0m\u001b[0mconstant\u001b[0m\u001b[1;33m(\u001b[0m\u001b[1;36m35\u001b[0m\u001b[1;33m,\u001b[0m \u001b[0mname\u001b[0m\u001b[1;33m=\u001b[0m\u001b[1;34m'x'\u001b[0m\u001b[1;33m)\u001b[0m\u001b[1;33m\u001b[0m\u001b[0m\n\u001b[0;32m      4\u001b[0m \u001b[0my\u001b[0m \u001b[1;33m=\u001b[0m \u001b[0mtf\u001b[0m\u001b[1;33m.\u001b[0m\u001b[0mVariable\u001b[0m\u001b[1;33m(\u001b[0m\u001b[0mx\u001b[0m \u001b[1;33m+\u001b[0m \u001b[1;36m5\u001b[0m\u001b[1;33m,\u001b[0m \u001b[0mname\u001b[0m\u001b[1;33m=\u001b[0m\u001b[1;34m'y'\u001b[0m\u001b[1;33m)\u001b[0m\u001b[1;33m\u001b[0m\u001b[0m\n\u001b[0;32m      5\u001b[0m \u001b[1;33m\u001b[0m\u001b[0m\n",
      "\u001b[1;32m~\\Anaconda3\\lib\\site-packages\\tensorflow\\__init__.py\u001b[0m in \u001b[0;36m<module>\u001b[1;34m()\u001b[0m\n\u001b[0;32m     22\u001b[0m \u001b[1;33m\u001b[0m\u001b[0m\n\u001b[0;32m     23\u001b[0m \u001b[1;31m# pylint: disable=g-bad-import-order\u001b[0m\u001b[1;33m\u001b[0m\u001b[1;33m\u001b[0m\u001b[0m\n\u001b[1;32m---> 24\u001b[1;33m \u001b[1;32mfrom\u001b[0m \u001b[0mtensorflow\u001b[0m\u001b[1;33m.\u001b[0m\u001b[0mpython\u001b[0m \u001b[1;32mimport\u001b[0m \u001b[0mpywrap_tensorflow\u001b[0m  \u001b[1;31m# pylint: disable=unused-import\u001b[0m\u001b[1;33m\u001b[0m\u001b[0m\n\u001b[0m\u001b[0;32m     25\u001b[0m \u001b[1;31m# pylint: disable=wildcard-import\u001b[0m\u001b[1;33m\u001b[0m\u001b[1;33m\u001b[0m\u001b[0m\n\u001b[0;32m     26\u001b[0m \u001b[1;32mfrom\u001b[0m \u001b[0mtensorflow\u001b[0m\u001b[1;33m.\u001b[0m\u001b[0mtools\u001b[0m\u001b[1;33m.\u001b[0m\u001b[0mapi\u001b[0m\u001b[1;33m.\u001b[0m\u001b[0mgenerator\u001b[0m\u001b[1;33m.\u001b[0m\u001b[0mapi\u001b[0m \u001b[1;32mimport\u001b[0m \u001b[1;33m*\u001b[0m  \u001b[1;31m# pylint: disable=redefined-builtin\u001b[0m\u001b[1;33m\u001b[0m\u001b[0m\n",
      "\u001b[1;32m~\\Anaconda3\\lib\\site-packages\\tensorflow\\python\\__init__.py\u001b[0m in \u001b[0;36m<module>\u001b[1;34m()\u001b[0m\n\u001b[0;32m     47\u001b[0m \u001b[1;32mimport\u001b[0m \u001b[0mnumpy\u001b[0m \u001b[1;32mas\u001b[0m \u001b[0mnp\u001b[0m\u001b[1;33m\u001b[0m\u001b[0m\n\u001b[0;32m     48\u001b[0m \u001b[1;33m\u001b[0m\u001b[0m\n\u001b[1;32m---> 49\u001b[1;33m \u001b[1;32mfrom\u001b[0m \u001b[0mtensorflow\u001b[0m\u001b[1;33m.\u001b[0m\u001b[0mpython\u001b[0m \u001b[1;32mimport\u001b[0m \u001b[0mpywrap_tensorflow\u001b[0m\u001b[1;33m\u001b[0m\u001b[0m\n\u001b[0m\u001b[0;32m     50\u001b[0m \u001b[1;33m\u001b[0m\u001b[0m\n\u001b[0;32m     51\u001b[0m \u001b[1;31m# Protocol buffers\u001b[0m\u001b[1;33m\u001b[0m\u001b[1;33m\u001b[0m\u001b[0m\n",
      "\u001b[1;32m~\\Anaconda3\\lib\\site-packages\\tensorflow\\python\\pywrap_tensorflow.py\u001b[0m in \u001b[0;36m<module>\u001b[1;34m()\u001b[0m\n\u001b[0;32m     28\u001b[0m \u001b[1;31m# Perform pre-load sanity checks in order to produce a more actionable error\u001b[0m\u001b[1;33m\u001b[0m\u001b[1;33m\u001b[0m\u001b[0m\n\u001b[0;32m     29\u001b[0m \u001b[1;31m# than we get from an error during SWIG import.\u001b[0m\u001b[1;33m\u001b[0m\u001b[1;33m\u001b[0m\u001b[0m\n\u001b[1;32m---> 30\u001b[1;33m \u001b[0mself_check\u001b[0m\u001b[1;33m.\u001b[0m\u001b[0mpreload_check\u001b[0m\u001b[1;33m(\u001b[0m\u001b[1;33m)\u001b[0m\u001b[1;33m\u001b[0m\u001b[0m\n\u001b[0m\u001b[0;32m     31\u001b[0m \u001b[1;33m\u001b[0m\u001b[0m\n\u001b[0;32m     32\u001b[0m \u001b[1;31m# pylint: disable=wildcard-import,g-import-not-at-top,unused-import,line-too-long\u001b[0m\u001b[1;33m\u001b[0m\u001b[1;33m\u001b[0m\u001b[0m\n",
      "\u001b[1;32m~\\Anaconda3\\lib\\site-packages\\tensorflow\\python\\platform\\self_check.py\u001b[0m in \u001b[0;36mpreload_check\u001b[1;34m()\u001b[0m\n\u001b[0;32m     80\u001b[0m               \u001b[1;34m\"environment variable. Download and install CUDA %s from \"\u001b[0m\u001b[1;33m\u001b[0m\u001b[0m\n\u001b[0;32m     81\u001b[0m               \u001b[1;34m\"this URL: https://developer.nvidia.com/cuda-toolkit\"\u001b[0m\u001b[1;33m\u001b[0m\u001b[0m\n\u001b[1;32m---> 82\u001b[1;33m               % (build_info.cudart_dll_name, build_info.cuda_version_number))\n\u001b[0m\u001b[0;32m     83\u001b[0m \u001b[1;33m\u001b[0m\u001b[0m\n\u001b[0;32m     84\u001b[0m       if hasattr(build_info, \"cudnn_dll_name\") and hasattr(\n",
      "\u001b[1;31mImportError\u001b[0m: Could not find 'cudart64_90.dll'. TensorFlow requires that this DLL be installed in a directory that is named in your %PATH% environment variable. Download and install CUDA 9.0 from this URL: https://developer.nvidia.com/cuda-toolkit"
     ],
     "output_type": "error"
    }
   ],
   "source": [
    "import tensorflow as tf\n",
    "\n",
    "x = tf.constant(35, name='x')\n",
    "y = tf.Variable(x + 5, name='y')\n",
    "\n",
    "model = tf.global_variables_initializer()\n",
    "\n",
    "with tf.Session() as session:\n",
    "    session.run(model)\n",
    "    print(session.run(y))"
   ]
  },
  {
   "cell_type": "code",
   "execution_count": null,
   "metadata": {},
   "outputs": [],
   "source": []
  },
  {
   "cell_type": "code",
   "execution_count": null,
   "metadata": {},
   "outputs": [],
   "source": []
  },
  {
   "cell_type": "markdown",
   "metadata": {},
   "source": []
  }
 ],
 "metadata": {
  "kernelspec": {
   "display_name": "Python 3",
   "language": "python",
   "name": "python3"
  },
  "language_info": {
   "codemirror_mode": {
    "name": "ipython",
    "version": 3
   },
   "file_extension": ".py",
   "mimetype": "text/x-python",
   "name": "python",
   "nbconvert_exporter": "python",
   "pygments_lexer": "ipython3",
   "version": "3.6.5"
  }
 },
 "nbformat": 4,
 "nbformat_minor": 2
}
