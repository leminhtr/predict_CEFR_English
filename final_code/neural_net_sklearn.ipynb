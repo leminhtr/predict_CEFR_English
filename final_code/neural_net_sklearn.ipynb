{
 "cells": [
  {
   "cell_type": "code",
   "execution_count": 15,
   "metadata": {},
   "outputs": [],
   "source": [
    "%matplotlib inline"
   ]
  },
  {
   "cell_type": "code",
   "execution_count": 16,
   "metadata": {},
   "outputs": [],
   "source": [
    "import pandas as pd\n",
    "import numpy as np\n",
    "import sklearn\n",
    "from sklearn.preprocessing import StandardScaler\n",
    "from sklearn.decomposition import PCA\n",
    "import matplotlib.pyplot as plt\n",
    "import seaborn as sns"
   ]
  },
  {
   "cell_type": "code",
   "execution_count": 17,
   "metadata": {},
   "outputs": [
    {
     "data": {
      "text/plain": [
       "array(['sentences', 'words', 'letters.all', 'syllables', 'punct',\n",
       "       'avg.sentc.length', 'avg.word.length', 'avg.syll.word',\n",
       "       'sntc.per.word', 'TTR', 'ARI', 'Bormuth', 'Coleman.C1',\n",
       "       'Coleman.C2', 'Coleman.C3', 'Coleman.C4', 'Coleman.Liau',\n",
       "       'Dale.Chall', 'Danielson.Bryan.DB1', 'Danielson.Bryan.DB2',\n",
       "       'Dickes.Steiwer', 'DRP', 'ELF', 'Farr.Jenkins.Paterson', 'Flesch',\n",
       "       'Flesch.Kincaid', 'FOG', 'FORCAST', 'Fucks', 'Linsear.Write',\n",
       "       'LIX', 'nWS1', 'nWS2', 'nWS3', 'nWS4', 'RIX', 'SMOG', 'Spache',\n",
       "       'Strain', 'Traenkle.Bailer.TB1', 'Traenkle.Bailer.TB2', 'TRI',\n",
       "       'Tuldava', 'Wheeler.Smith', 'text', 'CTTR', 'HD-D (vocd-D)',\n",
       "       \"Herdan's C\", 'Maas a', 'Maas lgV0', 'MATTR', 'MSTTR', 'MTLD',\n",
       "       'Root TTR', 'Summer', 'TTR.1', 'Uber index', \"Yule's K\"],\n",
       "      dtype=object)"
      ]
     },
     "execution_count": 17,
     "metadata": {},
     "output_type": "execute_result"
    }
   ],
   "source": [
    "train_set = pd.read_csv(\"../train_cap2018.csv\")\n",
    "(nrow_default, ncol_default) = train_set.shape\n",
    "features_list_default = train_set.columns.values[1:ncol_default-1]\n",
    "features_list_default"
   ]
  },
  {
   "cell_type": "markdown",
   "metadata": {},
   "source": [
    "## Drop string values"
   ]
  },
  {
   "cell_type": "code",
   "execution_count": 18,
   "metadata": {},
   "outputs": [],
   "source": [
    "df = train_set\n",
    "df = df.drop('fulltext', axis = 1)"
   ]
  },
  {
   "cell_type": "code",
   "execution_count": 19,
   "metadata": {},
   "outputs": [],
   "source": [
    "def prepare_data(df):\n",
    "    df = df.drop('fulltext', axis = 1)\n",
    "    df = df.drop('MATTR', axis=1)\n",
    "    df = df.drop('MSTTR', axis=1)\n",
    "    return df\n",
    "\n",
    "def split_df_to_data_target(df):\n",
    "    # Get list of features w/o feature containing string values\n",
    "    (nrow, ncol) = df.shape\n",
    "    features = df.columns.values[0:ncol-1]\n",
    "\n",
    "    # Separating out the features\n",
    "    x = df.loc[:, features].values\n",
    "\n",
    "    # Separating out the target\n",
    "    y = df.loc[:,['level1']].values\n",
    "    return x,y\n",
    "\n",
    "def standard_scale_x_data(x):\n",
    "    return StandardScaler().fit_transform(x)"
   ]
  },
  {
   "cell_type": "code",
   "execution_count": 20,
   "metadata": {
    "scrolled": true
   },
   "outputs": [
    {
     "name": "stdout",
     "output_type": "stream",
     "text": [
      "<class 'pandas.core.frame.DataFrame'>\n",
      "RangeIndex: 27310 entries, 0 to 27309\n",
      "Data columns (total 59 columns):\n",
      "sentences                27310 non-null int64\n",
      "words                    27310 non-null int64\n",
      "letters.all              27310 non-null int64\n",
      "syllables                27310 non-null int64\n",
      "punct                    27310 non-null int64\n",
      "avg.sentc.length         27310 non-null float64\n",
      "avg.word.length          27310 non-null float64\n",
      "avg.syll.word            27310 non-null float64\n",
      "sntc.per.word            27310 non-null float64\n",
      "TTR                      27310 non-null float64\n",
      "ARI                      27310 non-null float64\n",
      "Bormuth                  27310 non-null float64\n",
      "Coleman.C1               27310 non-null int64\n",
      "Coleman.C2               27310 non-null int64\n",
      "Coleman.C3               27310 non-null int64\n",
      "Coleman.C4               27310 non-null int64\n",
      "Coleman.Liau             27310 non-null int64\n",
      "Dale.Chall               27310 non-null float64\n",
      "Danielson.Bryan.DB1      27310 non-null float64\n",
      "Danielson.Bryan.DB2      27310 non-null float64\n",
      "Dickes.Steiwer           27310 non-null float64\n",
      "DRP                      27310 non-null float64\n",
      "ELF                      27310 non-null float64\n",
      "Farr.Jenkins.Paterson    27310 non-null float64\n",
      "Flesch                   27310 non-null float64\n",
      "Flesch.Kincaid           27310 non-null float64\n",
      "FOG                      27310 non-null float64\n",
      "FORCAST                  27310 non-null float64\n",
      "Fucks                    27310 non-null float64\n",
      "Linsear.Write            27310 non-null float64\n",
      "LIX                      27310 non-null float64\n",
      "nWS1                     27310 non-null float64\n",
      "nWS2                     27310 non-null float64\n",
      "nWS3                     27310 non-null float64\n",
      "nWS4                     27310 non-null float64\n",
      "RIX                      27310 non-null float64\n",
      "SMOG                     27310 non-null float64\n",
      "Spache                   27310 non-null float64\n",
      "Strain                   27310 non-null float64\n",
      "Traenkle.Bailer.TB1      27310 non-null float64\n",
      "Traenkle.Bailer.TB2      27310 non-null float64\n",
      "TRI                      27310 non-null float64\n",
      "Tuldava                  27310 non-null float64\n",
      "Wheeler.Smith            27310 non-null float64\n",
      "text                     27310 non-null int64\n",
      "CTTR                     27310 non-null float64\n",
      "HD-D (vocd-D)            27310 non-null float64\n",
      "Herdan's C               27310 non-null float64\n",
      "Maas a                   27310 non-null float64\n",
      "Maas lgV0                27310 non-null float64\n",
      "MATTR                    5459 non-null float64\n",
      "MSTTR                    5674 non-null float64\n",
      "MTLD                     27310 non-null float64\n",
      "Root TTR                 27310 non-null float64\n",
      "Summer                   27310 non-null float64\n",
      "TTR.1                    27310 non-null float64\n",
      "Uber index               27310 non-null float64\n",
      "Yule's K                 27310 non-null float64\n",
      "level1                   27310 non-null object\n",
      "dtypes: float64(47), int64(11), object(1)\n",
      "memory usage: 12.3+ MB\n"
     ]
    }
   ],
   "source": [
    "df.info()"
   ]
  },
  {
   "cell_type": "code",
   "execution_count": 21,
   "metadata": {},
   "outputs": [
    {
     "data": {
      "text/plain": [
       "59"
      ]
     },
     "execution_count": 21,
     "metadata": {},
     "output_type": "execute_result"
    }
   ],
   "source": [
    "(nrow, ncol) = df.shape\n",
    "ncol"
   ]
  },
  {
   "cell_type": "markdown",
   "metadata": {},
   "source": [
    "## Plot correlation"
   ]
  },
  {
   "cell_type": "code",
   "execution_count": 22,
   "metadata": {
    "scrolled": true
   },
   "outputs": [
    {
     "data": {
      "text/plain": [
       "<matplotlib.axes._subplots.AxesSubplot at 0x20b5b60aeb8>"
      ]
     },
     "execution_count": 22,
     "metadata": {},
     "output_type": "execute_result"
    },
    {
     "data": {
      "image/png": "[encoded data removed]",
      "text/plain": [
       "<matplotlib.figure.Figure at 0x20b5b60a7b8>"
      ]
     },
     "metadata": {},
     "output_type": "display_data"
    }
   ],
   "source": [
    "corr = df.corr()\n",
    "\n",
    "# Generate a mask for the upper triangle\n",
    "mask = np.zeros_like(corr, dtype=np.bool)\n",
    "mask[np.triu_indices_from(mask)] = True\n",
    "\n",
    "# Set up the matplotlib figure\n",
    "f, ax = plt.subplots(figsize=(11, 9))\n",
    "\n",
    "# Set label\n",
    "ax.set_title('Correlation heatmap')\n",
    "\n",
    "# Generate a custom diverging colormap\n",
    "cmap = sns.diverging_palette(220, 10, as_cmap=True)\n",
    "\n",
    "# Draw the heatmap with the mask and correct aspect ratio\n",
    "sns.heatmap(corr, mask=mask, cmap=cmap, vmax=.3, center=0,\n",
    "            square=True, linewidths=.5, cbar_kws={\"shrink\": .5})"
   ]
  },
  {
   "cell_type": "markdown",
   "metadata": {},
   "source": [
    "## Checking for NaN values"
   ]
  },
  {
   "cell_type": "code",
   "execution_count": 23,
   "metadata": {},
   "outputs": [
    {
     "data": {
      "text/html": [
       "<div>\n",
       "<style scoped>\n",
       "    .dataframe tbody tr th:only-of-type {\n",
       "        vertical-align: middle;\n",
       "    }\n",
       "\n",
       "    .dataframe tbody tr th {\n",
       "        vertical-align: top;\n",
       "    }\n",
       "\n",
       "    .dataframe thead th {\n",
       "        text-align: right;\n",
       "    }\n",
       "</style>\n",
       "<table border=\"1\" class=\"dataframe\">\n",
       "  <thead>\n",
       "    <tr style=\"text-align: right;\">\n",
       "      <th></th>\n",
       "      <th>Column name</th>\n",
       "      <th>Ratio of non NaN values</th>\n",
       "    </tr>\n",
       "  </thead>\n",
       "  <tbody>\n",
       "    <tr>\n",
       "      <th>50</th>\n",
       "      <td>MATTR</td>\n",
       "      <td>0.199890</td>\n",
       "    </tr>\n",
       "    <tr>\n",
       "      <th>51</th>\n",
       "      <td>MSTTR</td>\n",
       "      <td>0.207763</td>\n",
       "    </tr>\n",
       "    <tr>\n",
       "      <th>0</th>\n",
       "      <td>sentences</td>\n",
       "      <td>1.000000</td>\n",
       "    </tr>\n",
       "    <tr>\n",
       "      <th>31</th>\n",
       "      <td>nWS1</td>\n",
       "      <td>1.000000</td>\n",
       "    </tr>\n",
       "    <tr>\n",
       "      <th>32</th>\n",
       "      <td>nWS2</td>\n",
       "      <td>1.000000</td>\n",
       "    </tr>\n",
       "  </tbody>\n",
       "</table>\n",
       "</div>"
      ],
      "text/plain": [
       "   Column name  Ratio of non NaN values\n",
       "50       MATTR                 0.199890\n",
       "51       MSTTR                 0.207763\n",
       "0    sentences                 1.000000\n",
       "31        nWS1                 1.000000\n",
       "32        nWS2                 1.000000"
      ]
     },
     "execution_count": 23,
     "metadata": {},
     "output_type": "execute_result"
    }
   ],
   "source": [
    "count_null_df = df.count(axis=0)/nrow\n",
    "# count_null_df.sort_values(axis=0)\n",
    "count_null_df = pd.DataFrame({'Column name':count_null_df.index, 'Ratio of non NaN values':count_null_df.values})\n",
    "count_null_df = count_null_df.sort_values(by=['Ratio of non NaN values'])\n",
    "count_null_df.head()"
   ]
  },
  {
   "cell_type": "markdown",
   "metadata": {},
   "source": [
    "## Dropping MATTR & MSTTR columns"
   ]
  },
  {
   "cell_type": "code",
   "execution_count": 24,
   "metadata": {},
   "outputs": [],
   "source": [
    "df = df.drop('MATTR', axis=1)\n",
    "df = df.drop('MSTTR', axis=1)"
   ]
  },
  {
   "cell_type": "code",
   "execution_count": 25,
   "metadata": {},
   "outputs": [],
   "source": [
    "# Get list of features w/o feature containing string values\n",
    "(nrow, ncol) = df.shape\n",
    "features = df.columns.values[0:ncol-1]\n",
    "\n",
    "\n",
    "# Separating out the features\n",
    "x = df.loc[:, features].values\n",
    "\n",
    "# Separating out the target\n",
    "y = df.loc[:,['level1']].values"
   ]
  },
  {
   "cell_type": "code",
   "execution_count": 26,
   "metadata": {
    "scrolled": true
   },
   "outputs": [
    {
     "data": {
      "text/html": [
       "<div>\n",
       "<style scoped>\n",
       "    .dataframe tbody tr th:only-of-type {\n",
       "        vertical-align: middle;\n",
       "    }\n",
       "\n",
       "    .dataframe tbody tr th {\n",
       "        vertical-align: top;\n",
       "    }\n",
       "\n",
       "    .dataframe thead th {\n",
       "        text-align: right;\n",
       "    }\n",
       "</style>\n",
       "<table border=\"1\" class=\"dataframe\">\n",
       "  <thead>\n",
       "    <tr style=\"text-align: right;\">\n",
       "      <th></th>\n",
       "      <th>sentences</th>\n",
       "      <th>words</th>\n",
       "      <th>letters.all</th>\n",
       "      <th>syllables</th>\n",
       "      <th>punct</th>\n",
       "      <th>avg.sentc.length</th>\n",
       "      <th>avg.word.length</th>\n",
       "      <th>avg.syll.word</th>\n",
       "      <th>sntc.per.word</th>\n",
       "      <th>TTR</th>\n",
       "      <th>...</th>\n",
       "      <th>HD-D (vocd-D)</th>\n",
       "      <th>Herdan's C</th>\n",
       "      <th>Maas a</th>\n",
       "      <th>Maas lgV0</th>\n",
       "      <th>MTLD</th>\n",
       "      <th>Root TTR</th>\n",
       "      <th>Summer</th>\n",
       "      <th>TTR.1</th>\n",
       "      <th>Uber index</th>\n",
       "      <th>Yule's K</th>\n",
       "    </tr>\n",
       "  </thead>\n",
       "  <tbody>\n",
       "    <tr>\n",
       "      <th>count</th>\n",
       "      <td>27310.000000</td>\n",
       "      <td>27310.000000</td>\n",
       "      <td>27310.000000</td>\n",
       "      <td>27310.000000</td>\n",
       "      <td>27310.000000</td>\n",
       "      <td>27310.000000</td>\n",
       "      <td>27310.000000</td>\n",
       "      <td>27310.000000</td>\n",
       "      <td>27310.000000</td>\n",
       "      <td>27310.000000</td>\n",
       "      <td>...</td>\n",
       "      <td>27310.000000</td>\n",
       "      <td>27310.000000</td>\n",
       "      <td>27310.000000</td>\n",
       "      <td>27310.000000</td>\n",
       "      <td>27310.000000</td>\n",
       "      <td>27310.000000</td>\n",
       "      <td>27310.000000</td>\n",
       "      <td>27310.000000</td>\n",
       "      <td>27310.000000</td>\n",
       "      <td>27310.000000</td>\n",
       "    </tr>\n",
       "    <tr>\n",
       "      <th>mean</th>\n",
       "      <td>6.178103</td>\n",
       "      <td>69.591578</td>\n",
       "      <td>286.920871</td>\n",
       "      <td>94.919443</td>\n",
       "      <td>13.445405</td>\n",
       "      <td>13.808023</td>\n",
       "      <td>4.068831</td>\n",
       "      <td>1.342988</td>\n",
       "      <td>0.102530</td>\n",
       "      <td>0.723658</td>\n",
       "      <td>...</td>\n",
       "      <td>29.973272</td>\n",
       "      <td>0.919785</td>\n",
       "      <td>0.209477</td>\n",
       "      <td>4.362110</td>\n",
       "      <td>60.654317</td>\n",
       "      <td>5.621359</td>\n",
       "      <td>0.839242</td>\n",
       "      <td>0.723612</td>\n",
       "      <td>25.751004</td>\n",
       "      <td>175.234313</td>\n",
       "    </tr>\n",
       "    <tr>\n",
       "      <th>std</th>\n",
       "      <td>3.565665</td>\n",
       "      <td>41.665862</td>\n",
       "      <td>183.019658</td>\n",
       "      <td>60.276153</td>\n",
       "      <td>7.705855</td>\n",
       "      <td>11.104274</td>\n",
       "      <td>0.499349</td>\n",
       "      <td>0.145937</td>\n",
       "      <td>0.061869</td>\n",
       "      <td>0.101662</td>\n",
       "      <td>...</td>\n",
       "      <td>6.041291</td>\n",
       "      <td>0.029880</td>\n",
       "      <td>0.038736</td>\n",
       "      <td>0.985314</td>\n",
       "      <td>29.939369</td>\n",
       "      <td>1.308844</td>\n",
       "      <td>0.097361</td>\n",
       "      <td>0.101676</td>\n",
       "      <td>13.431118</td>\n",
       "      <td>96.680399</td>\n",
       "    </tr>\n",
       "    <tr>\n",
       "      <th>min</th>\n",
       "      <td>1.000000</td>\n",
       "      <td>5.000000</td>\n",
       "      <td>21.000000</td>\n",
       "      <td>6.000000</td>\n",
       "      <td>0.000000</td>\n",
       "      <td>1.437500</td>\n",
       "      <td>2.230769</td>\n",
       "      <td>1.000000</td>\n",
       "      <td>0.005435</td>\n",
       "      <td>0.294118</td>\n",
       "      <td>...</td>\n",
       "      <td>4.000000</td>\n",
       "      <td>0.720000</td>\n",
       "      <td>0.060000</td>\n",
       "      <td>1.100000</td>\n",
       "      <td>5.360000</td>\n",
       "      <td>1.770000</td>\n",
       "      <td>-2.510000</td>\n",
       "      <td>0.290000</td>\n",
       "      <td>4.000000</td>\n",
       "      <td>11.340000</td>\n",
       "    </tr>\n",
       "    <tr>\n",
       "      <th>25%</th>\n",
       "      <td>4.000000</td>\n",
       "      <td>38.000000</td>\n",
       "      <td>149.000000</td>\n",
       "      <td>49.000000</td>\n",
       "      <td>8.000000</td>\n",
       "      <td>8.000000</td>\n",
       "      <td>3.741098</td>\n",
       "      <td>1.243590</td>\n",
       "      <td>0.064516</td>\n",
       "      <td>0.652174</td>\n",
       "      <td>...</td>\n",
       "      <td>27.382500</td>\n",
       "      <td>0.900000</td>\n",
       "      <td>0.190000</td>\n",
       "      <td>3.730000</td>\n",
       "      <td>39.675000</td>\n",
       "      <td>4.620000</td>\n",
       "      <td>0.810000</td>\n",
       "      <td>0.650000</td>\n",
       "      <td>18.750000</td>\n",
       "      <td>110.190000</td>\n",
       "    </tr>\n",
       "    <tr>\n",
       "      <th>50%</th>\n",
       "      <td>6.000000</td>\n",
       "      <td>62.000000</td>\n",
       "      <td>250.000000</td>\n",
       "      <td>83.000000</td>\n",
       "      <td>12.000000</td>\n",
       "      <td>11.000000</td>\n",
       "      <td>4.028037</td>\n",
       "      <td>1.333333</td>\n",
       "      <td>0.090909</td>\n",
       "      <td>0.714286</td>\n",
       "      <td>...</td>\n",
       "      <td>32.000000</td>\n",
       "      <td>0.920000</td>\n",
       "      <td>0.210000</td>\n",
       "      <td>4.310000</td>\n",
       "      <td>55.070000</td>\n",
       "      <td>5.530000</td>\n",
       "      <td>0.860000</td>\n",
       "      <td>0.710000</td>\n",
       "      <td>23.020000</td>\n",
       "      <td>152.000000</td>\n",
       "    </tr>\n",
       "    <tr>\n",
       "      <th>75%</th>\n",
       "      <td>8.000000</td>\n",
       "      <td>92.000000</td>\n",
       "      <td>380.000000</td>\n",
       "      <td>125.000000</td>\n",
       "      <td>17.000000</td>\n",
       "      <td>15.500000</td>\n",
       "      <td>4.343750</td>\n",
       "      <td>1.427251</td>\n",
       "      <td>0.125000</td>\n",
       "      <td>0.791667</td>\n",
       "      <td>...</td>\n",
       "      <td>34.220000</td>\n",
       "      <td>0.940000</td>\n",
       "      <td>0.230000</td>\n",
       "      <td>4.840000</td>\n",
       "      <td>75.400000</td>\n",
       "      <td>6.560000</td>\n",
       "      <td>0.890000</td>\n",
       "      <td>0.790000</td>\n",
       "      <td>28.560000</td>\n",
       "      <td>214.500000</td>\n",
       "    </tr>\n",
       "    <tr>\n",
       "      <th>max</th>\n",
       "      <td>50.000000</td>\n",
       "      <td>464.000000</td>\n",
       "      <td>2050.000000</td>\n",
       "      <td>654.000000</td>\n",
       "      <td>122.000000</td>\n",
       "      <td>184.000000</td>\n",
       "      <td>9.913043</td>\n",
       "      <td>3.173913</td>\n",
       "      <td>0.695652</td>\n",
       "      <td>0.976190</td>\n",
       "      <td>...</td>\n",
       "      <td>41.000000</td>\n",
       "      <td>0.990000</td>\n",
       "      <td>0.500000</td>\n",
       "      <td>14.230000</td>\n",
       "      <td>493.920000</td>\n",
       "      <td>11.930000</td>\n",
       "      <td>3.510000</td>\n",
       "      <td>0.980000</td>\n",
       "      <td>251.780000</td>\n",
       "      <td>1564.100000</td>\n",
       "    </tr>\n",
       "  </tbody>\n",
       "</table>\n",
       "<p>8 rows × 56 columns</p>\n",
       "</div>"
      ],
      "text/plain": [
       "          sentences         words   letters.all     syllables         punct  \\\n",
       "count  27310.000000  27310.000000  27310.000000  27310.000000  27310.000000   \n",
       "mean       6.178103     69.591578    286.920871     94.919443     13.445405   \n",
       "std        3.565665     41.665862    183.019658     60.276153      7.705855   \n",
       "min        1.000000      5.000000     21.000000      6.000000      0.000000   \n",
       "25%        4.000000     38.000000    149.000000     49.000000      8.000000   \n",
       "50%        6.000000     62.000000    250.000000     83.000000     12.000000   \n",
       "75%        8.000000     92.000000    380.000000    125.000000     17.000000   \n",
       "max       50.000000    464.000000   2050.000000    654.000000    122.000000   \n",
       "\n",
       "       avg.sentc.length  avg.word.length  avg.syll.word  sntc.per.word  \\\n",
       "count      27310.000000     27310.000000   27310.000000   27310.000000   \n",
       "mean          13.808023         4.068831       1.342988       0.102530   \n",
       "std           11.104274         0.499349       0.145937       0.061869   \n",
       "min            1.437500         2.230769       1.000000       0.005435   \n",
       "25%            8.000000         3.741098       1.243590       0.064516   \n",
       "50%           11.000000         4.028037       1.333333       0.090909   \n",
       "75%           15.500000         4.343750       1.427251       0.125000   \n",
       "max          184.000000         9.913043       3.173913       0.695652   \n",
       "\n",
       "                TTR      ...       HD-D (vocd-D)    Herdan's C        Maas a  \\\n",
       "count  27310.000000      ...        27310.000000  27310.000000  27310.000000   \n",
       "mean       0.723658      ...           29.973272      0.919785      0.209477   \n",
       "std        0.101662      ...            6.041291      0.029880      0.038736   \n",
       "min        0.294118      ...            4.000000      0.720000      0.060000   \n",
       "25%        0.652174      ...           27.382500      0.900000      0.190000   \n",
       "50%        0.714286      ...           32.000000      0.920000      0.210000   \n",
       "75%        0.791667      ...           34.220000      0.940000      0.230000   \n",
       "max        0.976190      ...           41.000000      0.990000      0.500000   \n",
       "\n",
       "          Maas lgV0          MTLD      Root TTR        Summer         TTR.1  \\\n",
       "count  27310.000000  27310.000000  27310.000000  27310.000000  27310.000000   \n",
       "mean       4.362110     60.654317      5.621359      0.839242      0.723612   \n",
       "std        0.985314     29.939369      1.308844      0.097361      0.101676   \n",
       "min        1.100000      5.360000      1.770000     -2.510000      0.290000   \n",
       "25%        3.730000     39.675000      4.620000      0.810000      0.650000   \n",
       "50%        4.310000     55.070000      5.530000      0.860000      0.710000   \n",
       "75%        4.840000     75.400000      6.560000      0.890000      0.790000   \n",
       "max       14.230000    493.920000     11.930000      3.510000      0.980000   \n",
       "\n",
       "         Uber index      Yule's K  \n",
       "count  27310.000000  27310.000000  \n",
       "mean      25.751004    175.234313  \n",
       "std       13.431118     96.680399  \n",
       "min        4.000000     11.340000  \n",
       "25%       18.750000    110.190000  \n",
       "50%       23.020000    152.000000  \n",
       "75%       28.560000    214.500000  \n",
       "max      251.780000   1564.100000  \n",
       "\n",
       "[8 rows x 56 columns]"
      ]
     },
     "execution_count": 26,
     "metadata": {},
     "output_type": "execute_result"
    }
   ],
   "source": [
    "df.describe()"
   ]
  },
  {
   "cell_type": "markdown",
   "metadata": {},
   "source": [
    "## Standardizing the features"
   ]
  },
  {
   "cell_type": "code",
   "execution_count": 27,
   "metadata": {},
   "outputs": [],
   "source": [
    "x = StandardScaler().fit_transform(x)"
   ]
  },
  {
   "cell_type": "code",
   "execution_count": 28,
   "metadata": {},
   "outputs": [],
   "source": [
    "df_x = df[df.columns[:ncol-1]]"
   ]
  },
  {
   "cell_type": "code",
   "execution_count": 29,
   "metadata": {},
   "outputs": [],
   "source": [
    "df_x = StandardScaler().fit_transform(df_x)"
   ]
  },
  {
   "cell_type": "code",
   "execution_count": 30,
   "metadata": {},
   "outputs": [
    {
     "data": {
      "text/plain": [
       "(27310, 56)"
      ]
     },
     "execution_count": 30,
     "metadata": {},
     "output_type": "execute_result"
    }
   ],
   "source": [
    "df_x.shape"
   ]
  },
  {
   "cell_type": "code",
   "execution_count": null,
   "metadata": {},
   "outputs": [],
   "source": []
  },
  {
   "cell_type": "markdown",
   "metadata": {},
   "source": [
    "# Split x, y into train and test data"
   ]
  },
  {
   "cell_type": "code",
   "execution_count": 31,
   "metadata": {},
   "outputs": [],
   "source": [
    "# from sklearn.metrics import confusion_matrix\n",
    "from mlxtend.plotting import plot_confusion_matrix\n",
    "from mlxtend.evaluate import confusion_matrix\n",
    "from sklearn.model_selection import train_test_split\n",
    "from sklearn.metrics import make_scorer"
   ]
  },
  {
   "cell_type": "code",
   "execution_count": 32,
   "metadata": {},
   "outputs": [],
   "source": [
    "# dividing X, y into train and test data\n",
    "X_train, X_test, y_train, y_test = train_test_split(x, y, random_state = 0)"
   ]
  },
  {
   "cell_type": "code",
   "execution_count": 33,
   "metadata": {},
   "outputs": [],
   "source": [
    "# Cost matrix is given by http://cap2018.litislab.fr/competition_en.pdf\n",
    "# Lower is better.\n",
    "def compute_performance_from_confusion_matrix(confusion_matrix):\n",
    "    cost_matrix = np.array([[0,1,2,3,4,6], [1,0,1,4,5,8],[3,2,0,3,5,8], [10,7,5,0,2,7], [20,16,12,4,0,8], [44,38,32,19,13,0]])\n",
    "    n = confusion_matrix.sum()\n",
    "    # Performance E = Dot product of cost matrix and confusion matrix / nb_sample\n",
    "    performance_E = np.vdot(cost_matrix, confusion_matrix)/n\n",
    "    return performance_E\n",
    "def compute_performance_from_predictions(ground_truth, predictions):\n",
    "    cm = confusion_matrix(np.ravel(ground_truth, order='C'), predictions)\n",
    "    cost_matrix = np.array([[0,1,2,3,4,6], [1,0,1,4,5,8],[3,2,0,3,5,8], [10,7,5,0,2,7], [20,16,12,4,0,8], [44,38,32,19,13,0]])\n",
    "    n = cm.sum()\n",
    "    # Performance E = Dot product of cost matrix and confusion matrix / nb_sample\n",
    "    performance_E = np.vdot(cost_matrix, cm)/n\n",
    "    return performance_E\n",
    "\n",
    "custom_loss = make_scorer(compute_performance_from_predictions, greater_is_better=False)"
   ]
  },
  {
   "cell_type": "code",
   "execution_count": null,
   "metadata": {},
   "outputs": [],
   "source": []
  },
  {
   "cell_type": "code",
   "execution_count": 34,
   "metadata": {},
   "outputs": [],
   "source": [
    "from sklearn.neural_network import MLPClassifier\n",
    "from hyperopt import hp"
   ]
  },
  {
   "cell_type": "markdown",
   "metadata": {},
   "source": [
    "** First run of Neural Net **"
   ]
  },
  {
   "cell_type": "code",
   "execution_count": 35,
   "metadata": {},
   "outputs": [],
   "source": [
    "clf = MLPClassifier(solver='adam', alpha=1e-5,\n",
    "...                     hidden_layer_sizes=(39, 23), random_state=1)"
   ]
  },
  {
   "cell_type": "code",
   "execution_count": 36,
   "metadata": {},
   "outputs": [
    {
     "data": {
      "text/plain": [
       "MLPClassifier(activation='relu', alpha=1e-05, batch_size='auto', beta_1=0.9,\n",
       "       beta_2=0.999, early_stopping=False, epsilon=1e-08,\n",
       "       hidden_layer_sizes=(39, 23), learning_rate='constant',\n",
       "       learning_rate_init=0.001, max_iter=200, momentum=0.9,\n",
       "       nesterovs_momentum=True, power_t=0.5, random_state=1, shuffle=True,\n",
       "       solver='adam', tol=0.0001, validation_fraction=0.1, verbose=False,\n",
       "       warm_start=False)"
      ]
     },
     "execution_count": 36,
     "metadata": {},
     "output_type": "execute_result"
    }
   ],
   "source": [
    "clf.fit(X_train, y_train.flatten()) "
   ]
  },
  {
   "cell_type": "code",
   "execution_count": 37,
   "metadata": {},
   "outputs": [],
   "source": [
    "predictions = clf.predict(X_test)"
   ]
  },
  {
   "cell_type": "code",
   "execution_count": 38,
   "metadata": {},
   "outputs": [
    {
     "data": {
      "text/plain": [
       "0.4004100761570006"
      ]
     },
     "execution_count": 38,
     "metadata": {},
     "output_type": "execute_result"
    }
   ],
   "source": [
    "compute_performance_from_predictions(y_test, predictions)"
   ]
  },
  {
   "cell_type": "code",
   "execution_count": 39,
   "metadata": {},
   "outputs": [
    {
     "data": {
      "text/plain": [
       "0.8239601640304628"
      ]
     },
     "execution_count": 39,
     "metadata": {},
     "output_type": "execute_result"
    }
   ],
   "source": [
    "clf.score(X_test, y_test)"
   ]
  },
  {
   "cell_type": "markdown",
   "metadata": {},
   "source": [
    "** Let's optimize its parameters **"
   ]
  },
  {
   "cell_type": "code",
   "execution_count": 40,
   "metadata": {},
   "outputs": [
    {
     "name": "stderr",
     "output_type": "stream",
     "text": [
      "WARNING (theano.tensor.blas): Using NumPy C-API based implementation for BLAS functions.\n"
     ]
    }
   ],
   "source": [
    "import theano\n",
    "theano.config.gcc.cxxflags = \"-D_hypot=hypot\""
   ]
  },
  {
   "cell_type": "code",
   "execution_count": 41,
   "metadata": {},
   "outputs": [],
   "source": [
    "\n",
    "from neupy import layers"
   ]
  },
  {
   "cell_type": "code",
   "execution_count": 42,
   "metadata": {},
   "outputs": [],
   "source": [
    "def uniform_int(name, lower, upper):\n",
    "    # `quniform` returns:\n",
    "    # round(uniform(low, high) / q) * q\n",
    "    return hp.quniform(name, lower, upper, q=1)\n",
    "\n",
    "def loguniform_int(name, lower, upper):\n",
    "    # Do not forget to make a logarithm for the\n",
    "    # lower and upper bounds.\n",
    "    return hp.qloguniform(name, np.log(lower), np.log(upper), q=1)\n",
    "\n",
    "parameter_space = {\n",
    "    'step': hp.uniform('step', 0.01, 0.5),\n",
    "    'layers': hp.choice('layers', [{\n",
    "        'n_layers': 1,\n",
    "        'n_units_layer': [\n",
    "            uniform_int('n_units_layer_11', 30, 50),\n",
    "        ],\n",
    "    }, {\n",
    "        'n_layers': 2,\n",
    "        'n_units_layer': [\n",
    "            uniform_int('n_units_layer_21', 10, 25),\n",
    "            uniform_int('n_units_layer_22', 10, 30),\n",
    "        ],\n",
    "    }]),\n",
    "    'act_func_type': hp.choice('act_func_type', [\n",
    "        layers.Relu,\n",
    "        layers.PRelu,\n",
    "        layers.Elu,\n",
    "        layers.Tanh,\n",
    "        layers.Sigmoid\n",
    "    ]),\n",
    "\n",
    "    'dropout': hp.uniform('dropout', 0, 0.5),\n",
    "    'batch_size': loguniform_int('batch_size', 16, 100),\n",
    "}"
   ]
  },
  {
   "cell_type": "code",
   "execution_count": 43,
   "metadata": {},
   "outputs": [],
   "source": [
    "from pprint import pprint\n",
    "\n",
    "def train_network(parameters):\n",
    "    print(\"Parameters:\")\n",
    "    pprint(parameters)\n",
    "    print()"
   ]
  },
  {
   "cell_type": "code",
   "execution_count": 45,
   "metadata": {},
   "outputs": [
    {
     "ename": "MemoryError",
     "evalue": "",
     "output_type": "error",
     "traceback": [
      "\u001b[1;31m---------------------------------------------------------------------------\u001b[0m",
      "\u001b[1;31mMemoryError\u001b[0m                               Traceback (most recent call last)",
      "\u001b[1;32m<ipython-input-45-e7efd0979cf3>\u001b[0m in \u001b[0;36m<module>\u001b[1;34m()\u001b[0m\n\u001b[0;32m      3\u001b[0m \u001b[0mproba\u001b[0m \u001b[1;33m=\u001b[0m \u001b[0mparameter_space\u001b[0m\u001b[1;33m[\u001b[0m\u001b[1;34m'dropout'\u001b[0m\u001b[1;33m]\u001b[0m\u001b[1;33m\u001b[0m\u001b[0m\n\u001b[0;32m      4\u001b[0m \u001b[0mactivation_layer\u001b[0m \u001b[1;33m=\u001b[0m \u001b[0mparameter_space\u001b[0m\u001b[1;33m[\u001b[0m\u001b[1;34m'act_func_type'\u001b[0m\u001b[1;33m]\u001b[0m\u001b[1;33m\u001b[0m\u001b[0m\n\u001b[1;32m----> 5\u001b[1;33m \u001b[0mlayer_sizes\u001b[0m \u001b[1;33m=\u001b[0m \u001b[1;33m[\u001b[0m\u001b[0mn\u001b[0m \u001b[1;32mfor\u001b[0m \u001b[0mn\u001b[0m \u001b[1;32min\u001b[0m \u001b[0mparameter_space\u001b[0m\u001b[1;33m[\u001b[0m\u001b[1;34m'layers'\u001b[0m\u001b[1;33m]\u001b[0m\u001b[1;33m[\u001b[0m\u001b[1;34m'n_units_layer'\u001b[0m\u001b[1;33m]\u001b[0m\u001b[1;33m]\u001b[0m\u001b[1;33m\u001b[0m\u001b[0m\n\u001b[0m",
      "\u001b[1;32m<ipython-input-45-e7efd0979cf3>\u001b[0m in \u001b[0;36m<listcomp>\u001b[1;34m(.0)\u001b[0m\n\u001b[0;32m      3\u001b[0m \u001b[0mproba\u001b[0m \u001b[1;33m=\u001b[0m \u001b[0mparameter_space\u001b[0m\u001b[1;33m[\u001b[0m\u001b[1;34m'dropout'\u001b[0m\u001b[1;33m]\u001b[0m\u001b[1;33m\u001b[0m\u001b[0m\n\u001b[0;32m      4\u001b[0m \u001b[0mactivation_layer\u001b[0m \u001b[1;33m=\u001b[0m \u001b[0mparameter_space\u001b[0m\u001b[1;33m[\u001b[0m\u001b[1;34m'act_func_type'\u001b[0m\u001b[1;33m]\u001b[0m\u001b[1;33m\u001b[0m\u001b[0m\n\u001b[1;32m----> 5\u001b[1;33m \u001b[0mlayer_sizes\u001b[0m \u001b[1;33m=\u001b[0m \u001b[1;33m[\u001b[0m\u001b[0mn\u001b[0m \u001b[1;32mfor\u001b[0m \u001b[0mn\u001b[0m \u001b[1;32min\u001b[0m \u001b[0mparameter_space\u001b[0m\u001b[1;33m[\u001b[0m\u001b[1;34m'layers'\u001b[0m\u001b[1;33m]\u001b[0m\u001b[1;33m[\u001b[0m\u001b[1;34m'n_units_layer'\u001b[0m\u001b[1;33m]\u001b[0m\u001b[1;33m]\u001b[0m\u001b[1;33m\u001b[0m\u001b[0m\n\u001b[0m",
      "\u001b[1;31mMemoryError\u001b[0m: "
     ]
    }
   ],
   "source": [
    "step = parameter_space['step']\n",
    "batch_size = loguniform_int('batch_size', 16, 100)\n",
    "proba = parameter_space['dropout']\n",
    "activation_layer = parameter_space['act_func_type']\n",
    "layer_sizes = [n for n in parameter_space['layers']['n_units_layer']]"
   ]
  },
  {
   "cell_type": "code",
   "execution_count": 46,
   "metadata": {},
   "outputs": [
    {
     "data": {
      "text/plain": [
       "<hyperopt.pyll.base.Apply at 0x20b000dbb38>"
      ]
     },
     "execution_count": 46,
     "metadata": {},
     "output_type": "execute_result"
    }
   ],
   "source": [
    "parameter_space['layers']['n_units_layer']"
   ]
  },
  {
   "cell_type": "code",
   "execution_count": null,
   "metadata": {},
   "outputs": [],
   "source": [
    "import pycuda.gpuarray as gpuarray\n",
    "import pycuda.driver as cuda\n",
    "\n",
    "cuda.init()\n",
    "assert cuda.Device.count() >= 1\n",
    "\n",
    "dev = cuda.Device(0)\n",
    "ctx = dev.make_context()"
   ]
  },
  {
   "cell_type": "code",
   "execution_count": null,
   "metadata": {},
   "outputs": [],
   "source": [
    "a_gpu = gpuarray.to_gpu(np.random.randn(4,4).astype(np.float32))\n",
    "a_doubled = (2*a_gpu).get()\n",
    "print(a_doubled)\n",
    "print(a_gpu)"
   ]
  },
  {
   "cell_type": "code",
   "execution_count": 47,
   "metadata": {},
   "outputs": [
    {
     "name": "stderr",
     "output_type": "stream",
     "text": [
      "C:\\Users\\Minh Tri\\Anaconda3\\lib\\site-packages\\h5py\\__init__.py:36: FutureWarning: Conversion of the second argument of issubdtype from `float` to `np.floating` is deprecated. In future, it will be treated as `np.float64 == np.dtype(float).type`.\n",
      "  from ._conv import register_converters as _register_converters\n"
     ]
    }
   ],
   "source": [
    "import tensorflow as tf"
   ]
  },
  {
   "cell_type": "code",
   "execution_count": 48,
   "metadata": {},
   "outputs": [],
   "source": [
    "from sklearn.metrics import classification_report, confusion_matrix\n",
    "from sklearn import metrics"
   ]
  },
  {
   "cell_type": "code",
   "execution_count": 49,
   "metadata": {},
   "outputs": [],
   "source": [
    "import tensorflow.contrib.learn as skflow"
   ]
  },
  {
   "cell_type": "code",
   "execution_count": 50,
   "metadata": {},
   "outputs": [
    {
     "name": "stderr",
     "output_type": "stream",
     "text": [
      "C:\\Users\\Minh Tri\\Anaconda3\\lib\\site-packages\\sklearn\\preprocessing\\label.py:151: DeprecationWarning: The truth value of an empty array is ambiguous. Returning False, but in future this will result in an error. Use `array.size > 0` to check that an array is not empty.\n",
      "  if diff:\n"
     ]
    },
    {
     "ename": "IndexError",
     "evalue": "arrays used as indices must be of integer (or boolean) type",
     "output_type": "error",
     "traceback": [
      "\u001b[1;31m---------------------------------------------------------------------------\u001b[0m",
      "\u001b[1;31mIndexError\u001b[0m                                Traceback (most recent call last)",
      "\u001b[1;32m<ipython-input-50-5df9ea3f28b4>\u001b[0m in \u001b[0;36m<module>\u001b[1;34m()\u001b[0m\n\u001b[0;32m     16\u001b[0m \u001b[1;31m# print(integer_encoded)\u001b[0m\u001b[1;33m\u001b[0m\u001b[1;33m\u001b[0m\u001b[0m\n\u001b[0;32m     17\u001b[0m \u001b[1;33m\u001b[0m\u001b[0m\n\u001b[1;32m---> 18\u001b[1;33m \u001b[0minverted_y_train\u001b[0m \u001b[1;33m=\u001b[0m \u001b[0mlabel_encoder\u001b[0m\u001b[1;33m.\u001b[0m\u001b[0minverse_transform\u001b[0m\u001b[1;33m(\u001b[0m\u001b[1;33m[\u001b[0m\u001b[0monehot_encoded_y_train\u001b[0m\u001b[1;33m]\u001b[0m\u001b[1;33m)\u001b[0m\u001b[1;33m\u001b[0m\u001b[0m\n\u001b[0m\u001b[0;32m     19\u001b[0m \u001b[0minverted_y_train\u001b[0m \u001b[1;33m=\u001b[0m \u001b[0mlabel_encoder\u001b[0m\u001b[1;33m.\u001b[0m\u001b[0minverse_transform\u001b[0m\u001b[1;33m(\u001b[0m\u001b[1;33m[\u001b[0m\u001b[0margmax\u001b[0m\u001b[1;33m(\u001b[0m\u001b[0monehot_encoded_y_test\u001b[0m\u001b[1;33m)\u001b[0m\u001b[1;33m]\u001b[0m\u001b[1;33m)\u001b[0m\u001b[1;33m\u001b[0m\u001b[0m\n\u001b[0;32m     20\u001b[0m \u001b[0mprint\u001b[0m\u001b[1;33m(\u001b[0m\u001b[0minverted_y_train\u001b[0m\u001b[1;33m)\u001b[0m\u001b[1;33m\u001b[0m\u001b[0m\n",
      "\u001b[1;32m~\\Anaconda3\\lib\\site-packages\\sklearn\\preprocessing\\label.py\u001b[0m in \u001b[0;36minverse_transform\u001b[1;34m(self, y)\u001b[0m\n\u001b[0;32m    152\u001b[0m             \u001b[1;32mraise\u001b[0m \u001b[0mValueError\u001b[0m\u001b[1;33m(\u001b[0m\u001b[1;34m\"y contains new labels: %s\"\u001b[0m \u001b[1;33m%\u001b[0m \u001b[0mstr\u001b[0m\u001b[1;33m(\u001b[0m\u001b[0mdiff\u001b[0m\u001b[1;33m)\u001b[0m\u001b[1;33m)\u001b[0m\u001b[1;33m\u001b[0m\u001b[0m\n\u001b[0;32m    153\u001b[0m         \u001b[0my\u001b[0m \u001b[1;33m=\u001b[0m \u001b[0mnp\u001b[0m\u001b[1;33m.\u001b[0m\u001b[0masarray\u001b[0m\u001b[1;33m(\u001b[0m\u001b[0my\u001b[0m\u001b[1;33m)\u001b[0m\u001b[1;33m\u001b[0m\u001b[0m\n\u001b[1;32m--> 154\u001b[1;33m         \u001b[1;32mreturn\u001b[0m \u001b[0mself\u001b[0m\u001b[1;33m.\u001b[0m\u001b[0mclasses_\u001b[0m\u001b[1;33m[\u001b[0m\u001b[0my\u001b[0m\u001b[1;33m]\u001b[0m\u001b[1;33m\u001b[0m\u001b[0m\n\u001b[0m\u001b[0;32m    155\u001b[0m \u001b[1;33m\u001b[0m\u001b[0m\n\u001b[0;32m    156\u001b[0m \u001b[1;33m\u001b[0m\u001b[0m\n",
      "\u001b[1;31mIndexError\u001b[0m: arrays used as indices must be of integer (or boolean) type"
     ]
    }
   ],
   "source": [
    "from numpy import argmax\n",
    "from sklearn.preprocessing import LabelEncoder\n",
    "from sklearn.preprocessing import OneHotEncoder\n",
    "\n",
    "label_encoder = LabelEncoder()\n",
    "y_train_encoded = label_encoder.fit_transform(y_train.flatten())\n",
    "y_test_encoded = label_encoder.fit_transform(y_test.flatten())\n",
    "\n",
    "onehot_encoder = OneHotEncoder(sparse=False)\n",
    "\n",
    "y_train_encoded = y_train_encoded.reshape(len(y_train_encoded), 1)\n",
    "onehot_encoded_y_train = onehot_encoder.fit_transform(y_train_encoded)\n",
    "\n",
    "y_test_encoded = y_test_encoded.reshape(len(y_test_encoded), 1)\n",
    "onehot_encoded_y_test = onehot_encoder.fit_transform(y_test_encoded)\n",
    "# print(integer_encoded)\n",
    "\n",
    "inverted_y_train = label_encoder.inverse_transform([onehot_encoded_y_train])\n",
    "inverted_y_train = label_encoder.inverse_transform([argmax(onehot_encoded_y_test)])\n",
    "print(inverted_y_train)"
   ]
  },
  {
   "cell_type": "code",
   "execution_count": null,
   "metadata": {},
   "outputs": [],
   "source": [
    "inverted_y_train"
   ]
  },
  {
   "cell_type": "code",
   "execution_count": 51,
   "metadata": {},
   "outputs": [
    {
     "name": "stdout",
     "output_type": "stream",
     "text": [
      "WARNING:tensorflow:From C:\\Users\\Minh Tri\\Anaconda3\\lib\\site-packages\\tensorflow\\contrib\\learn\\python\\learn\\estimators\\dnn.py:378: multi_class_head (from tensorflow.contrib.learn.python.learn.estimators.head) is deprecated and will be removed in a future version.\n",
      "Instructions for updating:\n",
      "Please switch to tf.contrib.estimator.*_head.\n",
      "WARNING:tensorflow:From C:\\Users\\Minh Tri\\Anaconda3\\lib\\site-packages\\tensorflow\\contrib\\learn\\python\\learn\\estimators\\estimator.py:1179: BaseEstimator.__init__ (from tensorflow.contrib.learn.python.learn.estimators.estimator) is deprecated and will be removed in a future version.\n",
      "Instructions for updating:\n",
      "Please replace uses of any Estimator from tf.contrib.learn with an Estimator from tf.estimator.*\n",
      "WARNING:tensorflow:From C:\\Users\\Minh Tri\\Anaconda3\\lib\\site-packages\\tensorflow\\contrib\\learn\\python\\learn\\estimators\\estimator.py:427: RunConfig.__init__ (from tensorflow.contrib.learn.python.learn.estimators.run_config) is deprecated and will be removed in a future version.\n",
      "Instructions for updating:\n",
      "When switching to tf.estimator.Estimator, use tf.estimator.RunConfig instead.\n",
      "INFO:tensorflow:Using default config.\n",
      "WARNING:tensorflow:Using temporary folder as model directory: C:\\Users\\MINHTR~1\\AppData\\Local\\Temp\\tmpb8iuixnx\n",
      "INFO:tensorflow:Using config: {'_task_type': None, '_task_id': 0, '_cluster_spec': <tensorflow.python.training.server_lib.ClusterSpec object at 0x0000020B0415FF60>, '_master': '', '_num_ps_replicas': 0, '_num_worker_replicas': 0, '_environment': 'local', '_is_chief': True, '_evaluation_master': '', '_train_distribute': None, '_tf_config': gpu_options {\n",
      "  per_process_gpu_memory_fraction: 1.0\n",
      "}\n",
      ", '_tf_random_seed': None, '_save_summary_steps': 100, '_save_checkpoints_secs': 600, '_log_step_count_steps': 100, '_session_config': None, '_save_checkpoints_steps': None, '_keep_checkpoint_max': 5, '_keep_checkpoint_every_n_hours': 10000, '_model_dir': 'C:\\\\Users\\\\MINHTR~1\\\\AppData\\\\Local\\\\Temp\\\\tmpb8iuixnx'}\n",
      "WARNING:tensorflow:From <ipython-input-51-dc2962c58e15>:2: calling BaseEstimator.fit (from tensorflow.contrib.learn.python.learn.estimators.estimator) with x is deprecated and will be removed after 2016-12-01.\n",
      "Instructions for updating:\n",
      "Estimator is decoupled from Scikit Learn interface by moving into\n",
      "separate class SKCompat. Arguments x, y and batch_size are only\n",
      "available in the SKCompat class, Estimator will only accept input_fn.\n",
      "Example conversion:\n",
      "  est = Estimator(...) -> est = SKCompat(Estimator(...))\n",
      "WARNING:tensorflow:From <ipython-input-51-dc2962c58e15>:2: calling BaseEstimator.fit (from tensorflow.contrib.learn.python.learn.estimators.estimator) with y is deprecated and will be removed after 2016-12-01.\n",
      "Instructions for updating:\n",
      "Estimator is decoupled from Scikit Learn interface by moving into\n",
      "separate class SKCompat. Arguments x, y and batch_size are only\n",
      "available in the SKCompat class, Estimator will only accept input_fn.\n",
      "Example conversion:\n",
      "  est = Estimator(...) -> est = SKCompat(Estimator(...))\n",
      "WARNING:tensorflow:From <ipython-input-51-dc2962c58e15>:2: calling BaseEstimator.fit (from tensorflow.contrib.learn.python.learn.estimators.estimator) with batch_size is deprecated and will be removed after 2016-12-01.\n",
      "Instructions for updating:\n",
      "Estimator is decoupled from Scikit Learn interface by moving into\n",
      "separate class SKCompat. Arguments x, y and batch_size are only\n",
      "available in the SKCompat class, Estimator will only accept input_fn.\n",
      "Example conversion:\n",
      "  est = Estimator(...) -> est = SKCompat(Estimator(...))\n",
      "WARNING:tensorflow:From C:\\Users\\Minh Tri\\Anaconda3\\lib\\site-packages\\tensorflow\\contrib\\learn\\python\\learn\\estimators\\estimator.py:508: SKCompat.__init__ (from tensorflow.contrib.learn.python.learn.estimators.estimator) is deprecated and will be removed in a future version.\n",
      "Instructions for updating:\n",
      "Please switch to the Estimator interface.\n",
      "WARNING:tensorflow:From C:\\Users\\Minh Tri\\Anaconda3\\lib\\site-packages\\tensorflow\\contrib\\learn\\python\\learn\\estimators\\estimator.py:142: setup_train_data_feeder (from tensorflow.contrib.learn.python.learn.learn_io.data_feeder) is deprecated and will be removed in a future version.\n",
      "Instructions for updating:\n",
      "Please use tensorflow/transform or tf.data.\n",
      "WARNING:tensorflow:From C:\\Users\\Minh Tri\\Anaconda3\\lib\\site-packages\\tensorflow\\contrib\\learn\\python\\learn\\learn_io\\data_feeder.py:96: extract_dask_data (from tensorflow.contrib.learn.python.learn.learn_io.dask_io) is deprecated and will be removed in a future version.\n",
      "Instructions for updating:\n",
      "Please feed input to tf.data to support dask.\n",
      "WARNING:tensorflow:From C:\\Users\\Minh Tri\\Anaconda3\\lib\\site-packages\\tensorflow\\contrib\\learn\\python\\learn\\learn_io\\data_feeder.py:98: extract_dask_labels (from tensorflow.contrib.learn.python.learn.learn_io.dask_io) is deprecated and will be removed in a future version.\n",
      "Instructions for updating:\n",
      "Please feed input to tf.data to support dask.\n",
      "WARNING:tensorflow:From C:\\Users\\Minh Tri\\Anaconda3\\lib\\site-packages\\tensorflow\\contrib\\learn\\python\\learn\\learn_io\\data_feeder.py:100: extract_pandas_data (from tensorflow.contrib.learn.python.learn.learn_io.pandas_io) is deprecated and will be removed in a future version.\n",
      "Instructions for updating:\n",
      "Please access pandas data directly.\n",
      "WARNING:tensorflow:From C:\\Users\\Minh Tri\\Anaconda3\\lib\\site-packages\\tensorflow\\contrib\\learn\\python\\learn\\learn_io\\data_feeder.py:102: extract_pandas_labels (from tensorflow.contrib.learn.python.learn.learn_io.pandas_io) is deprecated and will be removed in a future version.\n",
      "Instructions for updating:\n",
      "Please access pandas data directly.\n",
      "WARNING:tensorflow:From C:\\Users\\Minh Tri\\Anaconda3\\lib\\site-packages\\tensorflow\\contrib\\learn\\python\\learn\\learn_io\\data_feeder.py:159: DataFeeder.__init__ (from tensorflow.contrib.learn.python.learn.learn_io.data_feeder) is deprecated and will be removed in a future version.\n",
      "Instructions for updating:\n",
      "Please use tensorflow/transform or tf.data.\n",
      "WARNING:tensorflow:From C:\\Users\\Minh Tri\\Anaconda3\\lib\\site-packages\\tensorflow\\contrib\\learn\\python\\learn\\learn_io\\data_feeder.py:340: check_array (from tensorflow.contrib.learn.python.learn.learn_io.data_feeder) is deprecated and will be removed in a future version.\n",
      "Instructions for updating:\n",
      "Please convert numpy dtypes explicitly.\n",
      "WARNING:tensorflow:float64 is not supported by many models, consider casting to float32.\n",
      "WARNING:tensorflow:From C:\\Users\\Minh Tri\\Anaconda3\\lib\\site-packages\\tensorflow\\contrib\\learn\\python\\learn\\estimators\\head.py:678: ModelFnOps.__new__ (from tensorflow.contrib.learn.python.learn.estimators.model_fn) is deprecated and will be removed in a future version.\n",
      "Instructions for updating:\n",
      "When switching to tf.estimator.Estimator, use tf.estimator.EstimatorSpec. You can use the `estimator_spec` method to create an equivalent one.\n",
      "INFO:tensorflow:Create CheckpointSaverHook.\n",
      "INFO:tensorflow:Graph was finalized.\n",
      "INFO:tensorflow:Running local_init_op.\n",
      "INFO:tensorflow:Done running local_init_op.\n"
     ]
    },
    {
     "ename": "InternalError",
     "evalue": "Blas GEMM launch failed : a.shape=(32, 56), b.shape=(56, 45), m=32, n=45, k=56\n\t [[Node: dnn/hiddenlayer_0/MatMul = MatMul[T=DT_FLOAT, transpose_a=false, transpose_b=false, _device=\"/job:localhost/replica:0/task:0/device:GPU:0\"](ToFloat, dnn/hiddenlayer_0/weights/part_0/read)]]\n\nCaused by op 'dnn/hiddenlayer_0/MatMul', defined at:\n  File \"C:\\Users\\Minh Tri\\Anaconda3\\lib\\runpy.py\", line 193, in _run_module_as_main\n    \"__main__\", mod_spec)\n  File \"C:\\Users\\Minh Tri\\Anaconda3\\lib\\runpy.py\", line 85, in _run_code\n    exec(code, run_globals)\n  File \"C:\\Users\\Minh Tri\\AppData\\Roaming\\Python\\Python36\\site-packages\\ipykernel_launcher.py\", line 16, in <module>\n    app.launch_new_instance()\n  File \"C:\\Users\\Minh Tri\\Anaconda3\\lib\\site-packages\\traitlets\\config\\application.py\", line 658, in launch_instance\n    app.start()\n  File \"C:\\Users\\Minh Tri\\AppData\\Roaming\\Python\\Python36\\site-packages\\ipykernel\\kernelapp.py\", line 486, in start\n    self.io_loop.start()\n  File \"C:\\Users\\Minh Tri\\Anaconda3\\lib\\site-packages\\tornado\\ioloop.py\", line 888, in start\n    handler_func(fd_obj, events)\n  File \"C:\\Users\\Minh Tri\\Anaconda3\\lib\\site-packages\\tornado\\stack_context.py\", line 277, in null_wrapper\n    return fn(*args, **kwargs)\n  File \"C:\\Users\\Minh Tri\\Anaconda3\\lib\\site-packages\\zmq\\eventloop\\zmqstream.py\", line 450, in _handle_events\n    self._handle_recv()\n  File \"C:\\Users\\Minh Tri\\Anaconda3\\lib\\site-packages\\zmq\\eventloop\\zmqstream.py\", line 480, in _handle_recv\n    self._run_callback(callback, msg)\n  File \"C:\\Users\\Minh Tri\\Anaconda3\\lib\\site-packages\\zmq\\eventloop\\zmqstream.py\", line 432, in _run_callback\n    callback(*args, **kwargs)\n  File \"C:\\Users\\Minh Tri\\Anaconda3\\lib\\site-packages\\tornado\\stack_context.py\", line 277, in null_wrapper\n    return fn(*args, **kwargs)\n  File \"C:\\Users\\Minh Tri\\AppData\\Roaming\\Python\\Python36\\site-packages\\ipykernel\\kernelbase.py\", line 283, in dispatcher\n    return self.dispatch_shell(stream, msg)\n  File \"C:\\Users\\Minh Tri\\AppData\\Roaming\\Python\\Python36\\site-packages\\ipykernel\\kernelbase.py\", line 233, in dispatch_shell\n    handler(stream, idents, msg)\n  File \"C:\\Users\\Minh Tri\\AppData\\Roaming\\Python\\Python36\\site-packages\\ipykernel\\kernelbase.py\", line 399, in execute_request\n    user_expressions, allow_stdin)\n  File \"C:\\Users\\Minh Tri\\AppData\\Roaming\\Python\\Python36\\site-packages\\ipykernel\\ipkernel.py\", line 208, in do_execute\n    res = shell.run_cell(code, store_history=store_history, silent=silent)\n  File \"C:\\Users\\Minh Tri\\AppData\\Roaming\\Python\\Python36\\site-packages\\ipykernel\\zmqshell.py\", line 537, in run_cell\n    return super(ZMQInteractiveShell, self).run_cell(*args, **kwargs)\n  File \"C:\\Users\\Minh Tri\\Anaconda3\\lib\\site-packages\\IPython\\core\\interactiveshell.py\", line 2728, in run_cell\n    interactivity=interactivity, compiler=compiler, result=result)\n  File \"C:\\Users\\Minh Tri\\Anaconda3\\lib\\site-packages\\IPython\\core\\interactiveshell.py\", line 2856, in run_ast_nodes\n    if self.run_code(code, result):\n  File \"C:\\Users\\Minh Tri\\Anaconda3\\lib\\site-packages\\IPython\\core\\interactiveshell.py\", line 2910, in run_code\n    exec(code_obj, self.user_global_ns, self.user_ns)\n  File \"<ipython-input-51-dc2962c58e15>\", line 2, in <module>\n    classifier.fit(X_train, y_train_encoded, steps=10000, batch_size=32)\n  File \"C:\\Users\\Minh Tri\\Anaconda3\\lib\\site-packages\\tensorflow\\python\\util\\deprecation.py\", line 432, in new_func\n    return func(*args, **kwargs)\n  File \"C:\\Users\\Minh Tri\\Anaconda3\\lib\\site-packages\\tensorflow\\contrib\\learn\\python\\learn\\estimators\\estimator.py\", line 508, in fit\n    SKCompat(self).fit(x, y, batch_size, steps, max_steps, monitors)\n  File \"C:\\Users\\Minh Tri\\Anaconda3\\lib\\site-packages\\tensorflow\\contrib\\learn\\python\\learn\\estimators\\estimator.py\", line 1527, in fit\n    monitors=all_monitors)\n  File \"C:\\Users\\Minh Tri\\Anaconda3\\lib\\site-packages\\tensorflow\\python\\util\\deprecation.py\", line 432, in new_func\n    return func(*args, **kwargs)\n  File \"C:\\Users\\Minh Tri\\Anaconda3\\lib\\site-packages\\tensorflow\\contrib\\learn\\python\\learn\\estimators\\estimator.py\", line 524, in fit\n    loss = self._train_model(input_fn=input_fn, hooks=hooks)\n  File \"C:\\Users\\Minh Tri\\Anaconda3\\lib\\site-packages\\tensorflow\\contrib\\learn\\python\\learn\\estimators\\estimator.py\", line 1041, in _train_model\n    model_fn_ops = self._get_train_ops(features, labels)\n  File \"C:\\Users\\Minh Tri\\Anaconda3\\lib\\site-packages\\tensorflow\\contrib\\learn\\python\\learn\\estimators\\estimator.py\", line 1264, in _get_train_ops\n    return self._call_model_fn(features, labels, model_fn_lib.ModeKeys.TRAIN)\n  File \"C:\\Users\\Minh Tri\\Anaconda3\\lib\\site-packages\\tensorflow\\contrib\\learn\\python\\learn\\estimators\\estimator.py\", line 1227, in _call_model_fn\n    model_fn_results = self._model_fn(features, labels, **kwargs)\n  File \"C:\\Users\\Minh Tri\\Anaconda3\\lib\\site-packages\\tensorflow\\contrib\\learn\\python\\learn\\estimators\\dnn.py\", line 177, in _dnn_model_fn\n    scope=hidden_layer_scope)\n  File \"C:\\Users\\Minh Tri\\Anaconda3\\lib\\site-packages\\tensorflow\\contrib\\framework\\python\\ops\\arg_scope.py\", line 183, in func_with_args\n    return func(*args, **current_args)\n  File \"C:\\Users\\Minh Tri\\Anaconda3\\lib\\site-packages\\tensorflow\\contrib\\layers\\python\\layers\\layers.py\", line 1716, in fully_connected\n    outputs = layer.apply(inputs)\n  File \"C:\\Users\\Minh Tri\\Anaconda3\\lib\\site-packages\\tensorflow\\python\\layers\\base.py\", line 828, in apply\n    return self.__call__(inputs, *args, **kwargs)\n  File \"C:\\Users\\Minh Tri\\Anaconda3\\lib\\site-packages\\tensorflow\\python\\layers\\base.py\", line 717, in __call__\n    outputs = self.call(inputs, *args, **kwargs)\n  File \"C:\\Users\\Minh Tri\\Anaconda3\\lib\\site-packages\\tensorflow\\python\\layers\\core.py\", line 163, in call\n    outputs = gen_math_ops.mat_mul(inputs, self.kernel)\n  File \"C:\\Users\\Minh Tri\\Anaconda3\\lib\\site-packages\\tensorflow\\python\\ops\\gen_math_ops.py\", line 4567, in mat_mul\n    name=name)\n  File \"C:\\Users\\Minh Tri\\Anaconda3\\lib\\site-packages\\tensorflow\\python\\framework\\op_def_library.py\", line 787, in _apply_op_helper\n    op_def=op_def)\n  File \"C:\\Users\\Minh Tri\\Anaconda3\\lib\\site-packages\\tensorflow\\python\\framework\\ops.py\", line 3392, in create_op\n    op_def=op_def)\n  File \"C:\\Users\\Minh Tri\\Anaconda3\\lib\\site-packages\\tensorflow\\python\\framework\\ops.py\", line 1718, in __init__\n    self._traceback = self._graph._extract_stack()  # pylint: disable=protected-access\n\nInternalError (see above for traceback): Blas GEMM launch failed : a.shape=(32, 56), b.shape=(56, 45), m=32, n=45, k=56\n\t [[Node: dnn/hiddenlayer_0/MatMul = MatMul[T=DT_FLOAT, transpose_a=false, transpose_b=false, _device=\"/job:localhost/replica:0/task:0/device:GPU:0\"](ToFloat, dnn/hiddenlayer_0/weights/part_0/read)]]\n",
     "output_type": "error",
     "traceback": [
      "\u001b[1;31m---------------------------------------------------------------------------\u001b[0m",
      "\u001b[1;31mInternalError\u001b[0m                             Traceback (most recent call last)",
      "\u001b[1;32m~\\Anaconda3\\lib\\site-packages\\tensorflow\\python\\client\\session.py\u001b[0m in \u001b[0;36m_do_call\u001b[1;34m(self, fn, *args)\u001b[0m\n\u001b[0;32m   1321\u001b[0m     \u001b[1;32mtry\u001b[0m\u001b[1;33m:\u001b[0m\u001b[1;33m\u001b[0m\u001b[0m\n\u001b[1;32m-> 1322\u001b[1;33m       \u001b[1;32mreturn\u001b[0m \u001b[0mfn\u001b[0m\u001b[1;33m(\u001b[0m\u001b[1;33m*\u001b[0m\u001b[0margs\u001b[0m\u001b[1;33m)\u001b[0m\u001b[1;33m\u001b[0m\u001b[0m\n\u001b[0m\u001b[0;32m   1323\u001b[0m     \u001b[1;32mexcept\u001b[0m \u001b[0merrors\u001b[0m\u001b[1;33m.\u001b[0m\u001b[0mOpError\u001b[0m \u001b[1;32mas\u001b[0m \u001b[0me\u001b[0m\u001b[1;33m:\u001b[0m\u001b[1;33m\u001b[0m\u001b[0m\n",
      "\u001b[1;32m~\\Anaconda3\\lib\\site-packages\\tensorflow\\python\\client\\session.py\u001b[0m in \u001b[0;36m_run_fn\u001b[1;34m(feed_dict, fetch_list, target_list, options, run_metadata)\u001b[0m\n\u001b[0;32m   1306\u001b[0m       return self._call_tf_sessionrun(\n\u001b[1;32m-> 1307\u001b[1;33m           options, feed_dict, fetch_list, target_list, run_metadata)\n\u001b[0m\u001b[0;32m   1308\u001b[0m \u001b[1;33m\u001b[0m\u001b[0m\n",
      "\u001b[1;32m~\\Anaconda3\\lib\\site-packages\\tensorflow\\python\\client\\session.py\u001b[0m in \u001b[0;36m_call_tf_sessionrun\u001b[1;34m(self, options, feed_dict, fetch_list, target_list, run_metadata)\u001b[0m\n\u001b[0;32m   1408\u001b[0m           \u001b[0mself\u001b[0m\u001b[1;33m.\u001b[0m\u001b[0m_session\u001b[0m\u001b[1;33m,\u001b[0m \u001b[0moptions\u001b[0m\u001b[1;33m,\u001b[0m \u001b[0mfeed_dict\u001b[0m\u001b[1;33m,\u001b[0m \u001b[0mfetch_list\u001b[0m\u001b[1;33m,\u001b[0m \u001b[0mtarget_list\u001b[0m\u001b[1;33m,\u001b[0m\u001b[1;33m\u001b[0m\u001b[0m\n\u001b[1;32m-> 1409\u001b[1;33m           run_metadata)\n\u001b[0m\u001b[0;32m   1410\u001b[0m     \u001b[1;32melse\u001b[0m\u001b[1;33m:\u001b[0m\u001b[1;33m\u001b[0m\u001b[0m\n",
      "\u001b[1;31mInternalError\u001b[0m: Blas GEMM launch failed : a.shape=(32, 56), b.shape=(56, 45), m=32, n=45, k=56\n\t [[Node: dnn/hiddenlayer_0/MatMul = MatMul[T=DT_FLOAT, transpose_a=false, transpose_b=false, _device=\"/job:localhost/replica:0/task:0/device:GPU:0\"](ToFloat, dnn/hiddenlayer_0/weights/part_0/read)]]",
      "\nDuring handling of the above exception, another exception occurred:\n",
      "\u001b[1;31mInternalError\u001b[0m                             Traceback (most recent call last)",
      "\u001b[1;32m<ipython-input-51-dc2962c58e15>\u001b[0m in \u001b[0;36m<module>\u001b[1;34m()\u001b[0m\n\u001b[0;32m      1\u001b[0m \u001b[0mclassifier\u001b[0m \u001b[1;33m=\u001b[0m \u001b[0mskflow\u001b[0m\u001b[1;33m.\u001b[0m\u001b[0mDNNClassifier\u001b[0m\u001b[1;33m(\u001b[0m\u001b[0mhidden_units\u001b[0m\u001b[1;33m=\u001b[0m\u001b[1;33m[\u001b[0m\u001b[1;36m45\u001b[0m\u001b[1;33m,\u001b[0m \u001b[1;36m25\u001b[0m\u001b[1;33m,\u001b[0m \u001b[1;36m15\u001b[0m\u001b[1;33m]\u001b[0m\u001b[1;33m,\u001b[0m \u001b[0mn_classes\u001b[0m\u001b[1;33m=\u001b[0m\u001b[1;36m6\u001b[0m\u001b[1;33m,\u001b[0m \u001b[0mfeature_columns\u001b[0m\u001b[1;33m=\u001b[0m\u001b[1;33m[\u001b[0m\u001b[0mtf\u001b[0m\u001b[1;33m.\u001b[0m\u001b[0mcontrib\u001b[0m\u001b[1;33m.\u001b[0m\u001b[0mlayers\u001b[0m\u001b[1;33m.\u001b[0m\u001b[0mreal_valued_column\u001b[0m\u001b[1;33m(\u001b[0m\u001b[1;34m\"\"\u001b[0m\u001b[1;33m,\u001b[0m \u001b[0mdimension\u001b[0m\u001b[1;33m=\u001b[0m\u001b[0mX_train\u001b[0m\u001b[1;33m.\u001b[0m\u001b[0mshape\u001b[0m\u001b[1;33m[\u001b[0m\u001b[1;36m1\u001b[0m\u001b[1;33m]\u001b[0m\u001b[1;33m)\u001b[0m\u001b[1;33m]\u001b[0m\u001b[1;33m,\u001b[0m \u001b[0moptimizer\u001b[0m\u001b[1;33m=\u001b[0m\u001b[1;34m'Adam'\u001b[0m\u001b[1;33m)\u001b[0m\u001b[1;33m\u001b[0m\u001b[0m\n\u001b[1;32m----> 2\u001b[1;33m \u001b[0mclassifier\u001b[0m\u001b[1;33m.\u001b[0m\u001b[0mfit\u001b[0m\u001b[1;33m(\u001b[0m\u001b[0mX_train\u001b[0m\u001b[1;33m,\u001b[0m \u001b[0my_train_encoded\u001b[0m\u001b[1;33m,\u001b[0m \u001b[0msteps\u001b[0m\u001b[1;33m=\u001b[0m\u001b[1;36m10000\u001b[0m\u001b[1;33m,\u001b[0m \u001b[0mbatch_size\u001b[0m\u001b[1;33m=\u001b[0m\u001b[1;36m32\u001b[0m\u001b[1;33m)\u001b[0m\u001b[1;33m\u001b[0m\u001b[0m\n\u001b[0m",
      "\u001b[1;32m~\\Anaconda3\\lib\\site-packages\\tensorflow\\python\\util\\deprecation.py\u001b[0m in \u001b[0;36mnew_func\u001b[1;34m(*args, **kwargs)\u001b[0m\n\u001b[0;32m    430\u001b[0m                 \u001b[1;34m'in a future version'\u001b[0m \u001b[1;32mif\u001b[0m \u001b[0mdate\u001b[0m \u001b[1;32mis\u001b[0m \u001b[1;32mNone\u001b[0m \u001b[1;32melse\u001b[0m \u001b[1;33m(\u001b[0m\u001b[1;34m'after %s'\u001b[0m \u001b[1;33m%\u001b[0m \u001b[0mdate\u001b[0m\u001b[1;33m)\u001b[0m\u001b[1;33m,\u001b[0m\u001b[1;33m\u001b[0m\u001b[0m\n\u001b[0;32m    431\u001b[0m                 instructions)\n\u001b[1;32m--> 432\u001b[1;33m       \u001b[1;32mreturn\u001b[0m \u001b[0mfunc\u001b[0m\u001b[1;33m(\u001b[0m\u001b[1;33m*\u001b[0m\u001b[0margs\u001b[0m\u001b[1;33m,\u001b[0m \u001b[1;33m**\u001b[0m\u001b[0mkwargs\u001b[0m\u001b[1;33m)\u001b[0m\u001b[1;33m\u001b[0m\u001b[0m\n\u001b[0m\u001b[0;32m    433\u001b[0m     return tf_decorator.make_decorator(func, new_func, 'deprecated',\n\u001b[0;32m    434\u001b[0m                                        _add_deprecated_arg_notice_to_docstring(\n",
      "\u001b[1;32m~\\Anaconda3\\lib\\site-packages\\tensorflow\\contrib\\learn\\python\\learn\\estimators\\estimator.py\u001b[0m in \u001b[0;36mfit\u001b[1;34m(self, x, y, input_fn, steps, batch_size, monitors, max_steps)\u001b[0m\n\u001b[0;32m    506\u001b[0m     \u001b[0m_verify_input_args\u001b[0m\u001b[1;33m(\u001b[0m\u001b[0mx\u001b[0m\u001b[1;33m,\u001b[0m \u001b[0my\u001b[0m\u001b[1;33m,\u001b[0m \u001b[0minput_fn\u001b[0m\u001b[1;33m,\u001b[0m \u001b[1;32mNone\u001b[0m\u001b[1;33m,\u001b[0m \u001b[0mbatch_size\u001b[0m\u001b[1;33m)\u001b[0m\u001b[1;33m\u001b[0m\u001b[0m\n\u001b[0;32m    507\u001b[0m     \u001b[1;32mif\u001b[0m \u001b[0mx\u001b[0m \u001b[1;32mis\u001b[0m \u001b[1;32mnot\u001b[0m \u001b[1;32mNone\u001b[0m\u001b[1;33m:\u001b[0m\u001b[1;33m\u001b[0m\u001b[0m\n\u001b[1;32m--> 508\u001b[1;33m       \u001b[0mSKCompat\u001b[0m\u001b[1;33m(\u001b[0m\u001b[0mself\u001b[0m\u001b[1;33m)\u001b[0m\u001b[1;33m.\u001b[0m\u001b[0mfit\u001b[0m\u001b[1;33m(\u001b[0m\u001b[0mx\u001b[0m\u001b[1;33m,\u001b[0m \u001b[0my\u001b[0m\u001b[1;33m,\u001b[0m \u001b[0mbatch_size\u001b[0m\u001b[1;33m,\u001b[0m \u001b[0msteps\u001b[0m\u001b[1;33m,\u001b[0m \u001b[0mmax_steps\u001b[0m\u001b[1;33m,\u001b[0m \u001b[0mmonitors\u001b[0m\u001b[1;33m)\u001b[0m\u001b[1;33m\u001b[0m\u001b[0m\n\u001b[0m\u001b[0;32m    509\u001b[0m       \u001b[1;32mreturn\u001b[0m \u001b[0mself\u001b[0m\u001b[1;33m\u001b[0m\u001b[0m\n\u001b[0;32m    510\u001b[0m \u001b[1;33m\u001b[0m\u001b[0m\n",
      "\u001b[1;32m~\\Anaconda3\\lib\\site-packages\\tensorflow\\contrib\\learn\\python\\learn\\estimators\\estimator.py\u001b[0m in \u001b[0;36mfit\u001b[1;34m(self, x, y, batch_size, steps, max_steps, monitors)\u001b[0m\n\u001b[0;32m   1525\u001b[0m         \u001b[0msteps\u001b[0m\u001b[1;33m=\u001b[0m\u001b[0msteps\u001b[0m\u001b[1;33m,\u001b[0m\u001b[1;33m\u001b[0m\u001b[0m\n\u001b[0;32m   1526\u001b[0m         \u001b[0mmax_steps\u001b[0m\u001b[1;33m=\u001b[0m\u001b[0mmax_steps\u001b[0m\u001b[1;33m,\u001b[0m\u001b[1;33m\u001b[0m\u001b[0m\n\u001b[1;32m-> 1527\u001b[1;33m         monitors=all_monitors)\n\u001b[0m\u001b[0;32m   1528\u001b[0m     \u001b[1;32mreturn\u001b[0m \u001b[0mself\u001b[0m\u001b[1;33m\u001b[0m\u001b[0m\n\u001b[0;32m   1529\u001b[0m \u001b[1;33m\u001b[0m\u001b[0m\n",
      "\u001b[1;32m~\\Anaconda3\\lib\\site-packages\\tensorflow\\python\\util\\deprecation.py\u001b[0m in \u001b[0;36mnew_func\u001b[1;34m(*args, **kwargs)\u001b[0m\n\u001b[0;32m    430\u001b[0m                 \u001b[1;34m'in a future version'\u001b[0m \u001b[1;32mif\u001b[0m \u001b[0mdate\u001b[0m \u001b[1;32mis\u001b[0m \u001b[1;32mNone\u001b[0m \u001b[1;32melse\u001b[0m \u001b[1;33m(\u001b[0m\u001b[1;34m'after %s'\u001b[0m \u001b[1;33m%\u001b[0m \u001b[0mdate\u001b[0m\u001b[1;33m)\u001b[0m\u001b[1;33m,\u001b[0m\u001b[1;33m\u001b[0m\u001b[0m\n\u001b[0;32m    431\u001b[0m                 instructions)\n\u001b[1;32m--> 432\u001b[1;33m       \u001b[1;32mreturn\u001b[0m \u001b[0mfunc\u001b[0m\u001b[1;33m(\u001b[0m\u001b[1;33m*\u001b[0m\u001b[0margs\u001b[0m\u001b[1;33m,\u001b[0m \u001b[1;33m**\u001b[0m\u001b[0mkwargs\u001b[0m\u001b[1;33m)\u001b[0m\u001b[1;33m\u001b[0m\u001b[0m\n\u001b[0m\u001b[0;32m    433\u001b[0m     return tf_decorator.make_decorator(func, new_func, 'deprecated',\n\u001b[0;32m    434\u001b[0m                                        _add_deprecated_arg_notice_to_docstring(\n",
      "\u001b[1;32m~\\Anaconda3\\lib\\site-packages\\tensorflow\\contrib\\learn\\python\\learn\\estimators\\estimator.py\u001b[0m in \u001b[0;36mfit\u001b[1;34m(self, x, y, input_fn, steps, batch_size, monitors, max_steps)\u001b[0m\n\u001b[0;32m    522\u001b[0m       \u001b[0mhooks\u001b[0m\u001b[1;33m.\u001b[0m\u001b[0mappend\u001b[0m\u001b[1;33m(\u001b[0m\u001b[0mbasic_session_run_hooks\u001b[0m\u001b[1;33m.\u001b[0m\u001b[0mStopAtStepHook\u001b[0m\u001b[1;33m(\u001b[0m\u001b[0msteps\u001b[0m\u001b[1;33m,\u001b[0m \u001b[0mmax_steps\u001b[0m\u001b[1;33m)\u001b[0m\u001b[1;33m)\u001b[0m\u001b[1;33m\u001b[0m\u001b[0m\n\u001b[0;32m    523\u001b[0m \u001b[1;33m\u001b[0m\u001b[0m\n\u001b[1;32m--> 524\u001b[1;33m     \u001b[0mloss\u001b[0m \u001b[1;33m=\u001b[0m \u001b[0mself\u001b[0m\u001b[1;33m.\u001b[0m\u001b[0m_train_model\u001b[0m\u001b[1;33m(\u001b[0m\u001b[0minput_fn\u001b[0m\u001b[1;33m=\u001b[0m\u001b[0minput_fn\u001b[0m\u001b[1;33m,\u001b[0m \u001b[0mhooks\u001b[0m\u001b[1;33m=\u001b[0m\u001b[0mhooks\u001b[0m\u001b[1;33m)\u001b[0m\u001b[1;33m\u001b[0m\u001b[0m\n\u001b[0m\u001b[0;32m    525\u001b[0m     \u001b[0mlogging\u001b[0m\u001b[1;33m.\u001b[0m\u001b[0minfo\u001b[0m\u001b[1;33m(\u001b[0m\u001b[1;34m'Loss for final step: %s.'\u001b[0m\u001b[1;33m,\u001b[0m \u001b[0mloss\u001b[0m\u001b[1;33m)\u001b[0m\u001b[1;33m\u001b[0m\u001b[0m\n\u001b[0;32m    526\u001b[0m     \u001b[1;32mreturn\u001b[0m \u001b[0mself\u001b[0m\u001b[1;33m\u001b[0m\u001b[0m\n",
      "\u001b[1;32m~\\Anaconda3\\lib\\site-packages\\tensorflow\\contrib\\learn\\python\\learn\\estimators\\estimator.py\u001b[0m in \u001b[0;36m_train_model\u001b[1;34m(self, input_fn, hooks)\u001b[0m\n\u001b[0;32m   1092\u001b[0m         \u001b[0mloss\u001b[0m \u001b[1;33m=\u001b[0m \u001b[1;32mNone\u001b[0m\u001b[1;33m\u001b[0m\u001b[0m\n\u001b[0;32m   1093\u001b[0m         \u001b[1;32mwhile\u001b[0m \u001b[1;32mnot\u001b[0m \u001b[0mmon_sess\u001b[0m\u001b[1;33m.\u001b[0m\u001b[0mshould_stop\u001b[0m\u001b[1;33m(\u001b[0m\u001b[1;33m)\u001b[0m\u001b[1;33m:\u001b[0m\u001b[1;33m\u001b[0m\u001b[0m\n\u001b[1;32m-> 1094\u001b[1;33m           \u001b[0m_\u001b[0m\u001b[1;33m,\u001b[0m \u001b[0mloss\u001b[0m \u001b[1;33m=\u001b[0m \u001b[0mmon_sess\u001b[0m\u001b[1;33m.\u001b[0m\u001b[0mrun\u001b[0m\u001b[1;33m(\u001b[0m\u001b[1;33m[\u001b[0m\u001b[0mmodel_fn_ops\u001b[0m\u001b[1;33m.\u001b[0m\u001b[0mtrain_op\u001b[0m\u001b[1;33m,\u001b[0m \u001b[0mmodel_fn_ops\u001b[0m\u001b[1;33m.\u001b[0m\u001b[0mloss\u001b[0m\u001b[1;33m]\u001b[0m\u001b[1;33m)\u001b[0m\u001b[1;33m\u001b[0m\u001b[0m\n\u001b[0m\u001b[0;32m   1095\u001b[0m       \u001b[1;32mreturn\u001b[0m \u001b[0mloss\u001b[0m\u001b[1;33m\u001b[0m\u001b[0m\n\u001b[0;32m   1096\u001b[0m \u001b[1;33m\u001b[0m\u001b[0m\n",
      "\u001b[1;32m~\\Anaconda3\\lib\\site-packages\\tensorflow\\python\\training\\monitored_session.py\u001b[0m in \u001b[0;36mrun\u001b[1;34m(self, fetches, feed_dict, options, run_metadata)\u001b[0m\n\u001b[0;32m    565\u001b[0m                           \u001b[0mfeed_dict\u001b[0m\u001b[1;33m=\u001b[0m\u001b[0mfeed_dict\u001b[0m\u001b[1;33m,\u001b[0m\u001b[1;33m\u001b[0m\u001b[0m\n\u001b[0;32m    566\u001b[0m                           \u001b[0moptions\u001b[0m\u001b[1;33m=\u001b[0m\u001b[0moptions\u001b[0m\u001b[1;33m,\u001b[0m\u001b[1;33m\u001b[0m\u001b[0m\n\u001b[1;32m--> 567\u001b[1;33m                           run_metadata=run_metadata)\n\u001b[0m\u001b[0;32m    568\u001b[0m \u001b[1;33m\u001b[0m\u001b[0m\n\u001b[0;32m    569\u001b[0m   \u001b[1;32mdef\u001b[0m \u001b[0mrun_step_fn\u001b[0m\u001b[1;33m(\u001b[0m\u001b[0mself\u001b[0m\u001b[1;33m,\u001b[0m \u001b[0mstep_fn\u001b[0m\u001b[1;33m)\u001b[0m\u001b[1;33m:\u001b[0m\u001b[1;33m\u001b[0m\u001b[0m\n",
      "\u001b[1;32m~\\Anaconda3\\lib\\site-packages\\tensorflow\\python\\training\\monitored_session.py\u001b[0m in \u001b[0;36mrun\u001b[1;34m(self, fetches, feed_dict, options, run_metadata)\u001b[0m\n\u001b[0;32m   1041\u001b[0m                               \u001b[0mfeed_dict\u001b[0m\u001b[1;33m=\u001b[0m\u001b[0mfeed_dict\u001b[0m\u001b[1;33m,\u001b[0m\u001b[1;33m\u001b[0m\u001b[0m\n\u001b[0;32m   1042\u001b[0m                               \u001b[0moptions\u001b[0m\u001b[1;33m=\u001b[0m\u001b[0moptions\u001b[0m\u001b[1;33m,\u001b[0m\u001b[1;33m\u001b[0m\u001b[0m\n\u001b[1;32m-> 1043\u001b[1;33m                               run_metadata=run_metadata)\n\u001b[0m\u001b[0;32m   1044\u001b[0m       \u001b[1;32mexcept\u001b[0m \u001b[0m_PREEMPTION_ERRORS\u001b[0m \u001b[1;32mas\u001b[0m \u001b[0me\u001b[0m\u001b[1;33m:\u001b[0m\u001b[1;33m\u001b[0m\u001b[0m\n\u001b[0;32m   1045\u001b[0m         logging.info('An error was raised. This may be due to a preemption in '\n",
      "\u001b[1;32m~\\Anaconda3\\lib\\site-packages\\tensorflow\\python\\training\\monitored_session.py\u001b[0m in \u001b[0;36mrun\u001b[1;34m(self, *args, **kwargs)\u001b[0m\n\u001b[0;32m   1132\u001b[0m         \u001b[1;32mraise\u001b[0m \u001b[0msix\u001b[0m\u001b[1;33m.\u001b[0m\u001b[0mreraise\u001b[0m\u001b[1;33m(\u001b[0m\u001b[1;33m*\u001b[0m\u001b[0moriginal_exc_info\u001b[0m\u001b[1;33m)\u001b[0m\u001b[1;33m\u001b[0m\u001b[0m\n\u001b[0;32m   1133\u001b[0m       \u001b[1;32melse\u001b[0m\u001b[1;33m:\u001b[0m\u001b[1;33m\u001b[0m\u001b[0m\n\u001b[1;32m-> 1134\u001b[1;33m         \u001b[1;32mraise\u001b[0m \u001b[0msix\u001b[0m\u001b[1;33m.\u001b[0m\u001b[0mreraise\u001b[0m\u001b[1;33m(\u001b[0m\u001b[1;33m*\u001b[0m\u001b[0moriginal_exc_info\u001b[0m\u001b[1;33m)\u001b[0m\u001b[1;33m\u001b[0m\u001b[0m\n\u001b[0m\u001b[0;32m   1135\u001b[0m \u001b[1;33m\u001b[0m\u001b[0m\n\u001b[0;32m   1136\u001b[0m \u001b[1;33m\u001b[0m\u001b[0m\n",
      "\u001b[1;32m~\\Anaconda3\\lib\\site-packages\\six.py\u001b[0m in \u001b[0;36mreraise\u001b[1;34m(tp, value, tb)\u001b[0m\n\u001b[0;32m    691\u001b[0m             \u001b[1;32mif\u001b[0m \u001b[0mvalue\u001b[0m\u001b[1;33m.\u001b[0m\u001b[0m__traceback__\u001b[0m \u001b[1;32mis\u001b[0m \u001b[1;32mnot\u001b[0m \u001b[0mtb\u001b[0m\u001b[1;33m:\u001b[0m\u001b[1;33m\u001b[0m\u001b[0m\n\u001b[0;32m    692\u001b[0m                 \u001b[1;32mraise\u001b[0m \u001b[0mvalue\u001b[0m\u001b[1;33m.\u001b[0m\u001b[0mwith_traceback\u001b[0m\u001b[1;33m(\u001b[0m\u001b[0mtb\u001b[0m\u001b[1;33m)\u001b[0m\u001b[1;33m\u001b[0m\u001b[0m\n\u001b[1;32m--> 693\u001b[1;33m             \u001b[1;32mraise\u001b[0m \u001b[0mvalue\u001b[0m\u001b[1;33m\u001b[0m\u001b[0m\n\u001b[0m\u001b[0;32m    694\u001b[0m         \u001b[1;32mfinally\u001b[0m\u001b[1;33m:\u001b[0m\u001b[1;33m\u001b[0m\u001b[0m\n\u001b[0;32m    695\u001b[0m             \u001b[0mvalue\u001b[0m \u001b[1;33m=\u001b[0m \u001b[1;32mNone\u001b[0m\u001b[1;33m\u001b[0m\u001b[0m\n",
      "\u001b[1;32m~\\Anaconda3\\lib\\site-packages\\tensorflow\\python\\training\\monitored_session.py\u001b[0m in \u001b[0;36mrun\u001b[1;34m(self, *args, **kwargs)\u001b[0m\n\u001b[0;32m   1117\u001b[0m   \u001b[1;32mdef\u001b[0m \u001b[0mrun\u001b[0m\u001b[1;33m(\u001b[0m\u001b[0mself\u001b[0m\u001b[1;33m,\u001b[0m \u001b[1;33m*\u001b[0m\u001b[0margs\u001b[0m\u001b[1;33m,\u001b[0m \u001b[1;33m**\u001b[0m\u001b[0mkwargs\u001b[0m\u001b[1;33m)\u001b[0m\u001b[1;33m:\u001b[0m\u001b[1;33m\u001b[0m\u001b[0m\n\u001b[0;32m   1118\u001b[0m     \u001b[1;32mtry\u001b[0m\u001b[1;33m:\u001b[0m\u001b[1;33m\u001b[0m\u001b[0m\n\u001b[1;32m-> 1119\u001b[1;33m       \u001b[1;32mreturn\u001b[0m \u001b[0mself\u001b[0m\u001b[1;33m.\u001b[0m\u001b[0m_sess\u001b[0m\u001b[1;33m.\u001b[0m\u001b[0mrun\u001b[0m\u001b[1;33m(\u001b[0m\u001b[1;33m*\u001b[0m\u001b[0margs\u001b[0m\u001b[1;33m,\u001b[0m \u001b[1;33m**\u001b[0m\u001b[0mkwargs\u001b[0m\u001b[1;33m)\u001b[0m\u001b[1;33m\u001b[0m\u001b[0m\n\u001b[0m\u001b[0;32m   1120\u001b[0m     \u001b[1;32mexcept\u001b[0m \u001b[0m_PREEMPTION_ERRORS\u001b[0m\u001b[1;33m:\u001b[0m\u001b[1;33m\u001b[0m\u001b[0m\n\u001b[0;32m   1121\u001b[0m       \u001b[1;32mraise\u001b[0m\u001b[1;33m\u001b[0m\u001b[0m\n",
      "\u001b[1;32m~\\Anaconda3\\lib\\site-packages\\tensorflow\\python\\training\\monitored_session.py\u001b[0m in \u001b[0;36mrun\u001b[1;34m(self, fetches, feed_dict, options, run_metadata)\u001b[0m\n\u001b[0;32m   1189\u001b[0m                                   \u001b[0mfeed_dict\u001b[0m\u001b[1;33m=\u001b[0m\u001b[0mfeed_dict\u001b[0m\u001b[1;33m,\u001b[0m\u001b[1;33m\u001b[0m\u001b[0m\n\u001b[0;32m   1190\u001b[0m                                   \u001b[0moptions\u001b[0m\u001b[1;33m=\u001b[0m\u001b[0moptions\u001b[0m\u001b[1;33m,\u001b[0m\u001b[1;33m\u001b[0m\u001b[0m\n\u001b[1;32m-> 1191\u001b[1;33m                                   run_metadata=run_metadata)\n\u001b[0m\u001b[0;32m   1192\u001b[0m \u001b[1;33m\u001b[0m\u001b[0m\n\u001b[0;32m   1193\u001b[0m     \u001b[1;32mfor\u001b[0m \u001b[0mhook\u001b[0m \u001b[1;32min\u001b[0m \u001b[0mself\u001b[0m\u001b[1;33m.\u001b[0m\u001b[0m_hooks\u001b[0m\u001b[1;33m:\u001b[0m\u001b[1;33m\u001b[0m\u001b[0m\n",
      "\u001b[1;32m~\\Anaconda3\\lib\\site-packages\\tensorflow\\python\\training\\monitored_session.py\u001b[0m in \u001b[0;36mrun\u001b[1;34m(self, *args, **kwargs)\u001b[0m\n\u001b[0;32m    969\u001b[0m \u001b[1;33m\u001b[0m\u001b[0m\n\u001b[0;32m    970\u001b[0m   \u001b[1;32mdef\u001b[0m \u001b[0mrun\u001b[0m\u001b[1;33m(\u001b[0m\u001b[0mself\u001b[0m\u001b[1;33m,\u001b[0m \u001b[1;33m*\u001b[0m\u001b[0margs\u001b[0m\u001b[1;33m,\u001b[0m \u001b[1;33m**\u001b[0m\u001b[0mkwargs\u001b[0m\u001b[1;33m)\u001b[0m\u001b[1;33m:\u001b[0m\u001b[1;33m\u001b[0m\u001b[0m\n\u001b[1;32m--> 971\u001b[1;33m     \u001b[1;32mreturn\u001b[0m \u001b[0mself\u001b[0m\u001b[1;33m.\u001b[0m\u001b[0m_sess\u001b[0m\u001b[1;33m.\u001b[0m\u001b[0mrun\u001b[0m\u001b[1;33m(\u001b[0m\u001b[1;33m*\u001b[0m\u001b[0margs\u001b[0m\u001b[1;33m,\u001b[0m \u001b[1;33m**\u001b[0m\u001b[0mkwargs\u001b[0m\u001b[1;33m)\u001b[0m\u001b[1;33m\u001b[0m\u001b[0m\n\u001b[0m\u001b[0;32m    972\u001b[0m \u001b[1;33m\u001b[0m\u001b[0m\n\u001b[0;32m    973\u001b[0m   \u001b[1;32mdef\u001b[0m \u001b[0mrun_step_fn\u001b[0m\u001b[1;33m(\u001b[0m\u001b[0mself\u001b[0m\u001b[1;33m,\u001b[0m \u001b[0mstep_fn\u001b[0m\u001b[1;33m,\u001b[0m \u001b[0mraw_session\u001b[0m\u001b[1;33m,\u001b[0m \u001b[0mrun_with_hooks\u001b[0m\u001b[1;33m)\u001b[0m\u001b[1;33m:\u001b[0m\u001b[1;33m\u001b[0m\u001b[0m\n",
      "\u001b[1;32m~\\Anaconda3\\lib\\site-packages\\tensorflow\\python\\client\\session.py\u001b[0m in \u001b[0;36mrun\u001b[1;34m(self, fetches, feed_dict, options, run_metadata)\u001b[0m\n\u001b[0;32m    898\u001b[0m     \u001b[1;32mtry\u001b[0m\u001b[1;33m:\u001b[0m\u001b[1;33m\u001b[0m\u001b[0m\n\u001b[0;32m    899\u001b[0m       result = self._run(None, fetches, feed_dict, options_ptr,\n\u001b[1;32m--> 900\u001b[1;33m                          run_metadata_ptr)\n\u001b[0m\u001b[0;32m    901\u001b[0m       \u001b[1;32mif\u001b[0m \u001b[0mrun_metadata\u001b[0m\u001b[1;33m:\u001b[0m\u001b[1;33m\u001b[0m\u001b[0m\n\u001b[0;32m    902\u001b[0m         \u001b[0mproto_data\u001b[0m \u001b[1;33m=\u001b[0m \u001b[0mtf_session\u001b[0m\u001b[1;33m.\u001b[0m\u001b[0mTF_GetBuffer\u001b[0m\u001b[1;33m(\u001b[0m\u001b[0mrun_metadata_ptr\u001b[0m\u001b[1;33m)\u001b[0m\u001b[1;33m\u001b[0m\u001b[0m\n",
      "\u001b[1;32m~\\Anaconda3\\lib\\site-packages\\tensorflow\\python\\client\\session.py\u001b[0m in \u001b[0;36m_run\u001b[1;34m(self, handle, fetches, feed_dict, options, run_metadata)\u001b[0m\n\u001b[0;32m   1133\u001b[0m     \u001b[1;32mif\u001b[0m \u001b[0mfinal_fetches\u001b[0m \u001b[1;32mor\u001b[0m \u001b[0mfinal_targets\u001b[0m \u001b[1;32mor\u001b[0m \u001b[1;33m(\u001b[0m\u001b[0mhandle\u001b[0m \u001b[1;32mand\u001b[0m \u001b[0mfeed_dict_tensor\u001b[0m\u001b[1;33m)\u001b[0m\u001b[1;33m:\u001b[0m\u001b[1;33m\u001b[0m\u001b[0m\n\u001b[0;32m   1134\u001b[0m       results = self._do_run(handle, final_targets, final_fetches,\n\u001b[1;32m-> 1135\u001b[1;33m                              feed_dict_tensor, options, run_metadata)\n\u001b[0m\u001b[0;32m   1136\u001b[0m     \u001b[1;32melse\u001b[0m\u001b[1;33m:\u001b[0m\u001b[1;33m\u001b[0m\u001b[0m\n\u001b[0;32m   1137\u001b[0m       \u001b[0mresults\u001b[0m \u001b[1;33m=\u001b[0m \u001b[1;33m[\u001b[0m\u001b[1;33m]\u001b[0m\u001b[1;33m\u001b[0m\u001b[0m\n",
      "\u001b[1;32m~\\Anaconda3\\lib\\site-packages\\tensorflow\\python\\client\\session.py\u001b[0m in \u001b[0;36m_do_run\u001b[1;34m(self, handle, target_list, fetch_list, feed_dict, options, run_metadata)\u001b[0m\n\u001b[0;32m   1314\u001b[0m     \u001b[1;32mif\u001b[0m \u001b[0mhandle\u001b[0m \u001b[1;32mis\u001b[0m \u001b[1;32mNone\u001b[0m\u001b[1;33m:\u001b[0m\u001b[1;33m\u001b[0m\u001b[0m\n\u001b[0;32m   1315\u001b[0m       return self._do_call(_run_fn, feeds, fetches, targets, options,\n\u001b[1;32m-> 1316\u001b[1;33m                            run_metadata)\n\u001b[0m\u001b[0;32m   1317\u001b[0m     \u001b[1;32melse\u001b[0m\u001b[1;33m:\u001b[0m\u001b[1;33m\u001b[0m\u001b[0m\n\u001b[0;32m   1318\u001b[0m       \u001b[1;32mreturn\u001b[0m \u001b[0mself\u001b[0m\u001b[1;33m.\u001b[0m\u001b[0m_do_call\u001b[0m\u001b[1;33m(\u001b[0m\u001b[0m_prun_fn\u001b[0m\u001b[1;33m,\u001b[0m \u001b[0mhandle\u001b[0m\u001b[1;33m,\u001b[0m \u001b[0mfeeds\u001b[0m\u001b[1;33m,\u001b[0m \u001b[0mfetches\u001b[0m\u001b[1;33m)\u001b[0m\u001b[1;33m\u001b[0m\u001b[0m\n",
      "\u001b[1;32m~\\Anaconda3\\lib\\site-packages\\tensorflow\\python\\client\\session.py\u001b[0m in \u001b[0;36m_do_call\u001b[1;34m(self, fn, *args)\u001b[0m\n\u001b[0;32m   1333\u001b[0m         \u001b[1;32mexcept\u001b[0m \u001b[0mKeyError\u001b[0m\u001b[1;33m:\u001b[0m\u001b[1;33m\u001b[0m\u001b[0m\n\u001b[0;32m   1334\u001b[0m           \u001b[1;32mpass\u001b[0m\u001b[1;33m\u001b[0m\u001b[0m\n\u001b[1;32m-> 1335\u001b[1;33m       \u001b[1;32mraise\u001b[0m \u001b[0mtype\u001b[0m\u001b[1;33m(\u001b[0m\u001b[0me\u001b[0m\u001b[1;33m)\u001b[0m\u001b[1;33m(\u001b[0m\u001b[0mnode_def\u001b[0m\u001b[1;33m,\u001b[0m \u001b[0mop\u001b[0m\u001b[1;33m,\u001b[0m \u001b[0mmessage\u001b[0m\u001b[1;33m)\u001b[0m\u001b[1;33m\u001b[0m\u001b[0m\n\u001b[0m\u001b[0;32m   1336\u001b[0m \u001b[1;33m\u001b[0m\u001b[0m\n\u001b[0;32m   1337\u001b[0m   \u001b[1;32mdef\u001b[0m \u001b[0m_extend_graph\u001b[0m\u001b[1;33m(\u001b[0m\u001b[0mself\u001b[0m\u001b[1;33m)\u001b[0m\u001b[1;33m:\u001b[0m\u001b[1;33m\u001b[0m\u001b[0m\n",
      "\u001b[1;31mInternalError\u001b[0m: Blas GEMM launch failed : a.shape=(32, 56), b.shape=(56, 45), m=32, n=45, k=56\n\t [[Node: dnn/hiddenlayer_0/MatMul = MatMul[T=DT_FLOAT, transpose_a=false, transpose_b=false, _device=\"/job:localhost/replica:0/task:0/device:GPU:0\"](ToFloat, dnn/hiddenlayer_0/weights/part_0/read)]]\n\nCaused by op 'dnn/hiddenlayer_0/MatMul', defined at:\n  File \"C:\\Users\\Minh Tri\\Anaconda3\\lib\\runpy.py\", line 193, in _run_module_as_main\n    \"__main__\", mod_spec)\n  File \"C:\\Users\\Minh Tri\\Anaconda3\\lib\\runpy.py\", line 85, in _run_code\n    exec(code, run_globals)\n  File \"C:\\Users\\Minh Tri\\AppData\\Roaming\\Python\\Python36\\site-packages\\ipykernel_launcher.py\", line 16, in <module>\n    app.launch_new_instance()\n  File \"C:\\Users\\Minh Tri\\Anaconda3\\lib\\site-packages\\traitlets\\config\\application.py\", line 658, in launch_instance\n    app.start()\n  File \"C:\\Users\\Minh Tri\\AppData\\Roaming\\Python\\Python36\\site-packages\\ipykernel\\kernelapp.py\", line 486, in start\n    self.io_loop.start()\n  File \"C:\\Users\\Minh Tri\\Anaconda3\\lib\\site-packages\\tornado\\ioloop.py\", line 888, in start\n    handler_func(fd_obj, events)\n  File \"C:\\Users\\Minh Tri\\Anaconda3\\lib\\site-packages\\tornado\\stack_context.py\", line 277, in null_wrapper\n    return fn(*args, **kwargs)\n  File \"C:\\Users\\Minh Tri\\Anaconda3\\lib\\site-packages\\zmq\\eventloop\\zmqstream.py\", line 450, in _handle_events\n    self._handle_recv()\n  File \"C:\\Users\\Minh Tri\\Anaconda3\\lib\\site-packages\\zmq\\eventloop\\zmqstream.py\", line 480, in _handle_recv\n    self._run_callback(callback, msg)\n  File \"C:\\Users\\Minh Tri\\Anaconda3\\lib\\site-packages\\zmq\\eventloop\\zmqstream.py\", line 432, in _run_callback\n    callback(*args, **kwargs)\n  File \"C:\\Users\\Minh Tri\\Anaconda3\\lib\\site-packages\\tornado\\stack_context.py\", line 277, in null_wrapper\n    return fn(*args, **kwargs)\n  File \"C:\\Users\\Minh Tri\\AppData\\Roaming\\Python\\Python36\\site-packages\\ipykernel\\kernelbase.py\", line 283, in dispatcher\n    return self.dispatch_shell(stream, msg)\n  File \"C:\\Users\\Minh Tri\\AppData\\Roaming\\Python\\Python36\\site-packages\\ipykernel\\kernelbase.py\", line 233, in dispatch_shell\n    handler(stream, idents, msg)\n  File \"C:\\Users\\Minh Tri\\AppData\\Roaming\\Python\\Python36\\site-packages\\ipykernel\\kernelbase.py\", line 399, in execute_request\n    user_expressions, allow_stdin)\n  File \"C:\\Users\\Minh Tri\\AppData\\Roaming\\Python\\Python36\\site-packages\\ipykernel\\ipkernel.py\", line 208, in do_execute\n    res = shell.run_cell(code, store_history=store_history, silent=silent)\n  File \"C:\\Users\\Minh Tri\\AppData\\Roaming\\Python\\Python36\\site-packages\\ipykernel\\zmqshell.py\", line 537, in run_cell\n    return super(ZMQInteractiveShell, self).run_cell(*args, **kwargs)\n  File \"C:\\Users\\Minh Tri\\Anaconda3\\lib\\site-packages\\IPython\\core\\interactiveshell.py\", line 2728, in run_cell\n    interactivity=interactivity, compiler=compiler, result=result)\n  File \"C:\\Users\\Minh Tri\\Anaconda3\\lib\\site-packages\\IPython\\core\\interactiveshell.py\", line 2856, in run_ast_nodes\n    if self.run_code(code, result):\n  File \"C:\\Users\\Minh Tri\\Anaconda3\\lib\\site-packages\\IPython\\core\\interactiveshell.py\", line 2910, in run_code\n    exec(code_obj, self.user_global_ns, self.user_ns)\n  File \"<ipython-input-51-dc2962c58e15>\", line 2, in <module>\n    classifier.fit(X_train, y_train_encoded, steps=10000, batch_size=32)\n  File \"C:\\Users\\Minh Tri\\Anaconda3\\lib\\site-packages\\tensorflow\\python\\util\\deprecation.py\", line 432, in new_func\n    return func(*args, **kwargs)\n  File \"C:\\Users\\Minh Tri\\Anaconda3\\lib\\site-packages\\tensorflow\\contrib\\learn\\python\\learn\\estimators\\estimator.py\", line 508, in fit\n    SKCompat(self).fit(x, y, batch_size, steps, max_steps, monitors)\n  File \"C:\\Users\\Minh Tri\\Anaconda3\\lib\\site-packages\\tensorflow\\contrib\\learn\\python\\learn\\estimators\\estimator.py\", line 1527, in fit\n    monitors=all_monitors)\n  File \"C:\\Users\\Minh Tri\\Anaconda3\\lib\\site-packages\\tensorflow\\python\\util\\deprecation.py\", line 432, in new_func\n    return func(*args, **kwargs)\n  File \"C:\\Users\\Minh Tri\\Anaconda3\\lib\\site-packages\\tensorflow\\contrib\\learn\\python\\learn\\estimators\\estimator.py\", line 524, in fit\n    loss = self._train_model(input_fn=input_fn, hooks=hooks)\n  File \"C:\\Users\\Minh Tri\\Anaconda3\\lib\\site-packages\\tensorflow\\contrib\\learn\\python\\learn\\estimators\\estimator.py\", line 1041, in _train_model\n    model_fn_ops = self._get_train_ops(features, labels)\n  File \"C:\\Users\\Minh Tri\\Anaconda3\\lib\\site-packages\\tensorflow\\contrib\\learn\\python\\learn\\estimators\\estimator.py\", line 1264, in _get_train_ops\n    return self._call_model_fn(features, labels, model_fn_lib.ModeKeys.TRAIN)\n  File \"C:\\Users\\Minh Tri\\Anaconda3\\lib\\site-packages\\tensorflow\\contrib\\learn\\python\\learn\\estimators\\estimator.py\", line 1227, in _call_model_fn\n    model_fn_results = self._model_fn(features, labels, **kwargs)\n  File \"C:\\Users\\Minh Tri\\Anaconda3\\lib\\site-packages\\tensorflow\\contrib\\learn\\python\\learn\\estimators\\dnn.py\", line 177, in _dnn_model_fn\n    scope=hidden_layer_scope)\n  File \"C:\\Users\\Minh Tri\\Anaconda3\\lib\\site-packages\\tensorflow\\contrib\\framework\\python\\ops\\arg_scope.py\", line 183, in func_with_args\n    return func(*args, **current_args)\n  File \"C:\\Users\\Minh Tri\\Anaconda3\\lib\\site-packages\\tensorflow\\contrib\\layers\\python\\layers\\layers.py\", line 1716, in fully_connected\n    outputs = layer.apply(inputs)\n  File \"C:\\Users\\Minh Tri\\Anaconda3\\lib\\site-packages\\tensorflow\\python\\layers\\base.py\", line 828, in apply\n    return self.__call__(inputs, *args, **kwargs)\n  File \"C:\\Users\\Minh Tri\\Anaconda3\\lib\\site-packages\\tensorflow\\python\\layers\\base.py\", line 717, in __call__\n    outputs = self.call(inputs, *args, **kwargs)\n  File \"C:\\Users\\Minh Tri\\Anaconda3\\lib\\site-packages\\tensorflow\\python\\layers\\core.py\", line 163, in call\n    outputs = gen_math_ops.mat_mul(inputs, self.kernel)\n  File \"C:\\Users\\Minh Tri\\Anaconda3\\lib\\site-packages\\tensorflow\\python\\ops\\gen_math_ops.py\", line 4567, in mat_mul\n    name=name)\n  File \"C:\\Users\\Minh Tri\\Anaconda3\\lib\\site-packages\\tensorflow\\python\\framework\\op_def_library.py\", line 787, in _apply_op_helper\n    op_def=op_def)\n  File \"C:\\Users\\Minh Tri\\Anaconda3\\lib\\site-packages\\tensorflow\\python\\framework\\ops.py\", line 3392, in create_op\n    op_def=op_def)\n  File \"C:\\Users\\Minh Tri\\Anaconda3\\lib\\site-packages\\tensorflow\\python\\framework\\ops.py\", line 1718, in __init__\n    self._traceback = self._graph._extract_stack()  # pylint: disable=protected-access\n\nInternalError (see above for traceback): Blas GEMM launch failed : a.shape=(32, 56), b.shape=(56, 45), m=32, n=45, k=56\n\t [[Node: dnn/hiddenlayer_0/MatMul = MatMul[T=DT_FLOAT, transpose_a=false, transpose_b=false, _device=\"/job:localhost/replica:0/task:0/device:GPU:0\"](ToFloat, dnn/hiddenlayer_0/weights/part_0/read)]]\n"
     ]
    }
   ],
   "source": [
    "classifier = skflow.DNNClassifier(hidden_units=[45, 25, 15], n_classes=6, feature_columns=[tf.contrib.layers.real_valued_column(\"\", dimension=X_train.shape[1])], optimizer='Adam')\n",
    "classifier.fit(X_train, y_train_encoded, steps=10000, batch_size=32)"
   ]
  },
  {
   "cell_type": "code",
   "execution_count": null,
   "metadata": {},
   "outputs": [],
   "source": [
    "tmp = list(classifier.predict(X_test, as_iterable=True))\n",
    "score = metrics.accuracy_score(y_test_encoded.ravel(), tmp)\n",
    "print(score)"
   ]
  },
  {
   "cell_type": "code",
   "execution_count": null,
   "metadata": {},
   "outputs": [],
   "source": [
    "tmp\n"
   ]
  },
  {
   "cell_type": "code",
   "execution_count": null,
   "metadata": {},
   "outputs": [],
   "source": [
    "compute_performance_from_predictions(y_test_encoded.ravel(), tmp)"
   ]
  },
  {
   "cell_type": "code",
   "execution_count": 65,
   "metadata": {},
   "outputs": [
    {
     "data": {
      "text/plain": [
       "numpy.ndarray"
      ]
     },
     "execution_count": 65,
     "metadata": {},
     "output_type": "execute_result"
    }
   ],
   "source": [
    "type(y_test_encoded)"
   ]
  },
  {
   "cell_type": "code",
   "execution_count": 66,
   "metadata": {},
   "outputs": [
    {
     "data": {
      "text/plain": [
       "(20482, 56)"
      ]
     },
     "execution_count": 66,
     "metadata": {},
     "output_type": "execute_result"
    }
   ],
   "source": [
    "X_train.shape"
   ]
  },
  {
   "cell_type": "code",
   "execution_count": 2,
   "metadata": {},
   "outputs": [],
   "source": [
    "feature_importance = ['words', 'letters.all', 'syllables', 'punct', 'DRP', 'Fucks', 'Wheeler.Smith', 'text', 'MTLD', \"Yule's K\"]"
   ]
  },
  {
   "cell_type": "code",
   "execution_count": 5,
   "metadata": {},
   "outputs": [
    {
     "ename": "NameError",
     "evalue": "name 'pd' is not defined",
     "output_type": "error",
     "traceback": [
      "\u001b[1;31m---------------------------------------------------------------------------\u001b[0m",
      "\u001b[1;31mNameError\u001b[0m                                 Traceback (most recent call last)",
      "\u001b[1;32m<ipython-input-5-2337d7da5ae8>\u001b[0m in \u001b[0;36m<module>\u001b[1;34m()\u001b[0m\n\u001b[1;32m----> 1\u001b[1;33m \u001b[0mpd\u001b[0m\u001b[1;33m\u001b[0m\u001b[0m\n\u001b[0m",
      "\u001b[1;31mNameError\u001b[0m: name 'pd' is not defined"
     ]
    }
   ],
   "source": [
    "pd"
   ]
  },
  {
   "cell_type": "code",
   "execution_count": 3,
   "metadata": {},
   "outputs": [
    {
     "ename": "NameError",
     "evalue": "name 'df' is not defined",
     "output_type": "error",
     "traceback": [
      "\u001b[1;31m---------------------------------------------------------------------------\u001b[0m",
      "\u001b[1;31mNameError\u001b[0m                                 Traceback (most recent call last)",
      "\u001b[1;32m<ipython-input-3-295fd50e7a19>\u001b[0m in \u001b[0;36m<module>\u001b[1;34m()\u001b[0m\n\u001b[1;32m----> 1\u001b[1;33m \u001b[0mdf_x_feat_imp\u001b[0m \u001b[1;33m=\u001b[0m \u001b[0mdf\u001b[0m\u001b[1;33m[\u001b[0m\u001b[0mfeature_importance\u001b[0m\u001b[1;33m]\u001b[0m\u001b[1;33m\u001b[0m\u001b[0m\n\u001b[0m\u001b[0;32m      2\u001b[0m \u001b[0mdf_x_feat_imp\u001b[0m \u001b[1;33m=\u001b[0m \u001b[0mStandardScaler\u001b[0m\u001b[1;33m(\u001b[0m\u001b[1;33m)\u001b[0m\u001b[1;33m.\u001b[0m\u001b[0mfit_transform\u001b[0m\u001b[1;33m(\u001b[0m\u001b[0mdf_x_feat_imp\u001b[0m\u001b[1;33m)\u001b[0m\u001b[1;33m\u001b[0m\u001b[0m\n\u001b[0;32m      3\u001b[0m \u001b[0mX_train\u001b[0m\u001b[1;33m,\u001b[0m \u001b[0mX_test\u001b[0m\u001b[1;33m,\u001b[0m \u001b[0my_train\u001b[0m\u001b[1;33m,\u001b[0m \u001b[0my_test\u001b[0m \u001b[1;33m=\u001b[0m \u001b[0mtrain_test_split\u001b[0m\u001b[1;33m(\u001b[0m\u001b[0mdf_x_feat_imp\u001b[0m\u001b[1;33m,\u001b[0m \u001b[0my\u001b[0m\u001b[1;33m,\u001b[0m \u001b[0mrandom_state\u001b[0m \u001b[1;33m=\u001b[0m \u001b[1;36m0\u001b[0m\u001b[1;33m)\u001b[0m\u001b[1;33m\u001b[0m\u001b[0m\n\u001b[0;32m      4\u001b[0m \u001b[0my_train_encoded\u001b[0m \u001b[1;33m=\u001b[0m \u001b[0mlabel_encoder\u001b[0m\u001b[1;33m.\u001b[0m\u001b[0mfit_transform\u001b[0m\u001b[1;33m(\u001b[0m\u001b[0my_train\u001b[0m\u001b[1;33m.\u001b[0m\u001b[0mflatten\u001b[0m\u001b[1;33m(\u001b[0m\u001b[1;33m)\u001b[0m\u001b[1;33m)\u001b[0m\u001b[1;33m\u001b[0m\u001b[0m\n\u001b[0;32m      5\u001b[0m \u001b[0my_test_encoded\u001b[0m \u001b[1;33m=\u001b[0m \u001b[0mlabel_encoder\u001b[0m\u001b[1;33m.\u001b[0m\u001b[0mfit_transform\u001b[0m\u001b[1;33m(\u001b[0m\u001b[0my_test\u001b[0m\u001b[1;33m.\u001b[0m\u001b[0mflatten\u001b[0m\u001b[1;33m(\u001b[0m\u001b[1;33m)\u001b[0m\u001b[1;33m)\u001b[0m\u001b[1;33m\u001b[0m\u001b[0m\n",
      "\u001b[1;31mNameError\u001b[0m: name 'df' is not defined"
     ]
    }
   ],
   "source": [
    "df_x_feat_imp = df[feature_importance]\n",
    "df_x_feat_imp = StandardScaler().fit_transform(df_x_feat_imp)\n",
    "df_list = get_\n",
    "X_train, X_test, y_train, y_test = train_test_split(df_x_feat_imp, y, random_state = 0)\n",
    "y_train_encoded = label_encoder.fit_transform(y_train.flatten())\n",
    "y_test_encoded = label_encoder.fit_transform(y_test.flatten())"
   ]
  },
  {
   "cell_type": "code",
   "execution_count": 133,
   "metadata": {},
   "outputs": [
    {
     "name": "stdout",
     "output_type": "stream",
     "text": [
      "INFO:tensorflow:Using default config.\n",
      "WARNING:tensorflow:Using temporary folder as model directory: C:\\Users\\MINHTR~1\\AppData\\Local\\Temp\\tmpkedt1m_6\n",
      "INFO:tensorflow:Using config: {'_task_type': None, '_task_id': 0, '_cluster_spec': <tensorflow.python.training.server_lib.ClusterSpec object at 0x000001DDF2906C50>, '_master': '', '_num_ps_replicas': 0, '_num_worker_replicas': 0, '_environment': 'local', '_is_chief': True, '_evaluation_master': '', '_train_distribute': None, '_tf_config': gpu_options {\n",
      "  per_process_gpu_memory_fraction: 1.0\n",
      "}\n",
      ", '_tf_random_seed': None, '_save_summary_steps': 100, '_save_checkpoints_secs': 600, '_log_step_count_steps': 100, '_session_config': None, '_save_checkpoints_steps': None, '_keep_checkpoint_max': 5, '_keep_checkpoint_every_n_hours': 10000, '_model_dir': 'C:\\\\Users\\\\MINHTR~1\\\\AppData\\\\Local\\\\Temp\\\\tmpkedt1m_6'}\n",
      "WARNING:tensorflow:float64 is not supported by many models, consider casting to float32.\n",
      "INFO:tensorflow:Create CheckpointSaverHook.\n",
      "INFO:tensorflow:Graph was finalized.\n",
      "INFO:tensorflow:Running local_init_op.\n",
      "INFO:tensorflow:Done running local_init_op.\n",
      "INFO:tensorflow:Saving checkpoints for 1 into C:\\Users\\MINHTR~1\\AppData\\Local\\Temp\\tmpkedt1m_6\\model.ckpt.\n",
      "INFO:tensorflow:loss = 1.7575951, step = 0\n",
      "INFO:tensorflow:global_step/sec: 389.854\n",
      "INFO:tensorflow:loss = 0.85436213, step = 100 (0.258 sec)\n",
      "INFO:tensorflow:global_step/sec: 440.328\n",
      "INFO:tensorflow:loss = 0.83665735, step = 200 (0.228 sec)\n",
      "INFO:tensorflow:global_step/sec: 468.238\n",
      "INFO:tensorflow:loss = 0.6258614, step = 300 (0.213 sec)\n",
      "INFO:tensorflow:global_step/sec: 457.391\n",
      "INFO:tensorflow:loss = 0.69322467, step = 400 (0.220 sec)\n",
      "INFO:tensorflow:global_step/sec: 445.753\n",
      "INFO:tensorflow:loss = 0.6436676, step = 500 (0.223 sec)\n",
      "INFO:tensorflow:global_step/sec: 474.875\n",
      "INFO:tensorflow:loss = 0.6294552, step = 600 (0.211 sec)\n",
      "INFO:tensorflow:global_step/sec: 471.309\n",
      "INFO:tensorflow:loss = 0.44790897, step = 700 (0.212 sec)\n",
      "INFO:tensorflow:global_step/sec: 484.021\n",
      "INFO:tensorflow:loss = 0.63520026, step = 800 (0.206 sec)\n",
      "INFO:tensorflow:global_step/sec: 418.1\n",
      "INFO:tensorflow:loss = 0.50849116, step = 900 (0.240 sec)\n",
      "INFO:tensorflow:global_step/sec: 434.453\n",
      "INFO:tensorflow:loss = 0.5978151, step = 1000 (0.230 sec)\n",
      "INFO:tensorflow:global_step/sec: 428.964\n",
      "INFO:tensorflow:loss = 0.5816041, step = 1100 (0.233 sec)\n",
      "INFO:tensorflow:global_step/sec: 452.295\n",
      "INFO:tensorflow:loss = 0.69522864, step = 1200 (0.223 sec)\n",
      "INFO:tensorflow:global_step/sec: 436.489\n",
      "INFO:tensorflow:loss = 0.63423294, step = 1300 (0.228 sec)\n",
      "INFO:tensorflow:global_step/sec: 467.134\n",
      "INFO:tensorflow:loss = 0.521244, step = 1400 (0.214 sec)\n",
      "INFO:tensorflow:global_step/sec: 442.282\n",
      "INFO:tensorflow:loss = 0.7138599, step = 1500 (0.226 sec)\n",
      "INFO:tensorflow:global_step/sec: 451.129\n",
      "INFO:tensorflow:loss = 0.49612868, step = 1600 (0.222 sec)\n",
      "INFO:tensorflow:global_step/sec: 367.889\n",
      "INFO:tensorflow:loss = 0.47653174, step = 1700 (0.272 sec)\n",
      "INFO:tensorflow:global_step/sec: 350.561\n",
      "INFO:tensorflow:loss = 0.5895118, step = 1800 (0.285 sec)\n",
      "INFO:tensorflow:global_step/sec: 407.91\n",
      "INFO:tensorflow:loss = 0.55367255, step = 1900 (0.245 sec)\n",
      "INFO:tensorflow:global_step/sec: 488.851\n",
      "INFO:tensorflow:loss = 0.67134655, step = 2000 (0.205 sec)\n",
      "INFO:tensorflow:global_step/sec: 501.177\n",
      "INFO:tensorflow:loss = 0.5311699, step = 2100 (0.200 sec)\n",
      "INFO:tensorflow:global_step/sec: 453.923\n",
      "INFO:tensorflow:loss = 0.5423261, step = 2200 (0.221 sec)\n",
      "INFO:tensorflow:global_step/sec: 384.347\n",
      "INFO:tensorflow:loss = 0.44272482, step = 2300 (0.261 sec)\n",
      "INFO:tensorflow:global_step/sec: 397.298\n",
      "INFO:tensorflow:loss = 0.5156548, step = 2400 (0.251 sec)\n",
      "INFO:tensorflow:global_step/sec: 393.345\n",
      "INFO:tensorflow:loss = 0.63370425, step = 2500 (0.254 sec)\n",
      "INFO:tensorflow:global_step/sec: 470.591\n",
      "INFO:tensorflow:loss = 0.55886376, step = 2600 (0.213 sec)\n",
      "INFO:tensorflow:global_step/sec: 485.251\n",
      "INFO:tensorflow:loss = 0.4526006, step = 2700 (0.206 sec)\n",
      "INFO:tensorflow:global_step/sec: 469.284\n",
      "INFO:tensorflow:loss = 0.5467596, step = 2800 (0.213 sec)\n",
      "INFO:tensorflow:global_step/sec: 486.281\n",
      "INFO:tensorflow:loss = 0.48020244, step = 2900 (0.207 sec)\n",
      "INFO:tensorflow:global_step/sec: 474.085\n",
      "INFO:tensorflow:loss = 0.3813003, step = 3000 (0.210 sec)\n",
      "INFO:tensorflow:global_step/sec: 466.051\n",
      "INFO:tensorflow:loss = 0.4481095, step = 3100 (0.215 sec)\n",
      "INFO:tensorflow:global_step/sec: 467.164\n",
      "INFO:tensorflow:loss = 0.5367011, step = 3200 (0.214 sec)\n",
      "INFO:tensorflow:global_step/sec: 469.335\n",
      "INFO:tensorflow:loss = 0.6732048, step = 3300 (0.213 sec)\n",
      "INFO:tensorflow:global_step/sec: 474.923\n",
      "INFO:tensorflow:loss = 0.58348507, step = 3400 (0.211 sec)\n",
      "INFO:tensorflow:global_step/sec: 466.048\n",
      "INFO:tensorflow:loss = 0.6637628, step = 3500 (0.215 sec)\n",
      "INFO:tensorflow:global_step/sec: 461.96\n",
      "INFO:tensorflow:loss = 0.48472905, step = 3600 (0.216 sec)\n",
      "INFO:tensorflow:global_step/sec: 472.673\n",
      "INFO:tensorflow:loss = 0.61167145, step = 3700 (0.211 sec)\n",
      "INFO:tensorflow:global_step/sec: 477.328\n",
      "INFO:tensorflow:loss = 0.5091755, step = 3800 (0.209 sec)\n",
      "INFO:tensorflow:global_step/sec: 478.342\n",
      "INFO:tensorflow:loss = 0.6646719, step = 3900 (0.210 sec)\n",
      "INFO:tensorflow:global_step/sec: 477.053\n",
      "INFO:tensorflow:loss = 0.5099498, step = 4000 (0.209 sec)\n",
      "INFO:tensorflow:global_step/sec: 462.798\n",
      "INFO:tensorflow:loss = 0.57561576, step = 4100 (0.217 sec)\n",
      "INFO:tensorflow:global_step/sec: 474.939\n",
      "INFO:tensorflow:loss = 0.74767375, step = 4200 (0.211 sec)\n",
      "INFO:tensorflow:global_step/sec: 479.494\n",
      "INFO:tensorflow:loss = 0.5396649, step = 4300 (0.209 sec)\n",
      "INFO:tensorflow:global_step/sec: 481.725\n",
      "INFO:tensorflow:loss = 0.35731393, step = 4400 (0.208 sec)\n",
      "INFO:tensorflow:global_step/sec: 477.205\n",
      "INFO:tensorflow:loss = 0.45487562, step = 4500 (0.210 sec)\n",
      "INFO:tensorflow:global_step/sec: 472.657\n",
      "INFO:tensorflow:loss = 0.45157725, step = 4600 (0.212 sec)\n",
      "INFO:tensorflow:global_step/sec: 484.091\n",
      "INFO:tensorflow:loss = 0.460018, step = 4700 (0.207 sec)\n",
      "INFO:tensorflow:global_step/sec: 480.668\n",
      "INFO:tensorflow:loss = 0.5938964, step = 4800 (0.208 sec)\n",
      "INFO:tensorflow:global_step/sec: 469.864\n",
      "INFO:tensorflow:loss = 0.5903928, step = 4900 (0.212 sec)\n",
      "INFO:tensorflow:global_step/sec: 472.537\n",
      "INFO:tensorflow:loss = 0.58133227, step = 5000 (0.213 sec)\n",
      "INFO:tensorflow:global_step/sec: 464.963\n",
      "INFO:tensorflow:loss = 0.41858524, step = 5100 (0.215 sec)\n",
      "INFO:tensorflow:global_step/sec: 475.916\n",
      "INFO:tensorflow:loss = 0.74736774, step = 5200 (0.210 sec)\n",
      "INFO:tensorflow:global_step/sec: 470.319\n",
      "INFO:tensorflow:loss = 0.5294981, step = 5300 (0.214 sec)\n",
      "INFO:tensorflow:global_step/sec: 472.34\n",
      "INFO:tensorflow:loss = 0.4436001, step = 5400 (0.211 sec)\n",
      "INFO:tensorflow:global_step/sec: 456.45\n",
      "INFO:tensorflow:loss = 0.54191035, step = 5500 (0.220 sec)\n",
      "INFO:tensorflow:global_step/sec: 471.425\n",
      "INFO:tensorflow:loss = 0.47089392, step = 5600 (0.211 sec)\n",
      "INFO:tensorflow:global_step/sec: 472.679\n",
      "INFO:tensorflow:loss = 0.67461, step = 5700 (0.212 sec)\n",
      "INFO:tensorflow:global_step/sec: 475.617\n",
      "INFO:tensorflow:loss = 0.66318184, step = 5800 (0.211 sec)\n",
      "INFO:tensorflow:global_step/sec: 461.238\n",
      "INFO:tensorflow:loss = 0.5290434, step = 5900 (0.217 sec)\n",
      "INFO:tensorflow:global_step/sec: 475.737\n",
      "INFO:tensorflow:loss = 0.46775046, step = 6000 (0.210 sec)\n",
      "INFO:tensorflow:global_step/sec: 468.525\n",
      "INFO:tensorflow:loss = 0.6032289, step = 6100 (0.213 sec)\n",
      "INFO:tensorflow:global_step/sec: 478.342\n",
      "INFO:tensorflow:loss = 0.3182261, step = 6200 (0.210 sec)\n",
      "INFO:tensorflow:global_step/sec: 478.19\n",
      "INFO:tensorflow:loss = 0.5137603, step = 6300 (0.210 sec)\n",
      "INFO:tensorflow:global_step/sec: 469.269\n",
      "INFO:tensorflow:loss = 0.43351114, step = 6400 (0.212 sec)\n",
      "INFO:tensorflow:global_step/sec: 463.944\n",
      "INFO:tensorflow:loss = 0.43282738, step = 6500 (0.216 sec)\n",
      "INFO:tensorflow:global_step/sec: 468.11\n",
      "INFO:tensorflow:loss = 0.5438267, step = 6600 (0.213 sec)\n",
      "INFO:tensorflow:global_step/sec: 469.338\n",
      "INFO:tensorflow:loss = 0.42826885, step = 6700 (0.213 sec)\n",
      "INFO:tensorflow:global_step/sec: 470.495\n",
      "INFO:tensorflow:loss = 0.43995246, step = 6800 (0.212 sec)\n",
      "INFO:tensorflow:global_step/sec: 468.238\n",
      "INFO:tensorflow:loss = 0.5955408, step = 6900 (0.214 sec)\n",
      "INFO:tensorflow:global_step/sec: 479.488\n",
      "INFO:tensorflow:loss = 0.6486289, step = 7000 (0.209 sec)\n",
      "INFO:tensorflow:global_step/sec: 483.543\n",
      "INFO:tensorflow:loss = 0.45116144, step = 7100 (0.207 sec)\n",
      "INFO:tensorflow:global_step/sec: 476.085\n",
      "INFO:tensorflow:loss = 0.41522458, step = 7200 (0.210 sec)\n",
      "INFO:tensorflow:global_step/sec: 473.795\n",
      "INFO:tensorflow:loss = 0.573295, step = 7300 (0.211 sec)\n",
      "INFO:tensorflow:global_step/sec: 456.275\n",
      "INFO:tensorflow:loss = 0.40424797, step = 7400 (0.219 sec)\n",
      "INFO:tensorflow:global_step/sec: 492.395\n",
      "INFO:tensorflow:loss = 0.5239004, step = 7500 (0.203 sec)\n",
      "INFO:tensorflow:global_step/sec: 497.338\n",
      "INFO:tensorflow:loss = 0.6945478, step = 7600 (0.201 sec)\n",
      "INFO:tensorflow:global_step/sec: 488.546\n",
      "INFO:tensorflow:loss = 0.61753017, step = 7700 (0.205 sec)\n",
      "INFO:tensorflow:global_step/sec: 470.784\n",
      "INFO:tensorflow:loss = 0.5226226, step = 7800 (0.212 sec)\n",
      "INFO:tensorflow:global_step/sec: 468.231\n",
      "INFO:tensorflow:loss = 0.6293899, step = 7900 (0.214 sec)\n",
      "INFO:tensorflow:global_step/sec: 475.699\n",
      "INFO:tensorflow:loss = 0.38876748, step = 8000 (0.210 sec)\n",
      "INFO:tensorflow:global_step/sec: 474.916\n",
      "INFO:tensorflow:loss = 0.42293298, step = 8100 (0.211 sec)\n",
      "INFO:tensorflow:global_step/sec: 486.377\n",
      "INFO:tensorflow:loss = 0.5189588, step = 8200 (0.206 sec)\n",
      "INFO:tensorflow:global_step/sec: 421.668\n",
      "INFO:tensorflow:loss = 0.48843932, step = 8300 (0.238 sec)\n",
      "INFO:tensorflow:global_step/sec: 421.708\n",
      "INFO:tensorflow:loss = 0.5378746, step = 8400 (0.237 sec)\n",
      "INFO:tensorflow:global_step/sec: 445.242\n",
      "INFO:tensorflow:loss = 0.566039, step = 8500 (0.225 sec)\n",
      "INFO:tensorflow:global_step/sec: 475.982\n",
      "INFO:tensorflow:loss = 0.46773094, step = 8600 (0.211 sec)\n",
      "INFO:tensorflow:global_step/sec: 436.473\n",
      "INFO:tensorflow:loss = 0.56893635, step = 8700 (0.229 sec)\n",
      "INFO:tensorflow:global_step/sec: 430.77\n",
      "INFO:tensorflow:loss = 0.62352335, step = 8800 (0.232 sec)\n",
      "INFO:tensorflow:global_step/sec: 428.965\n",
      "INFO:tensorflow:loss = 0.5748527, step = 8900 (0.234 sec)\n",
      "INFO:tensorflow:global_step/sec: 431.688\n",
      "INFO:tensorflow:loss = 0.6591021, step = 9000 (0.231 sec)\n",
      "INFO:tensorflow:global_step/sec: 430.816\n",
      "INFO:tensorflow:loss = 0.5912583, step = 9100 (0.232 sec)\n",
      "INFO:tensorflow:global_step/sec: 415.556\n",
      "INFO:tensorflow:loss = 0.52821356, step = 9200 (0.241 sec)\n",
      "INFO:tensorflow:global_step/sec: 484.665\n",
      "INFO:tensorflow:loss = 0.5309872, step = 9300 (0.206 sec)\n",
      "INFO:tensorflow:global_step/sec: 479.647\n",
      "INFO:tensorflow:loss = 0.49864882, step = 9400 (0.209 sec)\n",
      "INFO:tensorflow:global_step/sec: 485.24\n",
      "INFO:tensorflow:loss = 0.4352841, step = 9500 (0.205 sec)\n",
      "INFO:tensorflow:global_step/sec: 476.271\n",
      "INFO:tensorflow:loss = 0.5203138, step = 9600 (0.210 sec)\n",
      "INFO:tensorflow:global_step/sec: 478.283\n",
      "INFO:tensorflow:loss = 0.58346415, step = 9700 (0.209 sec)\n",
      "INFO:tensorflow:global_step/sec: 492.511\n",
      "INFO:tensorflow:loss = 0.5571326, step = 9800 (0.203 sec)\n",
      "INFO:tensorflow:global_step/sec: 482.584\n",
      "INFO:tensorflow:loss = 0.55701494, step = 9900 (0.208 sec)\n",
      "INFO:tensorflow:Saving checkpoints for 10000 into C:\\Users\\MINHTR~1\\AppData\\Local\\Temp\\tmpkedt1m_6\\model.ckpt.\n",
      "INFO:tensorflow:Loss for final step: 0.67879295.\n"
     ]
    },
    {
     "data": {
      "text/plain": [
       "DNNClassifier(params={'head': <tensorflow.contrib.learn.python.learn.estimators.head._MultiClassHead object at 0x000001DDF29067F0>, 'hidden_units': [45, 45, 25, 15], 'feature_columns': (_RealValuedColumn(column_name='', dimension=10, default_value=None, dtype=tf.float32, normalizer=None),), 'optimizer': None, 'activation_fn': <function relu at 0x000001DC3C06B6A8>, 'dropout': None, 'gradient_clip_norm': None, 'embedding_lr_multipliers': None, 'input_layer_min_slice_size': None})"
      ]
     },
     "execution_count": 133,
     "metadata": {},
     "output_type": "execute_result"
    }
   ],
   "source": [
    "classifier = skflow.DNNClassifier(hidden_units=[45, 45, 25, 15], n_classes=6, feature_columns=[tf.contrib.layers.real_valued_column(\"\", dimension=X_train.shape[1])])\n",
    "classifier.fit(X_train, y_train_encoded, steps=10000, batch_size=64)"
   ]
  },
  {
   "cell_type": "code",
   "execution_count": 134,
   "metadata": {},
   "outputs": [
    {
     "name": "stdout",
     "output_type": "stream",
     "text": [
      "WARNING:tensorflow:float64 is not supported by many models, consider casting to float32.\n",
      "INFO:tensorflow:Graph was finalized.\n",
      "INFO:tensorflow:Restoring parameters from C:\\Users\\MINHTR~1\\AppData\\Local\\Temp\\tmpkedt1m_6\\model.ckpt-10000\n",
      "INFO:tensorflow:Running local_init_op.\n",
      "INFO:tensorflow:Done running local_init_op.\n",
      "0.8063854715875806\n"
     ]
    },
    {
     "data": {
      "text/plain": [
       "0.4046572934973638"
      ]
     },
     "execution_count": 134,
     "metadata": {},
     "output_type": "execute_result"
    }
   ],
   "source": [
    "tmp = list(classifier.predict(X_test, as_iterable=True))\n",
    "score = metrics.accuracy_score(y_test_encoded, tmp)\n",
    "print(score)\n",
    "compute_performance_from_predictions(y_test_encoded, tmp)"
   ]
  },
  {
   "cell_type": "code",
   "execution_count": null,
   "metadata": {},
   "outputs": [],
   "source": []
  },
  {
   "cell_type": "code",
   "execution_count": null,
   "metadata": {},
   "outputs": [],
   "source": []
  },
  {
   "cell_type": "code",
   "execution_count": null,
   "metadata": {},
   "outputs": [],
   "source": []
  },
  {
   "cell_type": "code",
   "execution_count": 14,
   "metadata": {},
   "outputs": [
    {
     "name": "stdout",
     "output_type": "stream",
     "text": [
      "The following commands were written to file `nnet_23-06-18.py`:\n",
      "\n",
      "get_ipython().run_line_magic('load', 'nnet_23-06-18')\n",
      "feature_importance = ['words', 'letters.all', 'syllables', 'punct', 'DRP', 'Fucks', 'Wheeler.Smith', 'text', 'MTLD', \"Yule's K\"]\n",
      "df_x_feat_imp = df[feature_importance]\n",
      "df_x_feat_imp = StandardScaler().fit_transform(df_x_feat_imp)\n",
      "X_train, X_test, y_train, y_test = train_test_split(df_x_feat_imp, y, random_state = 0)\n",
      "y_train_encoded = label_encoder.fit_transform(y_train.flatten())\n",
      "y_test_encoded = label_encoder.fit_transform(y_test.flatten())\n",
      "get_ipython().run_line_magic('load', 'nnet_23-06-18')\n",
      "# get_ipython().run_line_magic('save', 'nnet_23-06-18')\n",
      "pd\n",
      "get_ipython().run_line_magic('load', 'nnet_23-06-18.py')\n",
      "# get_ipython().run_line_magic('save', 'nnet_23-06-18')\n",
      "pd\n",
      "get_ipython().run_line_magic('load', 'nnet_23-06-18.py')\n",
      "# get_ipython().run_line_magic('save', 'nnet_23-06-18')\n",
      "get_ipython().run_line_magic('load', 'nnet_23_06_18.py')\n",
      "# get_ipython().run_line_magic('save', 'nnet_23-06-18')\n",
      "pd\n",
      "# %load nnet_23_06_18.py\n",
      "get_ipython().run_line_magic('load', 'nnet_23-06-18')\n",
      "# %load nnet_23_06_18.py\n",
      "get_ipython().run_line_magic('save', 'nnet_23-06-18')\n",
      "# %load nnet_23_06_18.py\n",
      "get_ipython().run_line_magic('save', 'nnet_23_06_18')\n",
      "get_ipython().run_line_magic('save', 'nnet_23-06-18 0-87')\n"
     ]
    }
   ],
   "source": [
    "%save nnet_23-06-18 0-87"
   ]
  },
  {
   "cell_type": "code",
   "execution_count": 13,
   "metadata": {},
   "outputs": [
    {
     "name": "stdout",
     "output_type": "stream",
     "text": [
      "Operation cancelled.\n"
     ]
    }
   ],
   "source": [
    "# %load nnet_23_06_18.py\n",
    "get_ipython().run_line_magic('save', 'nnet_23_06_18')\n"
   ]
  },
  {
   "cell_type": "code",
   "execution_count": 10,
   "metadata": {},
   "outputs": [
    {
     "ename": "NameError",
     "evalue": "name 'pd' is not defined",
     "output_type": "error",
     "traceback": [
      "\u001b[1;31m---------------------------------------------------------------------------\u001b[0m",
      "\u001b[1;31mNameError\u001b[0m                                 Traceback (most recent call last)",
      "\u001b[1;32m<ipython-input-10-2337d7da5ae8>\u001b[0m in \u001b[0;36m<module>\u001b[1;34m()\u001b[0m\n\u001b[1;32m----> 1\u001b[1;33m \u001b[0mpd\u001b[0m\u001b[1;33m\u001b[0m\u001b[0m\n\u001b[0m",
      "\u001b[1;31mNameError\u001b[0m: name 'pd' is not defined"
     ]
    }
   ],
   "source": [
    "pd"
   ]
  }
 ],
 "metadata": {
  "kernelspec": {
   "display_name": "Python 3",
   "language": "python",
   "name": "python3"
  },
  "language_info": {
   "codemirror_mode": {
    "name": "ipython",
    "version": 3
   },
   "file_extension": ".py",
   "mimetype": "text/x-python",
   "name": "python",
   "nbconvert_exporter": "python",
   "pygments_lexer": "ipython3",
   "version": "3.6.4"
  }
 },
 "nbformat": 4,
 "nbformat_minor": 2
}
